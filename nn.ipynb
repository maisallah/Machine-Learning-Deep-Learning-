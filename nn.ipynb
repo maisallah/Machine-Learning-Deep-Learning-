{
  "cells": [
    {
      "cell_type": "code",
      "execution_count": null,
      "metadata": {
        "scrolled": true,
        "id": "oOoeqpCT610F"
      },
      "outputs": [],
      "source": [
        "from math import exp\n",
        "from random import seed\n",
        "from random import random\n",
        "import numpy as np\n",
        "import matplotlib.pyplot as plt"
      ]
    },
    {
      "cell_type": "code",
      "execution_count": null,
      "metadata": {
        "scrolled": true,
        "id": "FGWt9IWo610K"
      },
      "outputs": [],
      "source": [
        "def generate_dataset(count, dimension):\n",
        "    dataset = np.zeros((count, dimension+1), dtype=int)\n",
        "    for i in range(count):\n",
        "        data = np.random.randint(0, 2, dimension)\n",
        "        label = 0 if (np.count_nonzero(data==0) % 2) == 0 else 1\n",
        "        dataset[i] = np.concatenate((data, np.array([label])))\n",
        "    return dataset\n",
        "\n",
        "# dataset = generate_dataset(10, 4)"
      ]
    },
    {
      "cell_type": "code",
      "execution_count": null,
      "metadata": {
        "scrolled": true,
        "id": "gXiq9FYt610M"
      },
      "outputs": [],
      "source": [
        "# Initialize a network\n",
        "def initialize_network(n_hidden_layers, n_neurons_in_layers):\n",
        "\tnetwork = list()\n",
        "\tfor i in range(n_hidden_layers + 1):\n",
        "\t\tlayer = [{'weights': np.random.rand(n_neurons_in_layers[i] + 1)} for j in range(n_neurons_in_layers[i+1])]\n",
        "\t\tnetwork.append(layer)\n",
        "\treturn np.array(network)\n",
        "\n",
        "# n_input = dataset.shape[0]\n",
        "# n_hidden = 4\n",
        "# n_neurons_in_layers = [10, 2, 3, 3, 2, 1]\n",
        "# network = initialize_network(n_input, 4, n_neurons_in_layers)"
      ]
    },
    {
      "cell_type": "code",
      "execution_count": null,
      "metadata": {
        "id": "m6XP3IO2610N"
      },
      "outputs": [],
      "source": [
        "def plot_graph(data):\n",
        "    plt.plot(data)\n",
        "    plt.xlabel(\"Epochs\")\n",
        "    plt.ylabel(\"Errors\")\n",
        "    plt.show()"
      ]
    },
    {
      "cell_type": "code",
      "execution_count": null,
      "metadata": {
        "scrolled": false,
        "id": "mj4wqH0x610O",
        "outputId": "1f3032be-5246-41c2-bea8-ac1b445dceb5"
      },
      "outputs": [
        {
          "name": "stderr",
          "output_type": "stream",
          "text": [
            "/Library/Python/3.7/site-packages/ipykernel_launcher.py:7: VisibleDeprecationWarning: Creating an ndarray from ragged nested sequences (which is a list-or-tuple of lists-or-tuples-or ndarrays with different lengths or shapes) is deprecated. If you meant to do this, you must specify 'dtype=object' when creating the ndarray\n",
            "  import sys\n"
          ]
        },
        {
          "data": {
            "image/png": "[encoded data removed]",
            "text/plain": [
              "<Figure size 432x288 with 1 Axes>"
            ]
          },
          "metadata": {
            "needs_background": "light"
          },
          "output_type": "display_data"
        }
      ],
      "source": [
        "# Calculate neuron activation for an input\n",
        "def activate(weights, inputs):\n",
        "\tactivation = weights[-1]\n",
        "\tfor i in range(len(weights)-1):\n",
        "\t\tactivation += weights[i] * inputs[i]\n",
        "\treturn activation\n",
        "\n",
        "# Transfer neuron activation\n",
        "def transfer(activation):\n",
        "\treturn 1.0 / (1.0 + exp(-activation))\n",
        "\n",
        "# Forward propagate input to a network output\n",
        "def forward_propagate(network, row):\n",
        "\tinputs = row\n",
        "\tfor layer in network:\n",
        "\t\tnew_inputs = []\n",
        "\t\tfor neuron in layer:\n",
        "\t\t\tactivation = activate(neuron['weights'], inputs)\n",
        "\t\t\tneuron['output'] = transfer(activation)\n",
        "\t\t\tnew_inputs.append(neuron['output'])\n",
        "\t\tinputs = new_inputs\n",
        "\treturn inputs\n",
        "\n",
        "# Calculate the derivative of an neuron output\n",
        "def transfer_derivative(output):\n",
        "\treturn output * (1.0 - output)\n",
        "\n",
        "# Backpropagate error and store in neurons\n",
        "def backward_propagate_error(network, expected):\n",
        "\tfor i in reversed(range(len(network))):\n",
        "\t\tlayer = network[i]\n",
        "\t\terrors = list()\n",
        "\t\tif i != len(network)-1:\n",
        "\t\t\tfor j in range(len(layer)):\n",
        "\t\t\t\terror = 0.0\n",
        "\t\t\t\tfor neuron in network[i + 1]:\n",
        "\t\t\t\t\terror += (neuron['weights'][j] * neuron['delta'])\n",
        "\t\t\t\terrors.append(error/len(network[i + 1]))\n",
        "\t\telse:\n",
        "\t\t\tfor j in range(len(layer)):\n",
        "\t\t\t\tneuron = layer[j]\n",
        "\t\t\t\terrors.append(expected[j] - neuron['output'])\n",
        "\t\tfor j in range(len(layer)):\n",
        "\t\t\tneuron = layer[j]\n",
        "\t\t\tneuron['delta'] = errors[j] * transfer_derivative(neuron['output'])\n",
        "\n",
        "# Update network weights with error\n",
        "def update_weights(network, row, l_rate):\n",
        "\tfor i in range(len(network)):\n",
        "\t\tinputs = row[:-1]\n",
        "\t\tif i != 0:\n",
        "\t\t\tinputs = [neuron['output'] for neuron in network[i - 1]]\n",
        "\t\tfor neuron in network[i]:\n",
        "\t\t\tfor j in range(len(inputs)):\n",
        "\t\t\t\tneuron['weights'][j] += l_rate * neuron['delta'] * inputs[j]\n",
        "\t\t\tneuron['weights'][-1] += l_rate * neuron['delta']\n",
        "\n",
        "accuracies = []\n",
        "# Train a network for a fixed number of epochs\n",
        "def train_network(network, train, l_rate, n_epoch, n_outputs):\n",
        "\terrors = []\n",
        "# \taccuracies = []\n",
        "\tfor epoch in range(n_epoch):\n",
        "\t\tsum_error = 0\n",
        "\t\tfor row in train:\n",
        "\t\t\toutputs = forward_propagate(network, row)\n",
        "\t\t\texpected = [row[-1]]\n",
        "# \t\t\texpected[row[-1]] = 1\n",
        "\t\t\tsum_error += sum([(expected[i]-outputs[i])**2 for i in range(len(expected))])\n",
        "\t\t\tbackward_propagate_error(network, expected)\n",
        "\t\t\tupdate_weights(network, row, l_rate)\n",
        "\t\terrors.append(sum_error/len(train))\n",
        "\t\tif epoch%5 == 0:\n",
        "\t\t\taccuracies.append(test_accuracy(1000))\n",
        "\tplot_graph(errors)\n",
        "# \tplot_graph(accuracies)\n",
        "# \t\tprint('>epoch=%d, lrate=%.3f, error=%.3f' % (epoch, l_rate, sum_error))\n",
        "\n",
        "# Test training backprop algorithm\n",
        "seed(1)\n",
        "n_input_neurons = 10\n",
        "n_output_neurons = 1\n",
        "n_neurons_in_layers = [n_input_neurons, 3, n_output_neurons]\n",
        "n_hidden_layers = len(n_neurons_in_layers) - 2\n",
        "n_training_data = 5000\n",
        "\n",
        "training = generate_dataset(n_training_data, n_input_neurons)\n",
        "network = initialize_network(n_hidden_layers, n_neurons_in_layers)\n",
        "\n",
        "learning_rate = 0.3\n",
        "n_epoch = 700\n",
        "train_network(network, training, learning_rate, n_epoch, n_output_neurons)"
      ]
    },
    {
      "cell_type": "code",
      "execution_count": null,
      "metadata": {
        "scrolled": true,
        "id": "Xi9ktM1I610Q",
        "outputId": "9538c5aa-2cb5-4a46-d76b-ab2b8a9bcfbf"
      },
      "outputs": [
        {
          "data": {
            "text/plain": [
              "87.6"
            ]
          },
          "execution_count": 14,
          "metadata": {},
          "output_type": "execute_result"
        }
      ],
      "source": [
        "# Make a prediction with a network\n",
        "def predict(network, row):\n",
        "\toutputs = forward_propagate(network, row)\n",
        "\treturn 1 if (outputs[0] >= 0.5) else 0\n",
        "\n",
        "def test_accuracy(n_test_data):\n",
        "\ttest = generate_dataset(n_test_data, n_input_neurons)\n",
        "\tn_correct = 0\n",
        "\tfor row in test:\n",
        "\t\tprediction = predict(network, row)\n",
        "\t\tif (prediction == row[-1]):\n",
        "\t\t\tn_correct = n_correct + 1      \n",
        "# \t\tprint('Expected=%d, Got=%d' % (row[-1], prediction))\n",
        "\taccuracy = (n_correct/n_test_data) * 100\n",
        "\taccuracy = round(accuracy, 2)\n",
        "# \tprint('Accuracy=%d' % accuracy)\n",
        "\treturn accuracy\n",
        "    \n",
        "test_accuracy(1000)"
      ]
    },
    {
      "cell_type": "code",
      "execution_count": null,
      "metadata": {
        "scrolled": true,
        "id": "kJNz_OBf610S",
        "outputId": "5b4251f7-d968-4fcc-ace4-dc98a59b6012"
      },
      "outputs": [
        {
          "data": {
            "image/png": "[encoded data removed]",
            "text/plain": [
              "<Figure size 432x288 with 1 Axes>"
            ]
          },
          "metadata": {
            "needs_background": "light"
          },
          "output_type": "display_data"
        }
      ],
      "source": [
        "plot_graph(accuracies)"
      ]
    },
    {
      "cell_type": "code",
      "execution_count": null,
      "metadata": {
        "id": "swreTHUs610S"
      },
      "outputs": [],
      "source": [
        ""
      ]
    },
    {
      "cell_type": "code",
      "execution_count": null,
      "metadata": {
        "id": "m6ZmHPCe610T"
      },
      "outputs": [],
      "source": [
        ""
      ]
    },
    {
      "cell_type": "code",
      "execution_count": null,
      "metadata": {
        "id": "rmWXab0j610U"
      },
      "outputs": [],
      "source": [
        ""
      ]
    }
  ],
  "metadata": {
    "kernelspec": {
      "display_name": "Python 3",
      "language": "python",
      "name": "python3"
    },
    "language_info": {
      "codemirror_mode": {
        "name": "ipython",
        "version": 3
      },
      "file_extension": ".py",
      "mimetype": "text/x-python",
      "name": "python",
      "nbconvert_exporter": "python",
      "pygments_lexer": "ipython3",
      "version": "3.7.3"
    },
    "colab": {
      "name": "nn.ipynb",
      "provenance": []
    }
  },
  "nbformat": 4,
  "nbformat_minor": 0
}