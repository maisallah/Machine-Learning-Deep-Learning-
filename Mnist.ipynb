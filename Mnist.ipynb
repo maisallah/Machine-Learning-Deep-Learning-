{
  "nbformat": 4,
  "nbformat_minor": 0,
  "metadata": {
    "colab": {
      "name": "Mnist.ipynb",
      "provenance": []
    },
    "kernelspec": {
      "name": "python3",
      "display_name": "Python 3"
    },
    "language_info": {
      "name": "python"
    }
  },
  "cells": [
    {
      "cell_type": "code",
      "metadata": {
        "id": "-r4BEsFABHBA"
      },
      "source": [
        "from keras.datasets import mnist\n",
        "from matplotlib import pyplot as plt"
      ],
      "execution_count": null,
      "outputs": []
    },
    {
      "cell_type": "code",
      "metadata": {
        "id": "qEYbuTDzBiHY"
      },
      "source": [
        "(Xtrain, Ytrain), (Xtest, Ytest) = mnist.load_data()"
      ],
      "execution_count": null,
      "outputs": []
    },
    {
      "cell_type": "code",
      "metadata": {
        "colab": {
          "base_uri": "https://localhost:8080/",
          "height": 282
        },
        "id": "LDa6MAycBnll",
        "outputId": "05ba3556-a946-49a8-bbc9-9ac73c0d631f"
      },
      "source": [
        "plt.imshow(Xtest[5])"
      ],
      "execution_count": null,
      "outputs": [
        {
          "output_type": "execute_result",
          "data": {
            "text/plain": [
              "<matplotlib.image.AxesImage at 0x7f00155ab890>"
            ]
          },
          "metadata": {
            "tags": []
          },
          "execution_count": 17
        },
        {
          "output_type": "display_data",
          "data": {
            "image/png": "[encoded data removed]",
            "text/plain": [
              "<Figure size 432x288 with 1 Axes>"
            ]
          },
          "metadata": {
            "tags": [],
            "needs_background": "light"
          }
        }
      ]
    },
    {
      "cell_type": "code",
      "metadata": {
        "id": "OcZDZjrxCz7T"
      },
      "source": [
        "from tensorflow.keras.utils import to_categorical\n"
      ],
      "execution_count": null,
      "outputs": []
    },
    {
      "cell_type": "code",
      "metadata": {
        "id": "x-w5sFKKB4jl"
      },
      "source": [
        "Xtrain=Xtrain.reshape(60000,28,28,1)\n",
        "Xtest=Xtest.reshape(10000,28,28,1)\n",
        "Ytrain=to_categorical(Ytrain)\n",
        "Ytest=to_categorical(Ytest)"
      ],
      "execution_count": null,
      "outputs": []
    },
    {
      "cell_type": "code",
      "metadata": {
        "id": "6sNh1xPqFBOT"
      },
      "source": [
        ""
      ],
      "execution_count": null,
      "outputs": []
    },
    {
      "cell_type": "markdown",
      "metadata": {
        "id": "8g_gQvv4DiMB"
      },
      "source": [
        "Neural Net\n"
      ]
    },
    {
      "cell_type": "code",
      "metadata": {
        "id": "8hb-8KBDFC7-"
      },
      "source": [
        "from keras.models import Sequential\n",
        "from keras.layers import Conv2D\n",
        "from keras.layers import Flatten\n",
        "from keras.layers import Dense\n",
        "from keras.optimizers import SGD"
      ],
      "execution_count": null,
      "outputs": []
    },
    {
      "cell_type": "code",
      "metadata": {
        "id": "CZZoq3q9CUl0"
      },
      "source": [
        "model = Sequential()\n",
        "model.add(Conv2D(64,(3,3),activation='relu', input_shape=(28,28,1)))\n",
        "model.add(Flatten())\n",
        "model.add(Dense(100,activation='relu'))\n",
        "model.add(Dense(10, activation='softmax'))"
      ],
      "execution_count": null,
      "outputs": []
    },
    {
      "cell_type": "markdown",
      "metadata": {
        "id": "u9V5j1VpFNDa"
      },
      "source": [
        "Compile\n"
      ]
    },
    {
      "cell_type": "code",
      "metadata": {
        "id": "CQCPKm9sFH0G"
      },
      "source": [
        "model.compile(optimizer=\"adam\",\n",
        "              loss=\"categorical_crossentropy\",\n",
        "              metrics=[\"accuracy\"])"
      ],
      "execution_count": null,
      "outputs": []
    },
    {
      "cell_type": "code",
      "metadata": {
        "colab": {
          "base_uri": "https://localhost:8080/"
        },
        "id": "wiazkg9lFue0",
        "outputId": "cee66b2d-b8a3-4bbe-9c76-4eb36e97f01f"
      },
      "source": [
        "model.fit(Xtrain,Ytrain, validation_data=(Xtest,Ytest), epochs=3)"
      ],
      "execution_count": null,
      "outputs": [
        {
          "output_type": "stream",
          "text": [
            "Epoch 1/3\n",
            "1875/1875 [==============================] - 136s 69ms/step - loss: 2.8476 - accuracy: 0.8946 - val_loss: 0.1144 - val_accuracy: 0.9667\n",
            "Epoch 2/3\n",
            "1875/1875 [==============================] - 132s 70ms/step - loss: 0.0675 - accuracy: 0.9800 - val_loss: 0.1054 - val_accuracy: 0.9715\n",
            "Epoch 3/3\n",
            "1875/1875 [==============================] - 146s 78ms/step - loss: 0.0459 - accuracy: 0.9862 - val_loss: 0.1511 - val_accuracy: 0.9647\n"
          ],
          "name": "stdout"
        },
        {
          "output_type": "execute_result",
          "data": {
            "text/plain": [
              "<keras.callbacks.History at 0x7f0015faa390>"
            ]
          },
          "metadata": {
            "tags": []
          },
          "execution_count": 23
        }
      ]
    },
    {
      "cell_type": "code",
      "metadata": {
        "colab": {
          "base_uri": "https://localhost:8080/"
        },
        "id": "QIQ5E_ZHhcLV",
        "outputId": "6a2e4947-4695-4ee5-83a0-d81345f8e6ab"
      },
      "source": [
        "_, acc = model.evaluate(Xtest, Ytest, verbose=1)\n",
        "print('> %.3f' % (acc * 100.0))"
      ],
      "execution_count": null,
      "outputs": [
        {
          "output_type": "stream",
          "text": [
            "313/313 [==============================] - 4s 13ms/step - loss: 0.1511 - accuracy: 0.9647\n",
            "> 96.470\n"
          ],
          "name": "stdout"
        }
      ]
    },
    {
      "cell_type": "code",
      "metadata": {
        "colab": {
          "base_uri": "https://localhost:8080/"
        },
        "id": "5yGxDAMFGHU_",
        "outputId": "d7e24c25-6512-4a53-e2e3-b8f15217d6c3"
      },
      "source": [
        "layer=1\n",
        "accuracies=[]\n",
        "while (layer <= 4):\n",
        "  print(\"number of layers: \",layer)\n",
        "  model = Sequential()\n",
        "\n",
        "  for i in range(0,layer):\n",
        "    model.add(Conv2D(64, kernel_size=3, activation='relu', input_shape=(28,28,1)))\n",
        "  \n",
        "  model.add(Flatten())\n",
        "  model.add(Dense(10, activation='softmax'))\n",
        "  model.compile(optimizer=\"adam\",\n",
        "              loss=\"categorical_crossentropy\",\n",
        "              metrics=[\"accuracy\"])\n",
        "  model.fit(Xtrain,Ytrain, validation_data=(Xtest,Ytest), epochs=3)\n",
        "  _, acc = model.evaluate(Xtest, Ytest, verbose=0)\n",
        "  accuracies.append(acc)\n",
        "  model=0\n",
        "  layer+=1"
      ],
      "execution_count": null,
      "outputs": [
        {
          "output_type": "stream",
          "text": [
            "number of layers:  1\n",
            "Epoch 1/3\n",
            "1875/1875 [==============================] - 87s 46ms/step - loss: 2.7956 - accuracy: 0.8981 - val_loss: 0.1235 - val_accuracy: 0.9659\n",
            "Epoch 2/3\n",
            "1875/1875 [==============================] - 93s 50ms/step - loss: 0.0716 - accuracy: 0.9784 - val_loss: 0.1169 - val_accuracy: 0.9701\n",
            "Epoch 3/3\n",
            "1875/1875 [==============================] - 96s 51ms/step - loss: 0.0480 - accuracy: 0.9846 - val_loss: 0.1357 - val_accuracy: 0.9658\n",
            "number of layers:  2\n",
            "Epoch 1/3\n",
            "1875/1875 [==============================] - 299s 159ms/step - loss: 0.8811 - accuracy: 0.9197 - val_loss: 0.0873 - val_accuracy: 0.9735\n",
            "Epoch 2/3\n",
            "1875/1875 [==============================] - 300s 160ms/step - loss: 0.0650 - accuracy: 0.9802 - val_loss: 0.0761 - val_accuracy: 0.9771\n",
            "Epoch 3/3\n",
            "1875/1875 [==============================] - 298s 159ms/step - loss: 0.0407 - accuracy: 0.9869 - val_loss: 0.0762 - val_accuracy: 0.9784\n",
            "number of layers:  3\n",
            "Epoch 1/3\n",
            "1875/1875 [==============================] - 505s 269ms/step - loss: 0.7970 - accuracy: 0.9148 - val_loss: 0.0830 - val_accuracy: 0.9753\n",
            "Epoch 2/3\n",
            "1875/1875 [==============================] - 487s 260ms/step - loss: 0.0632 - accuracy: 0.9800 - val_loss: 0.0681 - val_accuracy: 0.9799\n",
            "Epoch 3/3\n",
            "1875/1875 [==============================] - 488s 260ms/step - loss: 0.0435 - accuracy: 0.9867 - val_loss: 0.0656 - val_accuracy: 0.9804\n",
            "number of layers:  4\n",
            "Epoch 1/3\n",
            "1875/1875 [==============================] - 675s 360ms/step - loss: 0.5415 - accuracy: 0.9205 - val_loss: 0.0670 - val_accuracy: 0.9798\n",
            "Epoch 2/3\n",
            "1875/1875 [==============================] - 674s 359ms/step - loss: 0.0543 - accuracy: 0.9838 - val_loss: 0.0584 - val_accuracy: 0.9836\n",
            "Epoch 3/3\n",
            "1875/1875 [==============================] - 674s 360ms/step - loss: 0.0409 - accuracy: 0.9868 - val_loss: 0.0546 - val_accuracy: 0.9825\n"
          ],
          "name": "stdout"
        }
      ]
    },
    {
      "cell_type": "code",
      "metadata": {
        "id": "XrcnY2cJlLgc"
      },
      "source": [
        "import numpy as np"
      ],
      "execution_count": null,
      "outputs": []
    },
    {
      "cell_type": "code",
      "metadata": {
        "id": "FMBmwPFNkEzq"
      },
      "source": [
        "ac100 = np.array(accuracies) * 100.0"
      ],
      "execution_count": null,
      "outputs": []
    },
    {
      "cell_type": "code",
      "metadata": {
        "colab": {
          "base_uri": "https://localhost:8080/"
        },
        "id": "x4DaOQy0k9ac",
        "outputId": "1ba6638e-6ad5-4035-e74c-7f0d643f71f2"
      },
      "source": [
        "accuracies"
      ],
      "execution_count": null,
      "outputs": [
        {
          "output_type": "execute_result",
          "data": {
            "text/plain": [
              "[0.9657999873161316, 0.9783999919891357, 0.980400025844574, 0.9825000166893005]"
            ]
          },
          "metadata": {
            "tags": []
          },
          "execution_count": 43
        }
      ]
    },
    {
      "cell_type": "code",
      "metadata": {
        "colab": {
          "base_uri": "https://localhost:8080/",
          "height": 283
        },
        "id": "1EeED8zxlTzl",
        "outputId": "b0ec9032-35a4-4b56-a49f-a36de8d494c6"
      },
      "source": [
        "plt.plot([1,2,3,4],ac100)\n",
        "plt.xlabel(\"Number of layer\")\n",
        "plt.ylabel(\"accuracy\")\n",
        "plt.ylim(0,100)\n",
        "plt.show()"
      ],
      "execution_count": null,
      "outputs": [
        {
          "output_type": "display_data",
          "data": {
            "image/png": "[encoded data removed]",
            "text/plain": [
              "<Figure size 432x288 with 1 Axes>"
            ]
          },
          "metadata": {
            "tags": [],
            "needs_background": "light"
          }
        }
      ]
    },
    {
      "cell_type": "code",
      "metadata": {
        "id": "a8GOKDS-5QVo"
      },
      "source": [
        ""
      ],
      "execution_count": null,
      "outputs": []
    }
  ]
}