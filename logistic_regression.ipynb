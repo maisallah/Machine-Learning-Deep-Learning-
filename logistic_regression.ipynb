{
  "nbformat": 4,
  "nbformat_minor": 0,
  "metadata": {
    "kernelspec": {
      "display_name": "Python 3",
      "language": "python",
      "name": "python3"
    },
    "language_info": {
      "codemirror_mode": {
        "name": "ipython",
        "version": 3
      },
      "file_extension": ".py",
      "mimetype": "text/x-python",
      "name": "python",
      "nbconvert_exporter": "python",
      "pygments_lexer": "ipython3",
      "version": "3.7.3"
    },
    "colab": {
      "name": "logistic-regression.ipynb",
      "provenance": []
    }
  },
  "cells": [
    {
      "cell_type": "code",
      "metadata": {
        "id": "tuJn7bnyNQCx"
      },
      "source": [
        "import math\n",
        "from random import randrange\n",
        "import numpy as np\n",
        "import matplotlib.pyplot as plt\n",
        "from sklearn.linear_model import LogisticRegression\n",
        "from scipy.special import expit"
      ],
      "execution_count": null,
      "outputs": []
    },
    {
      "cell_type": "code",
      "metadata": {
        "id": "mectjqsHNQCy"
      },
      "source": [
        "def Sigmoid(x, a, b):\n",
        "    return 1/(1 + math.exp(-a*x - b))\n",
        "\n",
        "def getClass(probability):\n",
        "    return 1 if probability >= 0.5 else 0"
      ],
      "execution_count": null,
      "outputs": []
    },
    {
      "cell_type": "code",
      "metadata": {
        "id": "wmbx86MyNQCz"
      },
      "source": [
        "data = np.zeros(shape=(100, 1))\n",
        "labels = np.zeros(shape=(100, 1))\n",
        "for i in range(100):\n",
        "    data[i] = randrange(50)\n",
        "    labels[i] = getClass(Sigmoid(data[i], 0.25, -6))"
      ],
      "execution_count": null,
      "outputs": []
    },
    {
      "cell_type": "code",
      "metadata": {
        "scrolled": true,
        "id": "jaesDCTsNQCz",
        "colab": {
          "base_uri": "https://localhost:8080/",
          "height": 265
        },
        "outputId": "9c634e82-03ea-44f1-e6a5-73f4a1fc7a9e"
      },
      "source": [
        "plt.scatter(data, labels)\n",
        "plt.show()"
      ],
      "execution_count": null,
      "outputs": [
        {
          "output_type": "display_data",
          "data": {
            "image/png": "[encoded data removed]",
            "text/plain": [
              "<Figure size 432x288 with 1 Axes>"
            ]
          },
          "metadata": {
            "tags": [],
            "needs_background": "light"
          }
        }
      ]
    },
    {
      "cell_type": "code",
      "metadata": {
        "id": "FDVWOoaSNQC1",
        "colab": {
          "base_uri": "https://localhost:8080/"
        },
        "outputId": "f644ce17-b046-4f68-a79d-42e4b0fed952"
      },
      "source": [
        "epochs = 100\n",
        "l_rate = 0.01\n",
        "gd_weight = 0\n",
        "gd_bias = 0\n",
        "gd_errors = []\n",
        "for i in range(epochs):\n",
        "    prob = 1/(1 + np.exp(-gd_weight * data - gd_bias))\n",
        "    \n",
        "    error = labels - prob\n",
        "    pre1 = np.sum(error * data)/100\n",
        "\n",
        "    gd_weight = gd_weight + (l_rate * pre1)\n",
        "    gd_bias = gd_bias + (l_rate * (np.sum(error)/100))\n",
        "    gd_errors.append(abs(np.sum(error)/100))\n",
        "    print(\"epoch=%d, error=%.3f, weight=%.3f, bias=%.3f\" % (i, np.sum(error)/100, gd_weight, gd_bias))"
      ],
      "execution_count": null,
      "outputs": [
        {
          "output_type": "stream",
          "text": [
            "epoch=0, error=0.020, weight=0.070, bias=0.000\n",
            "epoch=1, error=-0.277, weight=0.047, bias=-0.003\n",
            "epoch=2, error=-0.213, weight=0.042, bias=-0.005\n",
            "epoch=3, error=-0.194, weight=0.042, bias=-0.007\n",
            "epoch=4, error=-0.196, weight=0.042, bias=-0.009\n",
            "epoch=5, error=-0.196, weight=0.042, bias=-0.011\n",
            "epoch=6, error=-0.195, weight=0.043, bias=-0.013\n",
            "epoch=7, error=-0.195, weight=0.043, bias=-0.014\n",
            "epoch=8, error=-0.195, weight=0.043, bias=-0.016\n",
            "epoch=9, error=-0.195, weight=0.043, bias=-0.018\n",
            "epoch=10, error=-0.195, weight=0.043, bias=-0.020\n",
            "epoch=11, error=-0.195, weight=0.043, bias=-0.022\n",
            "epoch=12, error=-0.195, weight=0.043, bias=-0.024\n",
            "epoch=13, error=-0.195, weight=0.043, bias=-0.026\n",
            "epoch=14, error=-0.194, weight=0.043, bias=-0.028\n",
            "epoch=15, error=-0.194, weight=0.043, bias=-0.030\n",
            "epoch=16, error=-0.194, weight=0.043, bias=-0.032\n",
            "epoch=17, error=-0.194, weight=0.043, bias=-0.034\n",
            "epoch=18, error=-0.194, weight=0.043, bias=-0.036\n",
            "epoch=19, error=-0.194, weight=0.043, bias=-0.038\n",
            "epoch=20, error=-0.194, weight=0.043, bias=-0.040\n",
            "epoch=21, error=-0.194, weight=0.044, bias=-0.042\n",
            "epoch=22, error=-0.193, weight=0.044, bias=-0.044\n",
            "epoch=23, error=-0.193, weight=0.044, bias=-0.046\n",
            "epoch=24, error=-0.193, weight=0.044, bias=-0.047\n",
            "epoch=25, error=-0.193, weight=0.044, bias=-0.049\n",
            "epoch=26, error=-0.193, weight=0.044, bias=-0.051\n",
            "epoch=27, error=-0.193, weight=0.044, bias=-0.053\n",
            "epoch=28, error=-0.193, weight=0.044, bias=-0.055\n",
            "epoch=29, error=-0.193, weight=0.044, bias=-0.057\n",
            "epoch=30, error=-0.192, weight=0.044, bias=-0.059\n",
            "epoch=31, error=-0.192, weight=0.044, bias=-0.061\n",
            "epoch=32, error=-0.192, weight=0.044, bias=-0.063\n",
            "epoch=33, error=-0.192, weight=0.044, bias=-0.065\n",
            "epoch=34, error=-0.192, weight=0.044, bias=-0.067\n",
            "epoch=35, error=-0.192, weight=0.044, bias=-0.069\n",
            "epoch=36, error=-0.192, weight=0.045, bias=-0.071\n",
            "epoch=37, error=-0.192, weight=0.045, bias=-0.072\n",
            "epoch=38, error=-0.192, weight=0.045, bias=-0.074\n",
            "epoch=39, error=-0.191, weight=0.045, bias=-0.076\n",
            "epoch=40, error=-0.191, weight=0.045, bias=-0.078\n",
            "epoch=41, error=-0.191, weight=0.045, bias=-0.080\n",
            "epoch=42, error=-0.191, weight=0.045, bias=-0.082\n",
            "epoch=43, error=-0.191, weight=0.045, bias=-0.084\n",
            "epoch=44, error=-0.191, weight=0.045, bias=-0.086\n",
            "epoch=45, error=-0.191, weight=0.045, bias=-0.088\n",
            "epoch=46, error=-0.191, weight=0.045, bias=-0.090\n",
            "epoch=47, error=-0.190, weight=0.045, bias=-0.092\n",
            "epoch=48, error=-0.190, weight=0.045, bias=-0.093\n",
            "epoch=49, error=-0.190, weight=0.045, bias=-0.095\n",
            "epoch=50, error=-0.190, weight=0.045, bias=-0.097\n",
            "epoch=51, error=-0.190, weight=0.045, bias=-0.099\n",
            "epoch=52, error=-0.190, weight=0.046, bias=-0.101\n",
            "epoch=53, error=-0.190, weight=0.046, bias=-0.103\n",
            "epoch=54, error=-0.190, weight=0.046, bias=-0.105\n",
            "epoch=55, error=-0.190, weight=0.046, bias=-0.107\n",
            "epoch=56, error=-0.189, weight=0.046, bias=-0.109\n",
            "epoch=57, error=-0.189, weight=0.046, bias=-0.111\n",
            "epoch=58, error=-0.189, weight=0.046, bias=-0.112\n",
            "epoch=59, error=-0.189, weight=0.046, bias=-0.114\n",
            "epoch=60, error=-0.189, weight=0.046, bias=-0.116\n",
            "epoch=61, error=-0.189, weight=0.046, bias=-0.118\n",
            "epoch=62, error=-0.189, weight=0.046, bias=-0.120\n",
            "epoch=63, error=-0.189, weight=0.046, bias=-0.122\n",
            "epoch=64, error=-0.188, weight=0.046, bias=-0.124\n",
            "epoch=65, error=-0.188, weight=0.046, bias=-0.126\n",
            "epoch=66, error=-0.188, weight=0.046, bias=-0.128\n",
            "epoch=67, error=-0.188, weight=0.046, bias=-0.129\n",
            "epoch=68, error=-0.188, weight=0.047, bias=-0.131\n",
            "epoch=69, error=-0.188, weight=0.047, bias=-0.133\n",
            "epoch=70, error=-0.188, weight=0.047, bias=-0.135\n",
            "epoch=71, error=-0.188, weight=0.047, bias=-0.137\n",
            "epoch=72, error=-0.188, weight=0.047, bias=-0.139\n",
            "epoch=73, error=-0.187, weight=0.047, bias=-0.141\n",
            "epoch=74, error=-0.187, weight=0.047, bias=-0.143\n",
            "epoch=75, error=-0.187, weight=0.047, bias=-0.144\n",
            "epoch=76, error=-0.187, weight=0.047, bias=-0.146\n",
            "epoch=77, error=-0.187, weight=0.047, bias=-0.148\n",
            "epoch=78, error=-0.187, weight=0.047, bias=-0.150\n",
            "epoch=79, error=-0.187, weight=0.047, bias=-0.152\n",
            "epoch=80, error=-0.187, weight=0.047, bias=-0.154\n",
            "epoch=81, error=-0.186, weight=0.047, bias=-0.156\n",
            "epoch=82, error=-0.186, weight=0.047, bias=-0.158\n",
            "epoch=83, error=-0.186, weight=0.048, bias=-0.159\n",
            "epoch=84, error=-0.186, weight=0.048, bias=-0.161\n",
            "epoch=85, error=-0.186, weight=0.048, bias=-0.163\n",
            "epoch=86, error=-0.186, weight=0.048, bias=-0.165\n",
            "epoch=87, error=-0.186, weight=0.048, bias=-0.167\n",
            "epoch=88, error=-0.186, weight=0.048, bias=-0.169\n",
            "epoch=89, error=-0.186, weight=0.048, bias=-0.171\n",
            "epoch=90, error=-0.185, weight=0.048, bias=-0.172\n",
            "epoch=91, error=-0.185, weight=0.048, bias=-0.174\n",
            "epoch=92, error=-0.185, weight=0.048, bias=-0.176\n",
            "epoch=93, error=-0.185, weight=0.048, bias=-0.178\n",
            "epoch=94, error=-0.185, weight=0.048, bias=-0.180\n",
            "epoch=95, error=-0.185, weight=0.048, bias=-0.182\n",
            "epoch=96, error=-0.185, weight=0.048, bias=-0.183\n",
            "epoch=97, error=-0.185, weight=0.048, bias=-0.185\n",
            "epoch=98, error=-0.184, weight=0.048, bias=-0.187\n",
            "epoch=99, error=-0.184, weight=0.049, bias=-0.189\n"
          ],
          "name": "stdout"
        }
      ]
    },
    {
      "cell_type": "code",
      "metadata": {
        "scrolled": false,
        "id": "efZweODsNQC2",
        "colab": {
          "base_uri": "https://localhost:8080/"
        },
        "outputId": "cbc85240-2507-4382-f2e6-f46019b32fcc"
      },
      "source": [
        "print(gd_weight)\n",
        "print(gd_bias)"
      ],
      "execution_count": null,
      "outputs": [
        {
          "output_type": "stream",
          "text": [
            "0.04850472770429983\n",
            "-0.1890043637797543\n"
          ],
          "name": "stdout"
        }
      ]
    },
    {
      "cell_type": "code",
      "metadata": {
        "id": "tUgDg0H7NQC3",
        "colab": {
          "base_uri": "https://localhost:8080/",
          "height": 279
        },
        "outputId": "a9e14e70-4c59-456f-f7ae-a07cffcb6a0a"
      },
      "source": [
        "plt.plot(gd_errors[3:])\n",
        "plt.xlabel(\"Epochs\")\n",
        "plt.ylabel(\"Errors\")\n",
        "plt.show()"
      ],
      "execution_count": null,
      "outputs": [
        {
          "output_type": "display_data",
          "data": {
            "image/png": "[encoded data removed]",
            "text/plain": [
              "<Figure size 432x288 with 1 Axes>"
            ]
          },
          "metadata": {
            "tags": [],
            "needs_background": "light"
          }
        }
      ]
    },
    {
      "cell_type": "code",
      "metadata": {
        "id": "Cvokj4EtNQC4",
        "colab": {
          "base_uri": "https://localhost:8080/"
        },
        "outputId": "88d68689-cc98-483e-d440-6052abeb1581"
      },
      "source": [
        "epochs = 200\n",
        "l_rate = 0.005\n",
        "weight = 0\n",
        "error_list = []\n",
        "bias = 0\n",
        "for i in range(epochs):\n",
        "    errorSum = 0\n",
        "    for j in range(data.shape[0]):\n",
        "        prob = Sigmoid(data[j], weight, bias)\n",
        "        error = labels[j] - prob\n",
        "        errorSum += error**2\n",
        "        weight = weight + (l_rate * data[j] * error)\n",
        "        bias = bias + (l_rate * error)\n",
        "    error_list.append(errorSum)\n",
        "    print(\"epoch=%d, error=%.3f, weight=%.3f, bias=%.3f\" % (i, errorSum, weight, bias))"
      ],
      "execution_count": null,
      "outputs": [
        {
          "output_type": "stream",
          "text": [
            "epoch=0, error=26.063, weight=0.103, bias=-0.100\n",
            "epoch=1, error=24.848, weight=0.103, bias=-0.200\n",
            "epoch=2, error=23.887, weight=0.102, bias=-0.298\n",
            "epoch=3, error=22.967, weight=0.102, bias=-0.393\n",
            "epoch=4, error=22.091, weight=0.102, bias=-0.485\n",
            "epoch=5, error=21.258, weight=0.102, bias=-0.574\n",
            "epoch=6, error=20.469, weight=0.102, bias=-0.660\n",
            "epoch=7, error=19.724, weight=0.102, bias=-0.744\n",
            "epoch=8, error=19.021, weight=0.102, bias=-0.825\n",
            "epoch=9, error=18.359, weight=0.102, bias=-0.904\n",
            "epoch=10, error=17.737, weight=0.102, bias=-0.981\n",
            "epoch=11, error=17.153, weight=0.102, bias=-1.055\n",
            "epoch=12, error=16.604, weight=0.103, bias=-1.127\n",
            "epoch=13, error=16.088, weight=0.103, bias=-1.197\n",
            "epoch=14, error=15.603, weight=0.104, bias=-1.265\n",
            "epoch=15, error=15.147, weight=0.104, bias=-1.332\n",
            "epoch=16, error=14.718, weight=0.105, bias=-1.396\n",
            "epoch=17, error=14.314, weight=0.106, bias=-1.459\n",
            "epoch=18, error=13.933, weight=0.107, bias=-1.521\n",
            "epoch=19, error=13.573, weight=0.108, bias=-1.580\n",
            "epoch=20, error=13.232, weight=0.108, bias=-1.639\n",
            "epoch=21, error=12.910, weight=0.109, bias=-1.696\n",
            "epoch=22, error=12.604, weight=0.110, bias=-1.751\n",
            "epoch=23, error=12.315, weight=0.112, bias=-1.806\n",
            "epoch=24, error=12.039, weight=0.113, bias=-1.859\n",
            "epoch=25, error=11.777, weight=0.114, bias=-1.911\n",
            "epoch=26, error=11.528, weight=0.115, bias=-1.962\n",
            "epoch=27, error=11.291, weight=0.116, bias=-2.012\n",
            "epoch=28, error=11.064, weight=0.117, bias=-2.060\n",
            "epoch=29, error=10.848, weight=0.118, bias=-2.108\n",
            "epoch=30, error=10.641, weight=0.120, bias=-2.155\n",
            "epoch=31, error=10.443, weight=0.121, bias=-2.201\n",
            "epoch=32, error=10.254, weight=0.122, bias=-2.246\n",
            "epoch=33, error=10.073, weight=0.123, bias=-2.290\n",
            "epoch=34, error=9.899, weight=0.125, bias=-2.333\n",
            "epoch=35, error=9.732, weight=0.126, bias=-2.376\n",
            "epoch=36, error=9.572, weight=0.127, bias=-2.418\n",
            "epoch=37, error=9.419, weight=0.128, bias=-2.459\n",
            "epoch=38, error=9.271, weight=0.130, bias=-2.499\n",
            "epoch=39, error=9.129, weight=0.131, bias=-2.539\n",
            "epoch=40, error=8.992, weight=0.132, bias=-2.578\n",
            "epoch=41, error=8.861, weight=0.133, bias=-2.616\n",
            "epoch=42, error=8.734, weight=0.135, bias=-2.654\n",
            "epoch=43, error=8.612, weight=0.136, bias=-2.691\n",
            "epoch=44, error=8.494, weight=0.137, bias=-2.728\n",
            "epoch=45, error=8.381, weight=0.138, bias=-2.764\n",
            "epoch=46, error=8.271, weight=0.140, bias=-2.800\n",
            "epoch=47, error=8.165, weight=0.141, bias=-2.835\n",
            "epoch=48, error=8.063, weight=0.142, bias=-2.869\n",
            "epoch=49, error=7.964, weight=0.143, bias=-2.903\n",
            "epoch=50, error=7.869, weight=0.145, bias=-2.937\n",
            "epoch=51, error=7.776, weight=0.146, bias=-2.970\n",
            "epoch=52, error=7.687, weight=0.147, bias=-3.002\n",
            "epoch=53, error=7.600, weight=0.148, bias=-3.035\n",
            "epoch=54, error=7.516, weight=0.149, bias=-3.066\n",
            "epoch=55, error=7.434, weight=0.151, bias=-3.098\n",
            "epoch=56, error=7.355, weight=0.152, bias=-3.129\n",
            "epoch=57, error=7.279, weight=0.153, bias=-3.159\n",
            "epoch=58, error=7.204, weight=0.154, bias=-3.189\n",
            "epoch=59, error=7.132, weight=0.155, bias=-3.219\n",
            "epoch=60, error=7.062, weight=0.156, bias=-3.249\n",
            "epoch=61, error=6.994, weight=0.158, bias=-3.278\n",
            "epoch=62, error=6.928, weight=0.159, bias=-3.307\n",
            "epoch=63, error=6.863, weight=0.160, bias=-3.335\n",
            "epoch=64, error=6.801, weight=0.161, bias=-3.363\n",
            "epoch=65, error=6.740, weight=0.162, bias=-3.391\n",
            "epoch=66, error=6.681, weight=0.163, bias=-3.419\n",
            "epoch=67, error=6.623, weight=0.164, bias=-3.446\n",
            "epoch=68, error=6.566, weight=0.165, bias=-3.473\n",
            "epoch=69, error=6.512, weight=0.167, bias=-3.499\n",
            "epoch=70, error=6.458, weight=0.168, bias=-3.526\n",
            "epoch=71, error=6.406, weight=0.169, bias=-3.552\n",
            "epoch=72, error=6.355, weight=0.170, bias=-3.578\n",
            "epoch=73, error=6.305, weight=0.171, bias=-3.603\n",
            "epoch=74, error=6.257, weight=0.172, bias=-3.629\n",
            "epoch=75, error=6.209, weight=0.173, bias=-3.654\n",
            "epoch=76, error=6.163, weight=0.174, bias=-3.678\n",
            "epoch=77, error=6.118, weight=0.175, bias=-3.703\n",
            "epoch=78, error=6.074, weight=0.176, bias=-3.727\n",
            "epoch=79, error=6.030, weight=0.177, bias=-3.751\n",
            "epoch=80, error=5.988, weight=0.178, bias=-3.775\n",
            "epoch=81, error=5.947, weight=0.179, bias=-3.799\n",
            "epoch=82, error=5.906, weight=0.180, bias=-3.823\n",
            "epoch=83, error=5.867, weight=0.181, bias=-3.846\n",
            "epoch=84, error=5.828, weight=0.182, bias=-3.869\n",
            "epoch=85, error=5.790, weight=0.183, bias=-3.892\n",
            "epoch=86, error=5.753, weight=0.184, bias=-3.914\n",
            "epoch=87, error=5.716, weight=0.185, bias=-3.937\n",
            "epoch=88, error=5.680, weight=0.186, bias=-3.959\n",
            "epoch=89, error=5.645, weight=0.187, bias=-3.981\n",
            "epoch=90, error=5.611, weight=0.188, bias=-4.003\n",
            "epoch=91, error=5.577, weight=0.189, bias=-4.025\n",
            "epoch=92, error=5.544, weight=0.190, bias=-4.046\n",
            "epoch=93, error=5.511, weight=0.191, bias=-4.068\n",
            "epoch=94, error=5.479, weight=0.191, bias=-4.089\n",
            "epoch=95, error=5.448, weight=0.192, bias=-4.110\n",
            "epoch=96, error=5.417, weight=0.193, bias=-4.131\n",
            "epoch=97, error=5.387, weight=0.194, bias=-4.152\n",
            "epoch=98, error=5.357, weight=0.195, bias=-4.172\n",
            "epoch=99, error=5.328, weight=0.196, bias=-4.193\n",
            "epoch=100, error=5.299, weight=0.197, bias=-4.213\n",
            "epoch=101, error=5.271, weight=0.198, bias=-4.233\n",
            "epoch=102, error=5.243, weight=0.199, bias=-4.253\n",
            "epoch=103, error=5.216, weight=0.200, bias=-4.273\n",
            "epoch=104, error=5.189, weight=0.200, bias=-4.293\n",
            "epoch=105, error=5.163, weight=0.201, bias=-4.312\n",
            "epoch=106, error=5.137, weight=0.202, bias=-4.332\n",
            "epoch=107, error=5.111, weight=0.203, bias=-4.351\n",
            "epoch=108, error=5.086, weight=0.204, bias=-4.370\n",
            "epoch=109, error=5.061, weight=0.205, bias=-4.389\n",
            "epoch=110, error=5.036, weight=0.205, bias=-4.408\n",
            "epoch=111, error=5.012, weight=0.206, bias=-4.427\n",
            "epoch=112, error=4.988, weight=0.207, bias=-4.445\n",
            "epoch=113, error=4.965, weight=0.208, bias=-4.464\n",
            "epoch=114, error=4.942, weight=0.209, bias=-4.482\n",
            "epoch=115, error=4.919, weight=0.210, bias=-4.500\n",
            "epoch=116, error=4.897, weight=0.210, bias=-4.519\n",
            "epoch=117, error=4.875, weight=0.211, bias=-4.537\n",
            "epoch=118, error=4.853, weight=0.212, bias=-4.555\n",
            "epoch=119, error=4.831, weight=0.213, bias=-4.572\n",
            "epoch=120, error=4.810, weight=0.214, bias=-4.590\n",
            "epoch=121, error=4.789, weight=0.214, bias=-4.608\n",
            "epoch=122, error=4.768, weight=0.215, bias=-4.625\n",
            "epoch=123, error=4.748, weight=0.216, bias=-4.643\n",
            "epoch=124, error=4.728, weight=0.217, bias=-4.660\n",
            "epoch=125, error=4.708, weight=0.217, bias=-4.677\n",
            "epoch=126, error=4.688, weight=0.218, bias=-4.694\n",
            "epoch=127, error=4.669, weight=0.219, bias=-4.711\n",
            "epoch=128, error=4.650, weight=0.220, bias=-4.728\n",
            "epoch=129, error=4.631, weight=0.220, bias=-4.745\n",
            "epoch=130, error=4.612, weight=0.221, bias=-4.761\n",
            "epoch=131, error=4.594, weight=0.222, bias=-4.778\n",
            "epoch=132, error=4.576, weight=0.223, bias=-4.795\n",
            "epoch=133, error=4.558, weight=0.223, bias=-4.811\n",
            "epoch=134, error=4.540, weight=0.224, bias=-4.827\n",
            "epoch=135, error=4.522, weight=0.225, bias=-4.843\n",
            "epoch=136, error=4.505, weight=0.226, bias=-4.860\n",
            "epoch=137, error=4.488, weight=0.226, bias=-4.876\n",
            "epoch=138, error=4.471, weight=0.227, bias=-4.892\n",
            "epoch=139, error=4.454, weight=0.228, bias=-4.907\n",
            "epoch=140, error=4.437, weight=0.228, bias=-4.923\n",
            "epoch=141, error=4.421, weight=0.229, bias=-4.939\n",
            "epoch=142, error=4.405, weight=0.230, bias=-4.955\n",
            "epoch=143, error=4.388, weight=0.231, bias=-4.970\n",
            "epoch=144, error=4.373, weight=0.231, bias=-4.986\n",
            "epoch=145, error=4.357, weight=0.232, bias=-5.001\n",
            "epoch=146, error=4.341, weight=0.233, bias=-5.016\n",
            "epoch=147, error=4.326, weight=0.233, bias=-5.032\n",
            "epoch=148, error=4.311, weight=0.234, bias=-5.047\n",
            "epoch=149, error=4.296, weight=0.235, bias=-5.062\n",
            "epoch=150, error=4.281, weight=0.235, bias=-5.077\n",
            "epoch=151, error=4.266, weight=0.236, bias=-5.092\n",
            "epoch=152, error=4.251, weight=0.237, bias=-5.107\n",
            "epoch=153, error=4.237, weight=0.237, bias=-5.121\n",
            "epoch=154, error=4.222, weight=0.238, bias=-5.136\n",
            "epoch=155, error=4.208, weight=0.239, bias=-5.151\n",
            "epoch=156, error=4.194, weight=0.239, bias=-5.165\n",
            "epoch=157, error=4.180, weight=0.240, bias=-5.180\n",
            "epoch=158, error=4.166, weight=0.241, bias=-5.194\n",
            "epoch=159, error=4.153, weight=0.241, bias=-5.209\n",
            "epoch=160, error=4.139, weight=0.242, bias=-5.223\n",
            "epoch=161, error=4.126, weight=0.243, bias=-5.237\n",
            "epoch=162, error=4.112, weight=0.243, bias=-5.251\n",
            "epoch=163, error=4.099, weight=0.244, bias=-5.265\n",
            "epoch=164, error=4.086, weight=0.244, bias=-5.279\n",
            "epoch=165, error=4.073, weight=0.245, bias=-5.293\n",
            "epoch=166, error=4.060, weight=0.246, bias=-5.307\n",
            "epoch=167, error=4.048, weight=0.246, bias=-5.321\n",
            "epoch=168, error=4.035, weight=0.247, bias=-5.335\n",
            "epoch=169, error=4.023, weight=0.248, bias=-5.349\n",
            "epoch=170, error=4.010, weight=0.248, bias=-5.362\n",
            "epoch=171, error=3.998, weight=0.249, bias=-5.376\n",
            "epoch=172, error=3.986, weight=0.249, bias=-5.390\n",
            "epoch=173, error=3.974, weight=0.250, bias=-5.403\n",
            "epoch=174, error=3.962, weight=0.251, bias=-5.416\n",
            "epoch=175, error=3.950, weight=0.251, bias=-5.430\n",
            "epoch=176, error=3.938, weight=0.252, bias=-5.443\n",
            "epoch=177, error=3.927, weight=0.252, bias=-5.456\n",
            "epoch=178, error=3.915, weight=0.253, bias=-5.470\n",
            "epoch=179, error=3.904, weight=0.254, bias=-5.483\n",
            "epoch=180, error=3.892, weight=0.254, bias=-5.496\n",
            "epoch=181, error=3.881, weight=0.255, bias=-5.509\n",
            "epoch=182, error=3.870, weight=0.255, bias=-5.522\n",
            "epoch=183, error=3.859, weight=0.256, bias=-5.535\n",
            "epoch=184, error=3.848, weight=0.257, bias=-5.548\n",
            "epoch=185, error=3.837, weight=0.257, bias=-5.561\n",
            "epoch=186, error=3.826, weight=0.258, bias=-5.573\n",
            "epoch=187, error=3.816, weight=0.258, bias=-5.586\n",
            "epoch=188, error=3.805, weight=0.259, bias=-5.599\n",
            "epoch=189, error=3.794, weight=0.260, bias=-5.612\n",
            "epoch=190, error=3.784, weight=0.260, bias=-5.624\n",
            "epoch=191, error=3.773, weight=0.261, bias=-5.637\n",
            "epoch=192, error=3.763, weight=0.261, bias=-5.649\n",
            "epoch=193, error=3.753, weight=0.262, bias=-5.662\n",
            "epoch=194, error=3.743, weight=0.262, bias=-5.674\n",
            "epoch=195, error=3.733, weight=0.263, bias=-5.686\n",
            "epoch=196, error=3.723, weight=0.263, bias=-5.699\n",
            "epoch=197, error=3.713, weight=0.264, bias=-5.711\n",
            "epoch=198, error=3.703, weight=0.265, bias=-5.723\n",
            "epoch=199, error=3.693, weight=0.265, bias=-5.735\n"
          ],
          "name": "stdout"
        }
      ]
    },
    {
      "cell_type": "code",
      "metadata": {
        "scrolled": false,
        "id": "_Zjd1srRNQC5",
        "colab": {
          "base_uri": "https://localhost:8080/"
        },
        "outputId": "baedba61-73d1-4a06-f11a-6726aa568032"
      },
      "source": [
        "print(weight)\n",
        "print(bias)"
      ],
      "execution_count": null,
      "outputs": [
        {
          "output_type": "stream",
          "text": [
            "[0.26516336]\n",
            "[-5.73537205]\n"
          ],
          "name": "stdout"
        }
      ]
    },
    {
      "cell_type": "code",
      "metadata": {
        "scrolled": true,
        "id": "n_WGPQ0ANQC6",
        "colab": {
          "base_uri": "https://localhost:8080/",
          "height": 279
        },
        "outputId": "cc149fa7-35ec-4706-8069-a1a332aeecf4"
      },
      "source": [
        "plt.plot(error_list)\n",
        "plt.xlabel(\"Epochs\")\n",
        "plt.ylabel(\"Errors\")\n",
        "plt.show()"
      ],
      "execution_count": null,
      "outputs": [
        {
          "output_type": "display_data",
          "data": {
            "image/png": "[encoded data removed]",
            "text/plain": [
              "<Figure size 432x288 with 1 Axes>"
            ]
          },
          "metadata": {
            "tags": [],
            "needs_background": "light"
          }
        }
      ]
    },
    {
      "cell_type": "code",
      "metadata": {
        "id": "R5PQI2pYNQC6"
      },
      "source": [
        ""
      ],
      "execution_count": null,
      "outputs": []
    }
  ]
}