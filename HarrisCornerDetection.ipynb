{
  "nbformat": 4,
  "nbformat_minor": 0,
  "metadata": {
    "kernelspec": {
      "display_name": "Python 3",
      "language": "python",
      "name": "python3"
    },
    "language_info": {
      "codemirror_mode": {
        "name": "ipython",
        "version": 3
      },
      "file_extension": ".py",
      "mimetype": "text/x-python",
      "name": "python",
      "nbconvert_exporter": "python",
      "pygments_lexer": "ipython3",
      "version": "3.9.0"
    },
    "colab": {
      "name": "HarrisCornerDetection.ipynb",
      "provenance": []
    }
  },
  "cells": [
    {
      "cell_type": "code",
      "metadata": {
        "id": "icdmXWlJCA3z"
      },
      "source": [
        "import argparse\n",
        "import cv2\n",
        "import numpy as np"
      ],
      "execution_count": null,
      "outputs": []
    },
    {
      "cell_type": "code",
      "metadata": {
        "id": "q4IdMIpqCA31"
      },
      "source": [
        "def find_harris_corners(input_img, k, window_size, threshold):\n",
        "    \n",
        "    corner_list = []\n",
        "    output_img = cv2.cvtColor(input_img.copy(), cv2.COLOR_GRAY2RGB)\n",
        "    \n",
        "    offset = int(window_size/2)\n",
        "    y_range = input_img.shape[0] - offset\n",
        "    x_range = input_img.shape[1] - offset\n",
        "    \n",
        "    \n",
        "    dy, dx = np.gradient(input_img)\n",
        "    Ixx = dx**2\n",
        "    Ixy = dy*dx\n",
        "    Iyy = dy**2\n",
        "    \n",
        "    \n",
        "    for y in range(offset, y_range):\n",
        "        for x in range(offset, x_range):\n",
        "            \n",
        "            #Values of sliding window\n",
        "            start_y = y - offset\n",
        "            end_y = y + offset + 1\n",
        "            start_x = x - offset\n",
        "            end_x = x + offset + 1\n",
        "            \n",
        "            #The variable names are representative to \n",
        "            #the variable of the Harris corner equation\n",
        "            windowIxx = Ixx[start_y : end_y, start_x : end_x]\n",
        "            windowIxy = Ixy[start_y : end_y, start_x : end_x]\n",
        "            windowIyy = Iyy[start_y : end_y, start_x : end_x]\n",
        "            \n",
        "            #Sum of squares of intensities of partial derevatives \n",
        "            Sxx = windowIxx.sum()\n",
        "            Sxy = windowIxy.sum()\n",
        "            Syy = windowIyy.sum()\n",
        "\n",
        "            #Calculate determinant and trace of the matrix\n",
        "            det = (Sxx * Syy) - (Sxy**2)\n",
        "            trace = Sxx + Syy\n",
        "            \n",
        "            #Calculate r for Harris Corner equation\n",
        "            r = det - k*(trace**2)\n",
        "\n",
        "            if r > threshold:\n",
        "                corner_list.append([x, y, r])\n",
        "                output_img[y,x] = (0,0,255)\n",
        "    \n",
        "    return corner_list, output_img "
      ],
      "execution_count": null,
      "outputs": []
    },
    {
      "cell_type": "code",
      "metadata": {
        "colab": {
          "base_uri": "https://localhost:8080/"
        },
        "id": "bohFtFNoCA32",
        "outputId": "6ed548b5-01fc-4d5a-81e9-8ddeeba511d3"
      },
      "source": [
        "input_img = cv2.imread(\"find_corners.png\", 0)\n",
        "k = 0.04\n",
        "window_size = 5\n",
        "threshold = 10000.00\n",
        "\n",
        "corner_list,corner_img = find_harris_corners(input_img, k, window_size, threshold)\n",
        "cv2.imwrite(\"corners_img.png\", corner_img)\n",
        "cv2.waitKey(0)"
      ],
      "execution_count": null,
      "outputs": [
        {
          "output_type": "execute_result",
          "data": {
            "text/plain": [
              "-1"
            ]
          },
          "metadata": {
            "tags": []
          },
          "execution_count": 4
        }
      ]
    }
  ]
}