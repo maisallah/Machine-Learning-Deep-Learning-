{
  "nbformat": 4,
  "nbformat_minor": 0,
  "metadata": {
    "colab": {
      "name": "South German Credit (UPDATE).ipynb",
      "provenance": [],
      "collapsed_sections": []
    },
    "kernelspec": {
      "display_name": "Python 3",
      "name": "python3"
    }
  },
  "cells": [
    {
      "cell_type": "markdown",
      "source": [
        ""
      ],
      "metadata": {
        "id": "2ejhCP1K3DUb"
      }
    },
    {
      "cell_type": "code",
      "metadata": {
        "colab": {
          "base_uri": "https://localhost:8080/"
        },
        "id": "WggIpnWqyTZ_",
        "outputId": "de1c7f27-eacc-4af4-fd6a-ed02e18cdaae"
      },
      "source": [
        "from google.colab import drive\n",
        "drive.mount('/content/drive')"
      ],
      "execution_count": null,
      "outputs": [
        {
          "output_type": "stream",
          "text": [
            "Drive already mounted at /content/drive; to attempt to forcibly remount, call drive.mount(\"/content/drive\", force_remount=True).\n"
          ],
          "name": "stdout"
        }
      ]
    },
    {
      "cell_type": "code",
      "metadata": {
        "colab": {
          "base_uri": "https://localhost:8080/"
        },
        "id": "GYZ2YcjN21qg",
        "outputId": "7ea49c11-4c5b-4091-d4f9-94b36d4eee33"
      },
      "source": [
        "!pip install pyfpgrowth"
      ],
      "execution_count": null,
      "outputs": [
        {
          "output_type": "stream",
          "text": [
            "Collecting pyfpgrowth\n",
            "\u001b[?25l  Downloading https://files.pythonhosted.org/packages/d2/4c/8b7cd90b4118ff0286d6584909b99e1ca5642bdc9072fa5a8dd361c864a0/pyfpgrowth-1.0.tar.gz (1.6MB)\n",
            "\u001b[K     |████████████████████████████████| 1.6MB 5.1MB/s \n",
            "\u001b[?25hBuilding wheels for collected packages: pyfpgrowth\n",
            "  Building wheel for pyfpgrowth (setup.py) ... \u001b[?25l\u001b[?25hdone\n",
            "  Created wheel for pyfpgrowth: filename=pyfpgrowth-1.0-py2.py3-none-any.whl size=5477 sha256=92239880bdb6fefc584753aeb3f489bd48a233d19cf0198fc8e41a27263b8bc0\n",
            "  Stored in directory: /root/.cache/pip/wheels/3b/3f/0d/a04bb8b17887c1eca7d0f1a48d4aa0c09c96eb221ff7fa56c1\n",
            "Successfully built pyfpgrowth\n",
            "Installing collected packages: pyfpgrowth\n",
            "Successfully installed pyfpgrowth-1.0\n"
          ],
          "name": "stdout"
        }
      ]
    },
    {
      "cell_type": "code",
      "metadata": {
        "colab": {
          "base_uri": "https://localhost:8080/"
        },
        "id": "pMw9lHCGtmAC",
        "outputId": "c23842a6-1beb-4a96-c568-ac83fa9031ec"
      },
      "source": [
        "!pip install pyECLAT"
      ],
      "execution_count": null,
      "outputs": [
        {
          "output_type": "stream",
          "text": [
            "Collecting pyECLAT\n",
            "  Downloading https://files.pythonhosted.org/packages/2e/b7/3b5b1fc70e917d2e2b7182dfc0f5b26a573621ee2c64538a7d72bf3f1f15/pyECLAT-1.0.2-py3-none-any.whl\n",
            "Requirement already satisfied: tqdm>=4.41.1 in /usr/local/lib/python3.6/dist-packages (from pyECLAT) (4.41.1)\n",
            "Requirement already satisfied: pandas>=0.25.3 in /usr/local/lib/python3.6/dist-packages (from pyECLAT) (1.1.5)\n",
            "Requirement already satisfied: numpy>=1.17.4 in /usr/local/lib/python3.6/dist-packages (from pyECLAT) (1.19.5)\n",
            "Requirement already satisfied: python-dateutil>=2.7.3 in /usr/local/lib/python3.6/dist-packages (from pandas>=0.25.3->pyECLAT) (2.8.1)\n",
            "Requirement already satisfied: pytz>=2017.2 in /usr/local/lib/python3.6/dist-packages (from pandas>=0.25.3->pyECLAT) (2018.9)\n",
            "Requirement already satisfied: six>=1.5 in /usr/local/lib/python3.6/dist-packages (from python-dateutil>=2.7.3->pandas>=0.25.3->pyECLAT) (1.15.0)\n",
            "Installing collected packages: pyECLAT\n",
            "Successfully installed pyECLAT-1.0.2\n"
          ],
          "name": "stdout"
        }
      ]
    },
    {
      "cell_type": "code",
      "metadata": {
        "colab": {
          "base_uri": "https://localhost:8080/"
        },
        "id": "UMt2pVZJwbZS",
        "outputId": "72a61bf8-7706-4e94-c212-5bdb04545713"
      },
      "source": [
        "!pip install apyori"
      ],
      "execution_count": null,
      "outputs": [
        {
          "output_type": "stream",
          "text": [
            "Collecting apyori\n",
            "  Downloading https://files.pythonhosted.org/packages/5e/62/5ffde5c473ea4b033490617ec5caa80d59804875ad3c3c57c0976533a21a/apyori-1.1.2.tar.gz\n",
            "Building wheels for collected packages: apyori\n",
            "  Building wheel for apyori (setup.py) ... \u001b[?25l\u001b[?25hdone\n",
            "  Created wheel for apyori: filename=apyori-1.1.2-cp36-none-any.whl size=5977 sha256=5d745810965ac1347148d318af5fecaca9065c7e140b1d1ebff4afe14796bfc2\n",
            "  Stored in directory: /root/.cache/pip/wheels/5d/92/bb/474bbadbc8c0062b9eb168f69982a0443263f8ab1711a8cad0\n",
            "Successfully built apyori\n",
            "Installing collected packages: apyori\n",
            "Successfully installed apyori-1.1.2\n"
          ],
          "name": "stdout"
        }
      ]
    },
    {
      "cell_type": "code",
      "metadata": {
        "colab": {
          "base_uri": "https://localhost:8080/"
        },
        "id": "aPlH17yRxmjJ",
        "outputId": "f2160192-4356-45ff-f416-db1d2c7b46a0"
      },
      "source": [
        "!pip install mlxtend --upgrade --no-deps"
      ],
      "execution_count": null,
      "outputs": [
        {
          "output_type": "stream",
          "text": [
            "Collecting mlxtend\n",
            "\u001b[?25l  Downloading https://files.pythonhosted.org/packages/86/30/781c0b962a70848db83339567ecab656638c62f05adb064cb33c0ae49244/mlxtend-0.18.0-py2.py3-none-any.whl (1.3MB)\n",
            "\u001b[K     |████████████████████████████████| 1.4MB 5.3MB/s \n",
            "\u001b[?25hInstalling collected packages: mlxtend\n",
            "  Found existing installation: mlxtend 0.14.0\n",
            "    Uninstalling mlxtend-0.14.0:\n",
            "      Successfully uninstalled mlxtend-0.14.0\n",
            "Successfully installed mlxtend-0.18.0\n"
          ],
          "name": "stdout"
        }
      ]
    },
    {
      "cell_type": "code",
      "metadata": {
        "id": "egTIm2wUK-F0"
      },
      "source": [
        "import pandas as pd\n",
        "import numpy as np\n",
        "import matplotlib.pyplot as plt \n",
        "from scipy import stats\n",
        "import seaborn as sns\n",
        "from pandas.plotting import scatter_matrix\n",
        "from sklearn.preprocessing import StandardScaler\n",
        "from apyori import apriori\n",
        "from pyECLAT import ECLAT\n",
        "from sklearn.cluster import KMeans, DBSCAN\n",
        "from sklearn.decomposition import PCA\n",
        "from sklearn.neighbors import NearestNeighbors\n",
        "from sklearn.metrics import davies_bouldin_score\n",
        "from mlxtend.preprocessing import TransactionEncoder\n",
        "from mlxtend.frequent_patterns import fpgrowth"
      ],
      "execution_count": null,
      "outputs": []
    },
    {
      "cell_type": "code",
      "metadata": {
        "id": "Uj8brI5CU6g2"
      },
      "source": [
        "plt.style.use('ggplot')\n",
        "#plt.style.available"
      ],
      "execution_count": null,
      "outputs": []
    },
    {
      "cell_type": "markdown",
      "metadata": {
        "id": "cw5hwy9eSPfk"
      },
      "source": [
        "**Importing and Exploring data**"
      ]
    },
    {
      "cell_type": "code",
      "metadata": {
        "id": "hERC9n6iJ9xl"
      },
      "source": [
        "#importing data \n",
        "df = pd.read_table(\"/content/drive/MyDrive/SouthGermanCredit.asc\", sep=\" \")"
      ],
      "execution_count": null,
      "outputs": []
    },
    {
      "cell_type": "code",
      "metadata": {
        "colab": {
          "base_uri": "https://localhost:8080/",
          "height": 224
        },
        "id": "D0Z6O9jwLDvZ",
        "outputId": "7c31d4c2-eb4d-45e4-ddae-3eda41f7fa1d"
      },
      "source": [
        "df.head()"
      ],
      "execution_count": null,
      "outputs": [
        {
          "output_type": "execute_result",
          "data": {
            "text/html": [
              "<div>\n",
              "<style scoped>\n",
              "    .dataframe tbody tr th:only-of-type {\n",
              "        vertical-align: middle;\n",
              "    }\n",
              "\n",
              "    .dataframe tbody tr th {\n",
              "        vertical-align: top;\n",
              "    }\n",
              "\n",
              "    .dataframe thead th {\n",
              "        text-align: right;\n",
              "    }\n",
              "</style>\n",
              "<table border=\"1\" class=\"dataframe\">\n",
              "  <thead>\n",
              "    <tr style=\"text-align: right;\">\n",
              "      <th></th>\n",
              "      <th>laufkont</th>\n",
              "      <th>laufzeit</th>\n",
              "      <th>moral</th>\n",
              "      <th>verw</th>\n",
              "      <th>hoehe</th>\n",
              "      <th>sparkont</th>\n",
              "      <th>beszeit</th>\n",
              "      <th>rate</th>\n",
              "      <th>famges</th>\n",
              "      <th>buerge</th>\n",
              "      <th>wohnzeit</th>\n",
              "      <th>verm</th>\n",
              "      <th>alter</th>\n",
              "      <th>weitkred</th>\n",
              "      <th>wohn</th>\n",
              "      <th>bishkred</th>\n",
              "      <th>beruf</th>\n",
              "      <th>pers</th>\n",
              "      <th>telef</th>\n",
              "      <th>gastarb</th>\n",
              "      <th>kredit</th>\n",
              "    </tr>\n",
              "  </thead>\n",
              "  <tbody>\n",
              "    <tr>\n",
              "      <th>0</th>\n",
              "      <td>1</td>\n",
              "      <td>18</td>\n",
              "      <td>4</td>\n",
              "      <td>2</td>\n",
              "      <td>1049</td>\n",
              "      <td>1</td>\n",
              "      <td>2</td>\n",
              "      <td>4</td>\n",
              "      <td>2</td>\n",
              "      <td>1</td>\n",
              "      <td>4</td>\n",
              "      <td>2</td>\n",
              "      <td>21</td>\n",
              "      <td>3</td>\n",
              "      <td>1</td>\n",
              "      <td>1</td>\n",
              "      <td>3</td>\n",
              "      <td>2</td>\n",
              "      <td>1</td>\n",
              "      <td>2</td>\n",
              "      <td>1</td>\n",
              "    </tr>\n",
              "    <tr>\n",
              "      <th>1</th>\n",
              "      <td>1</td>\n",
              "      <td>9</td>\n",
              "      <td>4</td>\n",
              "      <td>0</td>\n",
              "      <td>2799</td>\n",
              "      <td>1</td>\n",
              "      <td>3</td>\n",
              "      <td>2</td>\n",
              "      <td>3</td>\n",
              "      <td>1</td>\n",
              "      <td>2</td>\n",
              "      <td>1</td>\n",
              "      <td>36</td>\n",
              "      <td>3</td>\n",
              "      <td>1</td>\n",
              "      <td>2</td>\n",
              "      <td>3</td>\n",
              "      <td>1</td>\n",
              "      <td>1</td>\n",
              "      <td>2</td>\n",
              "      <td>1</td>\n",
              "    </tr>\n",
              "    <tr>\n",
              "      <th>2</th>\n",
              "      <td>2</td>\n",
              "      <td>12</td>\n",
              "      <td>2</td>\n",
              "      <td>9</td>\n",
              "      <td>841</td>\n",
              "      <td>2</td>\n",
              "      <td>4</td>\n",
              "      <td>2</td>\n",
              "      <td>2</td>\n",
              "      <td>1</td>\n",
              "      <td>4</td>\n",
              "      <td>1</td>\n",
              "      <td>23</td>\n",
              "      <td>3</td>\n",
              "      <td>1</td>\n",
              "      <td>1</td>\n",
              "      <td>2</td>\n",
              "      <td>2</td>\n",
              "      <td>1</td>\n",
              "      <td>2</td>\n",
              "      <td>1</td>\n",
              "    </tr>\n",
              "    <tr>\n",
              "      <th>3</th>\n",
              "      <td>1</td>\n",
              "      <td>12</td>\n",
              "      <td>4</td>\n",
              "      <td>0</td>\n",
              "      <td>2122</td>\n",
              "      <td>1</td>\n",
              "      <td>3</td>\n",
              "      <td>3</td>\n",
              "      <td>3</td>\n",
              "      <td>1</td>\n",
              "      <td>2</td>\n",
              "      <td>1</td>\n",
              "      <td>39</td>\n",
              "      <td>3</td>\n",
              "      <td>1</td>\n",
              "      <td>2</td>\n",
              "      <td>2</td>\n",
              "      <td>1</td>\n",
              "      <td>1</td>\n",
              "      <td>1</td>\n",
              "      <td>1</td>\n",
              "    </tr>\n",
              "    <tr>\n",
              "      <th>4</th>\n",
              "      <td>1</td>\n",
              "      <td>12</td>\n",
              "      <td>4</td>\n",
              "      <td>0</td>\n",
              "      <td>2171</td>\n",
              "      <td>1</td>\n",
              "      <td>3</td>\n",
              "      <td>4</td>\n",
              "      <td>3</td>\n",
              "      <td>1</td>\n",
              "      <td>4</td>\n",
              "      <td>2</td>\n",
              "      <td>38</td>\n",
              "      <td>1</td>\n",
              "      <td>2</td>\n",
              "      <td>2</td>\n",
              "      <td>2</td>\n",
              "      <td>2</td>\n",
              "      <td>1</td>\n",
              "      <td>1</td>\n",
              "      <td>1</td>\n",
              "    </tr>\n",
              "  </tbody>\n",
              "</table>\n",
              "</div>"
            ],
            "text/plain": [
              "   laufkont  laufzeit  moral  verw  hoehe  ...  beruf  pers  telef  gastarb  kredit\n",
              "0         1        18      4     2   1049  ...      3     2      1        2       1\n",
              "1         1         9      4     0   2799  ...      3     1      1        2       1\n",
              "2         2        12      2     9    841  ...      2     2      1        2       1\n",
              "3         1        12      4     0   2122  ...      2     1      1        1       1\n",
              "4         1        12      4     0   2171  ...      2     2      1        1       1\n",
              "\n",
              "[5 rows x 21 columns]"
            ]
          },
          "metadata": {
            "tags": []
          },
          "execution_count": 10
        }
      ]
    },
    {
      "cell_type": "code",
      "metadata": {
        "id": "EdI6EKpjOvvx"
      },
      "source": [
        "#changing column names\n",
        "df.columns = ['status', 'duration', 'credit_history', 'purpose', 'amount', 'savings', 'employment_duration', 'installment_rate', 'personal_status_sex',\n",
        "              'other_debtors', 'present_residence', 'property', 'age', 'other_installment_plans', 'housing', 'number_credits', 'job', 'people_liable',\n",
        "              'telephone', 'foreign_worker', 'credit_risk']"
      ],
      "execution_count": null,
      "outputs": []
    },
    {
      "cell_type": "code",
      "metadata": {
        "colab": {
          "base_uri": "https://localhost:8080/",
          "height": 224
        },
        "id": "uNjVdk8XQoAI",
        "outputId": "0a6d631a-d7ca-4fc9-d27a-3a7291b1dba6"
      },
      "source": [
        "df.head()"
      ],
      "execution_count": null,
      "outputs": [
        {
          "output_type": "execute_result",
          "data": {
            "text/html": [
              "<div>\n",
              "<style scoped>\n",
              "    .dataframe tbody tr th:only-of-type {\n",
              "        vertical-align: middle;\n",
              "    }\n",
              "\n",
              "    .dataframe tbody tr th {\n",
              "        vertical-align: top;\n",
              "    }\n",
              "\n",
              "    .dataframe thead th {\n",
              "        text-align: right;\n",
              "    }\n",
              "</style>\n",
              "<table border=\"1\" class=\"dataframe\">\n",
              "  <thead>\n",
              "    <tr style=\"text-align: right;\">\n",
              "      <th></th>\n",
              "      <th>status</th>\n",
              "      <th>duration</th>\n",
              "      <th>credit_history</th>\n",
              "      <th>purpose</th>\n",
              "      <th>amount</th>\n",
              "      <th>savings</th>\n",
              "      <th>employment_duration</th>\n",
              "      <th>installment_rate</th>\n",
              "      <th>personal_status_sex</th>\n",
              "      <th>other_debtors</th>\n",
              "      <th>present_residence</th>\n",
              "      <th>property</th>\n",
              "      <th>age</th>\n",
              "      <th>other_installment_plans</th>\n",
              "      <th>housing</th>\n",
              "      <th>number_credits</th>\n",
              "      <th>job</th>\n",
              "      <th>people_liable</th>\n",
              "      <th>telephone</th>\n",
              "      <th>foreign_worker</th>\n",
              "      <th>credit_risk</th>\n",
              "    </tr>\n",
              "  </thead>\n",
              "  <tbody>\n",
              "    <tr>\n",
              "      <th>0</th>\n",
              "      <td>1</td>\n",
              "      <td>18</td>\n",
              "      <td>4</td>\n",
              "      <td>2</td>\n",
              "      <td>1049</td>\n",
              "      <td>1</td>\n",
              "      <td>2</td>\n",
              "      <td>4</td>\n",
              "      <td>2</td>\n",
              "      <td>1</td>\n",
              "      <td>4</td>\n",
              "      <td>2</td>\n",
              "      <td>21</td>\n",
              "      <td>3</td>\n",
              "      <td>1</td>\n",
              "      <td>1</td>\n",
              "      <td>3</td>\n",
              "      <td>2</td>\n",
              "      <td>1</td>\n",
              "      <td>2</td>\n",
              "      <td>1</td>\n",
              "    </tr>\n",
              "    <tr>\n",
              "      <th>1</th>\n",
              "      <td>1</td>\n",
              "      <td>9</td>\n",
              "      <td>4</td>\n",
              "      <td>0</td>\n",
              "      <td>2799</td>\n",
              "      <td>1</td>\n",
              "      <td>3</td>\n",
              "      <td>2</td>\n",
              "      <td>3</td>\n",
              "      <td>1</td>\n",
              "      <td>2</td>\n",
              "      <td>1</td>\n",
              "      <td>36</td>\n",
              "      <td>3</td>\n",
              "      <td>1</td>\n",
              "      <td>2</td>\n",
              "      <td>3</td>\n",
              "      <td>1</td>\n",
              "      <td>1</td>\n",
              "      <td>2</td>\n",
              "      <td>1</td>\n",
              "    </tr>\n",
              "    <tr>\n",
              "      <th>2</th>\n",
              "      <td>2</td>\n",
              "      <td>12</td>\n",
              "      <td>2</td>\n",
              "      <td>9</td>\n",
              "      <td>841</td>\n",
              "      <td>2</td>\n",
              "      <td>4</td>\n",
              "      <td>2</td>\n",
              "      <td>2</td>\n",
              "      <td>1</td>\n",
              "      <td>4</td>\n",
              "      <td>1</td>\n",
              "      <td>23</td>\n",
              "      <td>3</td>\n",
              "      <td>1</td>\n",
              "      <td>1</td>\n",
              "      <td>2</td>\n",
              "      <td>2</td>\n",
              "      <td>1</td>\n",
              "      <td>2</td>\n",
              "      <td>1</td>\n",
              "    </tr>\n",
              "    <tr>\n",
              "      <th>3</th>\n",
              "      <td>1</td>\n",
              "      <td>12</td>\n",
              "      <td>4</td>\n",
              "      <td>0</td>\n",
              "      <td>2122</td>\n",
              "      <td>1</td>\n",
              "      <td>3</td>\n",
              "      <td>3</td>\n",
              "      <td>3</td>\n",
              "      <td>1</td>\n",
              "      <td>2</td>\n",
              "      <td>1</td>\n",
              "      <td>39</td>\n",
              "      <td>3</td>\n",
              "      <td>1</td>\n",
              "      <td>2</td>\n",
              "      <td>2</td>\n",
              "      <td>1</td>\n",
              "      <td>1</td>\n",
              "      <td>1</td>\n",
              "      <td>1</td>\n",
              "    </tr>\n",
              "    <tr>\n",
              "      <th>4</th>\n",
              "      <td>1</td>\n",
              "      <td>12</td>\n",
              "      <td>4</td>\n",
              "      <td>0</td>\n",
              "      <td>2171</td>\n",
              "      <td>1</td>\n",
              "      <td>3</td>\n",
              "      <td>4</td>\n",
              "      <td>3</td>\n",
              "      <td>1</td>\n",
              "      <td>4</td>\n",
              "      <td>2</td>\n",
              "      <td>38</td>\n",
              "      <td>1</td>\n",
              "      <td>2</td>\n",
              "      <td>2</td>\n",
              "      <td>2</td>\n",
              "      <td>2</td>\n",
              "      <td>1</td>\n",
              "      <td>1</td>\n",
              "      <td>1</td>\n",
              "    </tr>\n",
              "  </tbody>\n",
              "</table>\n",
              "</div>"
            ],
            "text/plain": [
              "   status  duration  credit_history  ...  telephone  foreign_worker  credit_risk\n",
              "0       1        18               4  ...          1               2            1\n",
              "1       1         9               4  ...          1               2            1\n",
              "2       2        12               2  ...          1               2            1\n",
              "3       1        12               4  ...          1               1            1\n",
              "4       1        12               4  ...          1               1            1\n",
              "\n",
              "[5 rows x 21 columns]"
            ]
          },
          "metadata": {
            "tags": []
          },
          "execution_count": 12
        }
      ]
    },
    {
      "cell_type": "code",
      "metadata": {
        "colab": {
          "base_uri": "https://localhost:8080/",
          "height": 317
        },
        "id": "HbfkhwoqLxgZ",
        "outputId": "80dbbdce-ec66-4332-89ec-7497e24b2797"
      },
      "source": [
        "#statistical summary\n",
        "df.describe()"
      ],
      "execution_count": null,
      "outputs": [
        {
          "output_type": "execute_result",
          "data": {
            "text/html": [
              "<div>\n",
              "<style scoped>\n",
              "    .dataframe tbody tr th:only-of-type {\n",
              "        vertical-align: middle;\n",
              "    }\n",
              "\n",
              "    .dataframe tbody tr th {\n",
              "        vertical-align: top;\n",
              "    }\n",
              "\n",
              "    .dataframe thead th {\n",
              "        text-align: right;\n",
              "    }\n",
              "</style>\n",
              "<table border=\"1\" class=\"dataframe\">\n",
              "  <thead>\n",
              "    <tr style=\"text-align: right;\">\n",
              "      <th></th>\n",
              "      <th>status</th>\n",
              "      <th>duration</th>\n",
              "      <th>credit_history</th>\n",
              "      <th>purpose</th>\n",
              "      <th>amount</th>\n",
              "      <th>savings</th>\n",
              "      <th>employment_duration</th>\n",
              "      <th>installment_rate</th>\n",
              "      <th>personal_status_sex</th>\n",
              "      <th>other_debtors</th>\n",
              "      <th>present_residence</th>\n",
              "      <th>property</th>\n",
              "      <th>age</th>\n",
              "      <th>other_installment_plans</th>\n",
              "      <th>housing</th>\n",
              "      <th>number_credits</th>\n",
              "      <th>job</th>\n",
              "      <th>people_liable</th>\n",
              "      <th>telephone</th>\n",
              "      <th>foreign_worker</th>\n",
              "      <th>credit_risk</th>\n",
              "    </tr>\n",
              "  </thead>\n",
              "  <tbody>\n",
              "    <tr>\n",
              "      <th>count</th>\n",
              "      <td>1000.000000</td>\n",
              "      <td>1000.000000</td>\n",
              "      <td>1000.00000</td>\n",
              "      <td>1000.000000</td>\n",
              "      <td>1000.00000</td>\n",
              "      <td>1000.000000</td>\n",
              "      <td>1000.000000</td>\n",
              "      <td>1000.000000</td>\n",
              "      <td>1000.00000</td>\n",
              "      <td>1000.000000</td>\n",
              "      <td>1000.000000</td>\n",
              "      <td>1000.000000</td>\n",
              "      <td>1000.00000</td>\n",
              "      <td>1000.000000</td>\n",
              "      <td>1000.000000</td>\n",
              "      <td>1000.000000</td>\n",
              "      <td>1000.000000</td>\n",
              "      <td>1000.000000</td>\n",
              "      <td>1000.000000</td>\n",
              "      <td>1000.000000</td>\n",
              "      <td>1000.000000</td>\n",
              "    </tr>\n",
              "    <tr>\n",
              "      <th>mean</th>\n",
              "      <td>2.577000</td>\n",
              "      <td>20.903000</td>\n",
              "      <td>2.54500</td>\n",
              "      <td>2.828000</td>\n",
              "      <td>3271.24800</td>\n",
              "      <td>2.105000</td>\n",
              "      <td>3.384000</td>\n",
              "      <td>2.973000</td>\n",
              "      <td>2.68200</td>\n",
              "      <td>1.145000</td>\n",
              "      <td>2.845000</td>\n",
              "      <td>2.358000</td>\n",
              "      <td>35.54200</td>\n",
              "      <td>2.675000</td>\n",
              "      <td>1.928000</td>\n",
              "      <td>1.407000</td>\n",
              "      <td>2.904000</td>\n",
              "      <td>1.845000</td>\n",
              "      <td>1.404000</td>\n",
              "      <td>1.963000</td>\n",
              "      <td>0.700000</td>\n",
              "    </tr>\n",
              "    <tr>\n",
              "      <th>std</th>\n",
              "      <td>1.257638</td>\n",
              "      <td>12.058814</td>\n",
              "      <td>1.08312</td>\n",
              "      <td>2.744439</td>\n",
              "      <td>2822.75176</td>\n",
              "      <td>1.580023</td>\n",
              "      <td>1.208306</td>\n",
              "      <td>1.118715</td>\n",
              "      <td>0.70808</td>\n",
              "      <td>0.477706</td>\n",
              "      <td>1.103718</td>\n",
              "      <td>1.050209</td>\n",
              "      <td>11.35267</td>\n",
              "      <td>0.705601</td>\n",
              "      <td>0.530186</td>\n",
              "      <td>0.577654</td>\n",
              "      <td>0.653614</td>\n",
              "      <td>0.362086</td>\n",
              "      <td>0.490943</td>\n",
              "      <td>0.188856</td>\n",
              "      <td>0.458487</td>\n",
              "    </tr>\n",
              "    <tr>\n",
              "      <th>min</th>\n",
              "      <td>1.000000</td>\n",
              "      <td>4.000000</td>\n",
              "      <td>0.00000</td>\n",
              "      <td>0.000000</td>\n",
              "      <td>250.00000</td>\n",
              "      <td>1.000000</td>\n",
              "      <td>1.000000</td>\n",
              "      <td>1.000000</td>\n",
              "      <td>1.00000</td>\n",
              "      <td>1.000000</td>\n",
              "      <td>1.000000</td>\n",
              "      <td>1.000000</td>\n",
              "      <td>19.00000</td>\n",
              "      <td>1.000000</td>\n",
              "      <td>1.000000</td>\n",
              "      <td>1.000000</td>\n",
              "      <td>1.000000</td>\n",
              "      <td>1.000000</td>\n",
              "      <td>1.000000</td>\n",
              "      <td>1.000000</td>\n",
              "      <td>0.000000</td>\n",
              "    </tr>\n",
              "    <tr>\n",
              "      <th>25%</th>\n",
              "      <td>1.000000</td>\n",
              "      <td>12.000000</td>\n",
              "      <td>2.00000</td>\n",
              "      <td>1.000000</td>\n",
              "      <td>1365.50000</td>\n",
              "      <td>1.000000</td>\n",
              "      <td>3.000000</td>\n",
              "      <td>2.000000</td>\n",
              "      <td>2.00000</td>\n",
              "      <td>1.000000</td>\n",
              "      <td>2.000000</td>\n",
              "      <td>1.000000</td>\n",
              "      <td>27.00000</td>\n",
              "      <td>3.000000</td>\n",
              "      <td>2.000000</td>\n",
              "      <td>1.000000</td>\n",
              "      <td>3.000000</td>\n",
              "      <td>2.000000</td>\n",
              "      <td>1.000000</td>\n",
              "      <td>2.000000</td>\n",
              "      <td>0.000000</td>\n",
              "    </tr>\n",
              "    <tr>\n",
              "      <th>50%</th>\n",
              "      <td>2.000000</td>\n",
              "      <td>18.000000</td>\n",
              "      <td>2.00000</td>\n",
              "      <td>2.000000</td>\n",
              "      <td>2319.50000</td>\n",
              "      <td>1.000000</td>\n",
              "      <td>3.000000</td>\n",
              "      <td>3.000000</td>\n",
              "      <td>3.00000</td>\n",
              "      <td>1.000000</td>\n",
              "      <td>3.000000</td>\n",
              "      <td>2.000000</td>\n",
              "      <td>33.00000</td>\n",
              "      <td>3.000000</td>\n",
              "      <td>2.000000</td>\n",
              "      <td>1.000000</td>\n",
              "      <td>3.000000</td>\n",
              "      <td>2.000000</td>\n",
              "      <td>1.000000</td>\n",
              "      <td>2.000000</td>\n",
              "      <td>1.000000</td>\n",
              "    </tr>\n",
              "    <tr>\n",
              "      <th>75%</th>\n",
              "      <td>4.000000</td>\n",
              "      <td>24.000000</td>\n",
              "      <td>4.00000</td>\n",
              "      <td>3.000000</td>\n",
              "      <td>3972.25000</td>\n",
              "      <td>3.000000</td>\n",
              "      <td>5.000000</td>\n",
              "      <td>4.000000</td>\n",
              "      <td>3.00000</td>\n",
              "      <td>1.000000</td>\n",
              "      <td>4.000000</td>\n",
              "      <td>3.000000</td>\n",
              "      <td>42.00000</td>\n",
              "      <td>3.000000</td>\n",
              "      <td>2.000000</td>\n",
              "      <td>2.000000</td>\n",
              "      <td>3.000000</td>\n",
              "      <td>2.000000</td>\n",
              "      <td>2.000000</td>\n",
              "      <td>2.000000</td>\n",
              "      <td>1.000000</td>\n",
              "    </tr>\n",
              "    <tr>\n",
              "      <th>max</th>\n",
              "      <td>4.000000</td>\n",
              "      <td>72.000000</td>\n",
              "      <td>4.00000</td>\n",
              "      <td>10.000000</td>\n",
              "      <td>18424.00000</td>\n",
              "      <td>5.000000</td>\n",
              "      <td>5.000000</td>\n",
              "      <td>4.000000</td>\n",
              "      <td>4.00000</td>\n",
              "      <td>3.000000</td>\n",
              "      <td>4.000000</td>\n",
              "      <td>4.000000</td>\n",
              "      <td>75.00000</td>\n",
              "      <td>3.000000</td>\n",
              "      <td>3.000000</td>\n",
              "      <td>4.000000</td>\n",
              "      <td>4.000000</td>\n",
              "      <td>2.000000</td>\n",
              "      <td>2.000000</td>\n",
              "      <td>2.000000</td>\n",
              "      <td>1.000000</td>\n",
              "    </tr>\n",
              "  </tbody>\n",
              "</table>\n",
              "</div>"
            ],
            "text/plain": [
              "            status     duration  ...  foreign_worker  credit_risk\n",
              "count  1000.000000  1000.000000  ...     1000.000000  1000.000000\n",
              "mean      2.577000    20.903000  ...        1.963000     0.700000\n",
              "std       1.257638    12.058814  ...        0.188856     0.458487\n",
              "min       1.000000     4.000000  ...        1.000000     0.000000\n",
              "25%       1.000000    12.000000  ...        2.000000     0.000000\n",
              "50%       2.000000    18.000000  ...        2.000000     1.000000\n",
              "75%       4.000000    24.000000  ...        2.000000     1.000000\n",
              "max       4.000000    72.000000  ...        2.000000     1.000000\n",
              "\n",
              "[8 rows x 21 columns]"
            ]
          },
          "metadata": {
            "tags": []
          },
          "execution_count": 13
        }
      ]
    },
    {
      "cell_type": "code",
      "metadata": {
        "colab": {
          "base_uri": "https://localhost:8080/"
        },
        "id": "61YIvGJ9MOQV",
        "outputId": "e31cbad3-e0c4-4cb7-a8d4-620311f750ba"
      },
      "source": [
        "#checking null values\n",
        "df.isnull().sum()\n",
        "#no null value"
      ],
      "execution_count": null,
      "outputs": [
        {
          "output_type": "execute_result",
          "data": {
            "text/plain": [
              "status                     0\n",
              "duration                   0\n",
              "credit_history             0\n",
              "purpose                    0\n",
              "amount                     0\n",
              "savings                    0\n",
              "employment_duration        0\n",
              "installment_rate           0\n",
              "personal_status_sex        0\n",
              "other_debtors              0\n",
              "present_residence          0\n",
              "property                   0\n",
              "age                        0\n",
              "other_installment_plans    0\n",
              "housing                    0\n",
              "number_credits             0\n",
              "job                        0\n",
              "people_liable              0\n",
              "telephone                  0\n",
              "foreign_worker             0\n",
              "credit_risk                0\n",
              "dtype: int64"
            ]
          },
          "metadata": {
            "tags": []
          },
          "execution_count": 14
        }
      ]
    },
    {
      "cell_type": "code",
      "metadata": {
        "colab": {
          "base_uri": "https://localhost:8080/",
          "height": 459
        },
        "id": "jztgxtxuQ9c5",
        "outputId": "b9500e73-8351-4c5d-c4dd-5835739e4785"
      },
      "source": [
        "fig = plt.figure(figsize = (5,5))\n",
        "ax = fig.add_axes([0,0,1,1])\n",
        "labels = ['Bad (0)', 'Good (1)']\n",
        "values = df.credit_risk.value_counts()\n",
        "ax.bar(labels, values, width = 0.25)\n",
        "plt.show()\n",
        "print(values)"
      ],
      "execution_count": null,
      "outputs": [
        {
          "output_type": "display_data",
          "data": {
            "image/png": "[encoded data removed]",
            "text/plain": [
              "<Figure size 360x360 with 1 Axes>"
            ]
          },
          "metadata": {
            "tags": []
          }
        },
        {
          "output_type": "stream",
          "text": [
            "1    700\n",
            "0    300\n",
            "Name: credit_risk, dtype: int64\n"
          ],
          "name": "stdout"
        }
      ]
    },
    {
      "cell_type": "markdown",
      "metadata": {
        "id": "XwOJnLzkSKe5"
      },
      "source": [
        "**Outliers**"
      ]
    },
    {
      "cell_type": "code",
      "metadata": {
        "colab": {
          "base_uri": "https://localhost:8080/",
          "height": 592
        },
        "id": "SroaJ_qxWP84",
        "outputId": "d7aa6a0c-a6cb-4264-81a7-ac37aae890fa"
      },
      "source": [
        "#visualise outliers - circles are outliers\n",
        "color = {\n",
        "    \"boxes\": \"DarkGreen\",\n",
        "    \"whiskers\": \"DarkOrange\",\n",
        "    \"medians\": \"DarkBlue\",\n",
        "    \"caps\": \"Gray\",\n",
        "}\n",
        " \n",
        "\n",
        "df.plot.box(figsize=(20,10),color=color, sym=\"grey\")\n",
        "plt.savefig('outliers')"
      ],
      "execution_count": null,
      "outputs": [
        {
          "output_type": "display_data",
          "data": {
            "image/png": "[encoded data removed]",
            "text/plain": [
              "<Figure size 1440x720 with 1 Axes>"
            ]
          },
          "metadata": {
            "tags": []
          }
        }
      ]
    },
    {
      "cell_type": "code",
      "metadata": {
        "colab": {
          "base_uri": "https://localhost:8080/",
          "height": 224
        },
        "id": "oe67fZ_wSEKp",
        "outputId": "60ef4a01-421d-4dcb-b616-144b5b1241ce"
      },
      "source": [
        "#calculating z-score to detect outliers, then converting it to dataframe\n",
        "#z- scores greater than 3 or lower than -3 are outliers\n",
        "zscore = stats.zscore(df)\n",
        "scores = pd.DataFrame(zscore)\n",
        "scores.head()"
      ],
      "execution_count": null,
      "outputs": [
        {
          "output_type": "execute_result",
          "data": {
            "text/html": [
              "<div>\n",
              "<style scoped>\n",
              "    .dataframe tbody tr th:only-of-type {\n",
              "        vertical-align: middle;\n",
              "    }\n",
              "\n",
              "    .dataframe tbody tr th {\n",
              "        vertical-align: top;\n",
              "    }\n",
              "\n",
              "    .dataframe thead th {\n",
              "        text-align: right;\n",
              "    }\n",
              "</style>\n",
              "<table border=\"1\" class=\"dataframe\">\n",
              "  <thead>\n",
              "    <tr style=\"text-align: right;\">\n",
              "      <th></th>\n",
              "      <th>0</th>\n",
              "      <th>1</th>\n",
              "      <th>2</th>\n",
              "      <th>3</th>\n",
              "      <th>4</th>\n",
              "      <th>5</th>\n",
              "      <th>6</th>\n",
              "      <th>7</th>\n",
              "      <th>8</th>\n",
              "      <th>9</th>\n",
              "      <th>10</th>\n",
              "      <th>11</th>\n",
              "      <th>12</th>\n",
              "      <th>13</th>\n",
              "      <th>14</th>\n",
              "      <th>15</th>\n",
              "      <th>16</th>\n",
              "      <th>17</th>\n",
              "      <th>18</th>\n",
              "      <th>19</th>\n",
              "      <th>20</th>\n",
              "    </tr>\n",
              "  </thead>\n",
              "  <tbody>\n",
              "    <tr>\n",
              "      <th>0</th>\n",
              "      <td>-1.254566</td>\n",
              "      <td>-0.240857</td>\n",
              "      <td>1.344014</td>\n",
              "      <td>-0.301852</td>\n",
              "      <td>-0.787657</td>\n",
              "      <td>-0.699707</td>\n",
              "      <td>-1.145978</td>\n",
              "      <td>0.918477</td>\n",
              "      <td>-0.963650</td>\n",
              "      <td>-0.303686</td>\n",
              "      <td>1.046987</td>\n",
              "      <td>-0.341055</td>\n",
              "      <td>-1.281573</td>\n",
              "      <td>0.460831</td>\n",
              "      <td>-1.751205</td>\n",
              "      <td>-0.704926</td>\n",
              "      <td>0.146949</td>\n",
              "      <td>0.428290</td>\n",
              "      <td>-0.823318</td>\n",
              "      <td>0.196014</td>\n",
              "      <td>0.654654</td>\n",
              "    </tr>\n",
              "    <tr>\n",
              "      <th>1</th>\n",
              "      <td>-1.254566</td>\n",
              "      <td>-0.987573</td>\n",
              "      <td>1.344014</td>\n",
              "      <td>-1.030963</td>\n",
              "      <td>-0.167384</td>\n",
              "      <td>-0.699707</td>\n",
              "      <td>-0.317959</td>\n",
              "      <td>-0.870183</td>\n",
              "      <td>0.449326</td>\n",
              "      <td>-0.303686</td>\n",
              "      <td>-0.765977</td>\n",
              "      <td>-1.293723</td>\n",
              "      <td>0.040363</td>\n",
              "      <td>0.460831</td>\n",
              "      <td>-1.751205</td>\n",
              "      <td>1.027079</td>\n",
              "      <td>0.146949</td>\n",
              "      <td>-2.334869</td>\n",
              "      <td>-0.823318</td>\n",
              "      <td>0.196014</td>\n",
              "      <td>0.654654</td>\n",
              "    </tr>\n",
              "    <tr>\n",
              "      <th>2</th>\n",
              "      <td>-0.459026</td>\n",
              "      <td>-0.738668</td>\n",
              "      <td>-0.503428</td>\n",
              "      <td>2.250036</td>\n",
              "      <td>-0.861381</td>\n",
              "      <td>-0.066488</td>\n",
              "      <td>0.510060</td>\n",
              "      <td>-0.870183</td>\n",
              "      <td>-0.963650</td>\n",
              "      <td>-0.303686</td>\n",
              "      <td>1.046987</td>\n",
              "      <td>-1.293723</td>\n",
              "      <td>-1.105315</td>\n",
              "      <td>0.460831</td>\n",
              "      <td>-1.751205</td>\n",
              "      <td>-0.704926</td>\n",
              "      <td>-1.383771</td>\n",
              "      <td>0.428290</td>\n",
              "      <td>-0.823318</td>\n",
              "      <td>0.196014</td>\n",
              "      <td>0.654654</td>\n",
              "    </tr>\n",
              "    <tr>\n",
              "      <th>3</th>\n",
              "      <td>-1.254566</td>\n",
              "      <td>-0.738668</td>\n",
              "      <td>1.344014</td>\n",
              "      <td>-1.030963</td>\n",
              "      <td>-0.407341</td>\n",
              "      <td>-0.699707</td>\n",
              "      <td>-0.317959</td>\n",
              "      <td>0.024147</td>\n",
              "      <td>0.449326</td>\n",
              "      <td>-0.303686</td>\n",
              "      <td>-0.765977</td>\n",
              "      <td>-1.293723</td>\n",
              "      <td>0.304750</td>\n",
              "      <td>0.460831</td>\n",
              "      <td>-1.751205</td>\n",
              "      <td>1.027079</td>\n",
              "      <td>-1.383771</td>\n",
              "      <td>-2.334869</td>\n",
              "      <td>-0.823318</td>\n",
              "      <td>-5.101669</td>\n",
              "      <td>0.654654</td>\n",
              "    </tr>\n",
              "    <tr>\n",
              "      <th>4</th>\n",
              "      <td>-1.254566</td>\n",
              "      <td>-0.738668</td>\n",
              "      <td>1.344014</td>\n",
              "      <td>-1.030963</td>\n",
              "      <td>-0.389974</td>\n",
              "      <td>-0.699707</td>\n",
              "      <td>-0.317959</td>\n",
              "      <td>0.918477</td>\n",
              "      <td>0.449326</td>\n",
              "      <td>-0.303686</td>\n",
              "      <td>1.046987</td>\n",
              "      <td>-0.341055</td>\n",
              "      <td>0.216621</td>\n",
              "      <td>-2.375050</td>\n",
              "      <td>0.135869</td>\n",
              "      <td>1.027079</td>\n",
              "      <td>-1.383771</td>\n",
              "      <td>0.428290</td>\n",
              "      <td>-0.823318</td>\n",
              "      <td>-5.101669</td>\n",
              "      <td>0.654654</td>\n",
              "    </tr>\n",
              "  </tbody>\n",
              "</table>\n",
              "</div>"
            ],
            "text/plain": [
              "         0         1         2   ...        18        19        20\n",
              "0 -1.254566 -0.240857  1.344014  ... -0.823318  0.196014  0.654654\n",
              "1 -1.254566 -0.987573  1.344014  ... -0.823318  0.196014  0.654654\n",
              "2 -0.459026 -0.738668 -0.503428  ... -0.823318  0.196014  0.654654\n",
              "3 -1.254566 -0.738668  1.344014  ... -0.823318 -5.101669  0.654654\n",
              "4 -1.254566 -0.738668  1.344014  ... -0.823318 -5.101669  0.654654\n",
              "\n",
              "[5 rows x 21 columns]"
            ]
          },
          "metadata": {
            "tags": []
          },
          "execution_count": 17
        }
      ]
    },
    {
      "cell_type": "code",
      "metadata": {
        "id": "TdaDDPZJSjln"
      },
      "source": [
        "# z-score that greater than 4 or lower than -4 is dropped\n",
        "k = []\n",
        "for i in range (scores.shape[0]):\n",
        "  for j in range(len(scores.columns)):\n",
        "    if scores.iloc[i,j]>4 or scores.iloc[i,j]<-4:\n",
        "       k.append(i)\n",
        "\n",
        "scores.drop(index=k, inplace = True)\n",
        "df.drop(index=k, inplace = True)"
      ],
      "execution_count": null,
      "outputs": []
    },
    {
      "cell_type": "code",
      "metadata": {
        "id": "iOgKMi9hIFoi"
      },
      "source": [
        "df.reset_index(drop=True, inplace = True)"
      ],
      "execution_count": null,
      "outputs": []
    },
    {
      "cell_type": "code",
      "metadata": {
        "colab": {
          "base_uri": "https://localhost:8080/",
          "height": 224
        },
        "id": "3JRexdcbINfz",
        "outputId": "96f78959-21ac-4df6-8240-6742db26f05e"
      },
      "source": [
        "df.head()"
      ],
      "execution_count": null,
      "outputs": [
        {
          "output_type": "execute_result",
          "data": {
            "text/html": [
              "<div>\n",
              "<style scoped>\n",
              "    .dataframe tbody tr th:only-of-type {\n",
              "        vertical-align: middle;\n",
              "    }\n",
              "\n",
              "    .dataframe tbody tr th {\n",
              "        vertical-align: top;\n",
              "    }\n",
              "\n",
              "    .dataframe thead th {\n",
              "        text-align: right;\n",
              "    }\n",
              "</style>\n",
              "<table border=\"1\" class=\"dataframe\">\n",
              "  <thead>\n",
              "    <tr style=\"text-align: right;\">\n",
              "      <th></th>\n",
              "      <th>status</th>\n",
              "      <th>duration</th>\n",
              "      <th>credit_history</th>\n",
              "      <th>purpose</th>\n",
              "      <th>amount</th>\n",
              "      <th>savings</th>\n",
              "      <th>employment_duration</th>\n",
              "      <th>installment_rate</th>\n",
              "      <th>personal_status_sex</th>\n",
              "      <th>other_debtors</th>\n",
              "      <th>present_residence</th>\n",
              "      <th>property</th>\n",
              "      <th>age</th>\n",
              "      <th>other_installment_plans</th>\n",
              "      <th>housing</th>\n",
              "      <th>number_credits</th>\n",
              "      <th>job</th>\n",
              "      <th>people_liable</th>\n",
              "      <th>telephone</th>\n",
              "      <th>foreign_worker</th>\n",
              "      <th>credit_risk</th>\n",
              "    </tr>\n",
              "  </thead>\n",
              "  <tbody>\n",
              "    <tr>\n",
              "      <th>0</th>\n",
              "      <td>1</td>\n",
              "      <td>18</td>\n",
              "      <td>4</td>\n",
              "      <td>2</td>\n",
              "      <td>1049</td>\n",
              "      <td>1</td>\n",
              "      <td>2</td>\n",
              "      <td>4</td>\n",
              "      <td>2</td>\n",
              "      <td>1</td>\n",
              "      <td>4</td>\n",
              "      <td>2</td>\n",
              "      <td>21</td>\n",
              "      <td>3</td>\n",
              "      <td>1</td>\n",
              "      <td>1</td>\n",
              "      <td>3</td>\n",
              "      <td>2</td>\n",
              "      <td>1</td>\n",
              "      <td>2</td>\n",
              "      <td>1</td>\n",
              "    </tr>\n",
              "    <tr>\n",
              "      <th>1</th>\n",
              "      <td>1</td>\n",
              "      <td>9</td>\n",
              "      <td>4</td>\n",
              "      <td>0</td>\n",
              "      <td>2799</td>\n",
              "      <td>1</td>\n",
              "      <td>3</td>\n",
              "      <td>2</td>\n",
              "      <td>3</td>\n",
              "      <td>1</td>\n",
              "      <td>2</td>\n",
              "      <td>1</td>\n",
              "      <td>36</td>\n",
              "      <td>3</td>\n",
              "      <td>1</td>\n",
              "      <td>2</td>\n",
              "      <td>3</td>\n",
              "      <td>1</td>\n",
              "      <td>1</td>\n",
              "      <td>2</td>\n",
              "      <td>1</td>\n",
              "    </tr>\n",
              "    <tr>\n",
              "      <th>2</th>\n",
              "      <td>2</td>\n",
              "      <td>12</td>\n",
              "      <td>2</td>\n",
              "      <td>9</td>\n",
              "      <td>841</td>\n",
              "      <td>2</td>\n",
              "      <td>4</td>\n",
              "      <td>2</td>\n",
              "      <td>2</td>\n",
              "      <td>1</td>\n",
              "      <td>4</td>\n",
              "      <td>1</td>\n",
              "      <td>23</td>\n",
              "      <td>3</td>\n",
              "      <td>1</td>\n",
              "      <td>1</td>\n",
              "      <td>2</td>\n",
              "      <td>2</td>\n",
              "      <td>1</td>\n",
              "      <td>2</td>\n",
              "      <td>1</td>\n",
              "    </tr>\n",
              "    <tr>\n",
              "      <th>3</th>\n",
              "      <td>4</td>\n",
              "      <td>18</td>\n",
              "      <td>4</td>\n",
              "      <td>3</td>\n",
              "      <td>1098</td>\n",
              "      <td>1</td>\n",
              "      <td>1</td>\n",
              "      <td>4</td>\n",
              "      <td>2</td>\n",
              "      <td>1</td>\n",
              "      <td>4</td>\n",
              "      <td>3</td>\n",
              "      <td>65</td>\n",
              "      <td>3</td>\n",
              "      <td>2</td>\n",
              "      <td>2</td>\n",
              "      <td>1</td>\n",
              "      <td>2</td>\n",
              "      <td>1</td>\n",
              "      <td>2</td>\n",
              "      <td>1</td>\n",
              "    </tr>\n",
              "    <tr>\n",
              "      <th>4</th>\n",
              "      <td>2</td>\n",
              "      <td>24</td>\n",
              "      <td>2</td>\n",
              "      <td>3</td>\n",
              "      <td>3758</td>\n",
              "      <td>3</td>\n",
              "      <td>1</td>\n",
              "      <td>1</td>\n",
              "      <td>2</td>\n",
              "      <td>1</td>\n",
              "      <td>4</td>\n",
              "      <td>4</td>\n",
              "      <td>23</td>\n",
              "      <td>3</td>\n",
              "      <td>1</td>\n",
              "      <td>1</td>\n",
              "      <td>1</td>\n",
              "      <td>2</td>\n",
              "      <td>1</td>\n",
              "      <td>2</td>\n",
              "      <td>1</td>\n",
              "    </tr>\n",
              "  </tbody>\n",
              "</table>\n",
              "</div>"
            ],
            "text/plain": [
              "   status  duration  credit_history  ...  telephone  foreign_worker  credit_risk\n",
              "0       1        18               4  ...          1               2            1\n",
              "1       1         9               4  ...          1               2            1\n",
              "2       2        12               2  ...          1               2            1\n",
              "3       4        18               4  ...          1               2            1\n",
              "4       2        24               2  ...          1               2            1\n",
              "\n",
              "[5 rows x 21 columns]"
            ]
          },
          "metadata": {
            "tags": []
          },
          "execution_count": 20
        }
      ]
    },
    {
      "cell_type": "code",
      "metadata": {
        "id": "zbDQeKkWSz_3"
      },
      "source": [
        "# other outliers is replaced with lower or upper bound based on Interquartile Range\n",
        "for i in range (scores.shape[0]):\n",
        "  for j in range(len(scores.columns)):\n",
        "\n",
        "    Q1 = df.iloc[:,j].quantile(0.25) #25th percentile\n",
        "    Q3 = df.iloc[:,j].quantile(0.75) #75th percentile\n",
        "    IQR = Q3 - Q1\n",
        "\n",
        "    if df.iloc[i,j] < Q1 - 1.5 * IQR:\n",
        "        df.iloc[i,j] = Q1 - 1.5 * IQR\n",
        "    elif df.iloc[i,j] > Q3 + 1.5 * IQR:\n",
        "        df.iloc[i,j] = Q3 + 1.5 * IQR"
      ],
      "execution_count": null,
      "outputs": []
    },
    {
      "cell_type": "code",
      "metadata": {
        "colab": {
          "base_uri": "https://localhost:8080/",
          "height": 283
        },
        "id": "48RLC7Y0S4fP",
        "outputId": "9ee1c143-acf6-4c5b-8638-c0652c8f0876"
      },
      "source": [
        "#checking dataframe again after handling outliers\n",
        "color = {\n",
        "    \"boxes\": \"DarkGreen\",\n",
        "    \"whiskers\": \"DarkOrange\",\n",
        "    \"medians\": \"DarkBlue\",\n",
        "    \"caps\": \"Gray\",\n",
        "}\n",
        " \n",
        "\n",
        "df.plot.box(color=color, sym=\"grey\")\n",
        "#there is no outlier anymore"
      ],
      "execution_count": null,
      "outputs": [
        {
          "output_type": "execute_result",
          "data": {
            "text/plain": [
              "<matplotlib.axes._subplots.AxesSubplot at 0x7f2164a7a5c0>"
            ]
          },
          "metadata": {
            "tags": []
          },
          "execution_count": 22
        },
        {
          "output_type": "display_data",
          "data": {
            "image/png": "[encoded data removed]",
            "text/plain": [
              "<Figure size 432x288 with 1 Axes>"
            ]
          },
          "metadata": {
            "tags": []
          }
        }
      ]
    },
    {
      "cell_type": "code",
      "metadata": {
        "colab": {
          "base_uri": "https://localhost:8080/"
        },
        "id": "G3dcWV0N6azp",
        "outputId": "4af544a2-9f63-4b89-aac4-8c966afb4b77"
      },
      "source": [
        "df.count()"
      ],
      "execution_count": null,
      "outputs": [
        {
          "output_type": "execute_result",
          "data": {
            "text/plain": [
              "status                     950\n",
              "duration                   950\n",
              "credit_history             950\n",
              "purpose                    950\n",
              "amount                     950\n",
              "savings                    950\n",
              "employment_duration        950\n",
              "installment_rate           950\n",
              "personal_status_sex        950\n",
              "other_debtors              950\n",
              "present_residence          950\n",
              "property                   950\n",
              "age                        950\n",
              "other_installment_plans    950\n",
              "housing                    950\n",
              "number_credits             950\n",
              "job                        950\n",
              "people_liable              950\n",
              "telephone                  950\n",
              "foreign_worker             950\n",
              "credit_risk                950\n",
              "dtype: int64"
            ]
          },
          "metadata": {
            "tags": []
          },
          "execution_count": 23
        }
      ]
    },
    {
      "cell_type": "code",
      "metadata": {
        "colab": {
          "base_uri": "https://localhost:8080/",
          "height": 396
        },
        "id": "Y8y1niHdS9zb",
        "outputId": "b257deec-da23-469f-b494-2fd9adcf4707"
      },
      "source": [
        "sns.heatmap(df.corr(), xticklabels=df.columns, yticklabels=df.columns)"
      ],
      "execution_count": null,
      "outputs": [
        {
          "output_type": "execute_result",
          "data": {
            "text/plain": [
              "<matplotlib.axes._subplots.AxesSubplot at 0x7f2164886e80>"
            ]
          },
          "metadata": {
            "tags": []
          },
          "execution_count": 24
        },
        {
          "output_type": "display_data",
          "data": {
            "image/png": "[encoded data removed]",
            "text/plain": [
              "<Figure size 432x288 with 2 Axes>"
            ]
          },
          "metadata": {
            "tags": []
          }
        }
      ]
    },
    {
      "cell_type": "code",
      "metadata": {
        "id": "4SDqVZ0knjv5",
        "colab": {
          "base_uri": "https://localhost:8080/"
        },
        "outputId": "4992851f-a764-48fd-be1d-8bca8e944948"
      },
      "source": [
        "df[df.columns[0:]].corr()['credit_risk'][:-1]"
      ],
      "execution_count": null,
      "outputs": [
        {
          "output_type": "execute_result",
          "data": {
            "text/plain": [
              "status                     0.357113\n",
              "duration                  -0.194125\n",
              "credit_history             0.225963\n",
              "purpose                    0.006894\n",
              "amount                    -0.104788\n",
              "savings                    0.175569\n",
              "employment_duration        0.128934\n",
              "installment_rate          -0.078590\n",
              "personal_status_sex        0.084183\n",
              "other_debtors                   NaN\n",
              "present_residence          0.006166\n",
              "property                  -0.123304\n",
              "age                        0.101150\n",
              "other_installment_plans         NaN\n",
              "housing                         NaN\n",
              "number_credits             0.049556\n",
              "job                             NaN\n",
              "people_liable                   NaN\n",
              "telephone                  0.059275\n",
              "foreign_worker                  NaN\n",
              "Name: credit_risk, dtype: float64"
            ]
          },
          "metadata": {
            "tags": []
          },
          "execution_count": 25
        }
      ]
    },
    {
      "cell_type": "code",
      "metadata": {
        "id": "wYjz9hi1zCjg"
      },
      "source": [
        "dftt=df"
      ],
      "execution_count": null,
      "outputs": []
    },
    {
      "cell_type": "code",
      "metadata": {
        "id": "OhEzDrbynl7m"
      },
      "source": [
        "df = df.drop(columns = ['foreign_worker','people_liable','job','housing','other_installment_plans','other_debtors','purpose','present_residence'])"
      ],
      "execution_count": null,
      "outputs": []
    },
    {
      "cell_type": "code",
      "metadata": {
        "colab": {
          "base_uri": "https://localhost:8080/",
          "height": 316
        },
        "id": "AjcJmH6fdips",
        "outputId": "9999e94b-b213-45ec-a6ba-177c78ece814"
      },
      "source": [
        "df.hist(column='age')"
      ],
      "execution_count": null,
      "outputs": [
        {
          "output_type": "execute_result",
          "data": {
            "text/plain": [
              "array([[<matplotlib.axes._subplots.AxesSubplot object at 0x7f216479fa58>]],\n",
              "      dtype=object)"
            ]
          },
          "metadata": {
            "tags": []
          },
          "execution_count": 28
        },
        {
          "output_type": "display_data",
          "data": {
            "image/png": "[encoded data removed]",
            "text/plain": [
              "<Figure size 432x288 with 1 Axes>"
            ]
          },
          "metadata": {
            "tags": []
          }
        }
      ]
    },
    {
      "cell_type": "code",
      "metadata": {
        "colab": {
          "base_uri": "https://localhost:8080/",
          "height": 316
        },
        "id": "euLcvZJpdmxc",
        "outputId": "c32dcd82-adb8-4adf-faeb-ea2b9de11b94"
      },
      "source": [
        "df.hist(column='savings')"
      ],
      "execution_count": null,
      "outputs": [
        {
          "output_type": "execute_result",
          "data": {
            "text/plain": [
              "array([[<matplotlib.axes._subplots.AxesSubplot object at 0x7f2164678d68>]],\n",
              "      dtype=object)"
            ]
          },
          "metadata": {
            "tags": []
          },
          "execution_count": 29
        },
        {
          "output_type": "display_data",
          "data": {
            "image/png": "[encoded data removed]",
            "text/plain": [
              "<Figure size 432x288 with 1 Axes>"
            ]
          },
          "metadata": {
            "tags": []
          }
        }
      ]
    },
    {
      "cell_type": "code",
      "metadata": {
        "colab": {
          "base_uri": "https://localhost:8080/",
          "height": 316
        },
        "id": "97BBiXArdrh4",
        "outputId": "98b72812-5daf-4412-cf62-ef0ac761f6aa"
      },
      "source": [
        "df.hist(column='credit_history')"
      ],
      "execution_count": null,
      "outputs": [
        {
          "output_type": "execute_result",
          "data": {
            "text/plain": [
              "array([[<matplotlib.axes._subplots.AxesSubplot object at 0x7f2164a41c18>]],\n",
              "      dtype=object)"
            ]
          },
          "metadata": {
            "tags": []
          },
          "execution_count": 30
        },
        {
          "output_type": "display_data",
          "data": {
            "image/png": "[encoded data removed]",
            "text/plain": [
              "<Figure size 432x288 with 1 Axes>"
            ]
          },
          "metadata": {
            "tags": []
          }
        }
      ]
    },
    {
      "cell_type": "code",
      "metadata": {
        "colab": {
          "base_uri": "https://localhost:8080/",
          "height": 890
        },
        "id": "WeaGlP0rT1at",
        "outputId": "25776f08-92d9-49b6-f79c-f2479f06970a"
      },
      "source": [
        "#top 5 corrolated features\n",
        "top_corr = list(df.corr().index[1:6])\n",
        "top_corr = scatter_matrix(df[top_corr],  figsize=[15,15], diagonal='hist', alpha=0.5, s=100, edgecolor ='black')\n",
        "plt.show()"
      ],
      "execution_count": null,
      "outputs": [
        {
          "output_type": "display_data",
          "data": {
            "image/png": "[encoded data removed]",
            "text/plain": [
              "<Figure size 1080x1080 with 25 Axes>"
            ]
          },
          "metadata": {
            "tags": []
          }
        }
      ]
    },
    {
      "cell_type": "markdown",
      "metadata": {
        "id": "cCH1KYvQUg5k"
      },
      "source": [
        "### **Frequent Pattern Mining**"
      ]
    },
    {
      "cell_type": "markdown",
      "metadata": {
        "id": "ZUF6NuCdYJWF"
      },
      "source": [
        "**Apriori**"
      ]
    },
    {
      "cell_type": "code",
      "metadata": {
        "id": "do7C2YS65t6i"
      },
      "source": [
        "dft=dftt\n",
        "t_status = {1:'no checking account',\n",
        "            2:'<0 DM',\n",
        "            3:'>0<200 DM',\n",
        "            4:'> 200DM/at least 1 year salary'}\n",
        "\n",
        "t_credit_history={0:\"delay in paying off in the past\", \n",
        "                  1:\"critical account/other credits elsewhere\",\n",
        "                  2:\"no credits taken/all credits paid back duly\",\n",
        "                  3:\"existing credits paid back duly till now\",\n",
        "                  4:\"all credits at this bank paid back duly\"}\n",
        "\n",
        "t_purpose={0:\"others\", \n",
        "          1:\"new car\",\n",
        "          2:\"used car\",\n",
        "          3:\"furniture/equipment\",\n",
        "          4:\"radio/television\",\n",
        "          5:\"domestic appliances\", \n",
        "          6:\"repairs\",\n",
        "          7:\"education\",\n",
        "          8:\"vacation\",\n",
        "          9:\"retraining\",\n",
        "          10:\"business\"}\n",
        "        \n",
        "t_savings={1:\"unknown/no savings account\",2:\"... < 100 DM savings\",3:\"100<=...<500DM savings\", 4:\"500<=...<1000DM savings\",5:\"... >= 1000 DM savings\"}\n",
        "t_emp_duration={1:\"unemployed\",2:\"< 1yr employed\", 3:\"1<=... <4yrs employed\", 4:\"4<=... <7yrs employed\",5:\">=7yrs employed\"}\n",
        "t_ins_rate={1:\">= 35 installment rate\" ,2:\"25 <= ... <35 installment rate\",3:\"20 <= ... <25 installment rate\",4:\"<20 installment rate\"}\n",
        "tps={1:\"male : divorced/separated\",2:\"female : non-single or male : single\",3:\"male : married/widowed\",4:\"female : single\"}\n",
        "tod={1:\"none\",2:\"co-applicant\",3:\"guarantor\"}\n",
        "tpresidence={1:\"< 1 yr 1\", 2:\"<=... <4yrs\", 3:\"4<=... <7yrs\", 4: \">=7yrs\"}\n",
        "t_property={1:\"unknown / no property \",2: \"car or other\",3:\"building soc. savings agr./life insurance\",4: \"real estate\"}\n",
        "toi_plans={1:\"bank\",2:\"stores\", 3:\"none\"}\n",
        "t_housing={1:\"for free\", 2:\"rent\",3:\"own\"}\n",
        "t_number_credits={1:\"1 credit\",2:\"2-3 credit\", 3:\"4-5 credit\",4:\">=6 credit\"}\n",
        "t_job={1:\"unemployed/unskilled - non-resident\",2:\"unskilled - resident\", 3:\"skilled employee/official\", 4:\"manager/self-empl./highly qualif. employee\"}\n",
        "t_people_liable={1:\"3 or more\",2:\"0 to 2\"}\n",
        "t_telephone={1:\"no people liable\",2:\"people liable(under customer name)\"}\n",
        "t_foreign={1:\"foreign\",2:\"non foreign\"}\n",
        "\n",
        "\n",
        "dft.replace({\"status\": t_status},inplace=True)\n",
        "dft.replace({\"credit_history\": t_credit_history},inplace=True)\n",
        "dft.replace({\"purpose\": t_purpose},inplace=True)\n",
        "dft.replace({\"savings\": t_savings},inplace=True)\n",
        "dft.replace({\"employment_duration\": t_emp_duration},inplace=True)\n",
        "dft.replace({\"installment_rate\": t_ins_rate},inplace=True)\n",
        "dft.replace({\"personal_status_sex\": tps},inplace=True)\n",
        "dft.replace({\"other_debtors\": tod},inplace=True)\n",
        "dft.replace({\"present_residence\": tpresidence},inplace=True)\n",
        "dft.replace({\"property\": t_property},inplace=True)\n",
        "dft.replace({\"other_installment_plans\": toi_plans},inplace=True)\n",
        "dft.replace({\"housing\": t_housing},inplace=True)\n",
        "dft.replace({\"number_credits\": t_number_credits},inplace=True)\n",
        "dft.replace({\"job\": t_job},inplace=True)\n",
        "dft.replace({\"people_liable\": t_people_liable},inplace=True)\n",
        "dft.replace({\"telephone\": t_telephone},inplace=True)\n",
        "dft.replace({\"foreign_worker\": t_foreign},inplace=True)"
      ],
      "execution_count": null,
      "outputs": []
    },
    {
      "cell_type": "code",
      "metadata": {
        "id": "QHolJUeyM7Xh"
      },
      "source": [
        "dft_test = dft\n",
        "dft_test['duration'] = dft_test['duration'].astype('object')\n",
        "dft_test['amount'] = dft_test['amount'].astype('object')\n",
        "dft_test['age'] = dft_test['age'].astype('object')\n",
        "dft_test['credit_risk'] = dft_test['credit_risk'].astype('object')"
      ],
      "execution_count": null,
      "outputs": []
    },
    {
      "cell_type": "code",
      "metadata": {
        "id": "p78kqak4NFjk"
      },
      "source": [
        "dft_test = dft_test.astype('object')"
      ],
      "execution_count": null,
      "outputs": []
    },
    {
      "cell_type": "code",
      "metadata": {
        "id": "feZV8l9FIZJf",
        "colab": {
          "base_uri": "https://localhost:8080/",
          "height": 428
        },
        "outputId": "03c8b05d-c1cb-4e2e-e223-796d5781a213"
      },
      "source": [
        "dft_test.head()"
      ],
      "execution_count": null,
      "outputs": [
        {
          "output_type": "execute_result",
          "data": {
            "text/html": [
              "<div>\n",
              "<style scoped>\n",
              "    .dataframe tbody tr th:only-of-type {\n",
              "        vertical-align: middle;\n",
              "    }\n",
              "\n",
              "    .dataframe tbody tr th {\n",
              "        vertical-align: top;\n",
              "    }\n",
              "\n",
              "    .dataframe thead th {\n",
              "        text-align: right;\n",
              "    }\n",
              "</style>\n",
              "<table border=\"1\" class=\"dataframe\">\n",
              "  <thead>\n",
              "    <tr style=\"text-align: right;\">\n",
              "      <th></th>\n",
              "      <th>status</th>\n",
              "      <th>duration</th>\n",
              "      <th>credit_history</th>\n",
              "      <th>purpose</th>\n",
              "      <th>amount</th>\n",
              "      <th>savings</th>\n",
              "      <th>employment_duration</th>\n",
              "      <th>installment_rate</th>\n",
              "      <th>personal_status_sex</th>\n",
              "      <th>other_debtors</th>\n",
              "      <th>present_residence</th>\n",
              "      <th>property</th>\n",
              "      <th>age</th>\n",
              "      <th>other_installment_plans</th>\n",
              "      <th>housing</th>\n",
              "      <th>number_credits</th>\n",
              "      <th>job</th>\n",
              "      <th>people_liable</th>\n",
              "      <th>telephone</th>\n",
              "      <th>foreign_worker</th>\n",
              "      <th>credit_risk</th>\n",
              "    </tr>\n",
              "  </thead>\n",
              "  <tbody>\n",
              "    <tr>\n",
              "      <th>0</th>\n",
              "      <td>no checking account</td>\n",
              "      <td>18</td>\n",
              "      <td>all credits at this bank paid back duly</td>\n",
              "      <td>used car</td>\n",
              "      <td>1049</td>\n",
              "      <td>unknown/no savings account</td>\n",
              "      <td>&lt; 1yr employed</td>\n",
              "      <td>&lt;20 installment rate</td>\n",
              "      <td>female : non-single or male : single</td>\n",
              "      <td>none</td>\n",
              "      <td>&gt;=7yrs</td>\n",
              "      <td>car or other</td>\n",
              "      <td>21</td>\n",
              "      <td>none</td>\n",
              "      <td>rent</td>\n",
              "      <td>1 credit</td>\n",
              "      <td>skilled employee/official</td>\n",
              "      <td>0 to 2</td>\n",
              "      <td>no people liable</td>\n",
              "      <td>non foreign</td>\n",
              "      <td>1</td>\n",
              "    </tr>\n",
              "    <tr>\n",
              "      <th>1</th>\n",
              "      <td>no checking account</td>\n",
              "      <td>9</td>\n",
              "      <td>all credits at this bank paid back duly</td>\n",
              "      <td>others</td>\n",
              "      <td>2799</td>\n",
              "      <td>unknown/no savings account</td>\n",
              "      <td>1&lt;=... &lt;4yrs employed</td>\n",
              "      <td>25 &lt;= ... &lt;35 installment rate</td>\n",
              "      <td>male : married/widowed</td>\n",
              "      <td>none</td>\n",
              "      <td>&lt;=... &lt;4yrs</td>\n",
              "      <td>unknown / no property</td>\n",
              "      <td>36</td>\n",
              "      <td>none</td>\n",
              "      <td>rent</td>\n",
              "      <td>2-3 credit</td>\n",
              "      <td>skilled employee/official</td>\n",
              "      <td>0 to 2</td>\n",
              "      <td>no people liable</td>\n",
              "      <td>non foreign</td>\n",
              "      <td>1</td>\n",
              "    </tr>\n",
              "    <tr>\n",
              "      <th>2</th>\n",
              "      <td>&lt;0 DM</td>\n",
              "      <td>12</td>\n",
              "      <td>no credits taken/all credits paid back duly</td>\n",
              "      <td>repairs</td>\n",
              "      <td>841</td>\n",
              "      <td>... &lt; 100 DM savings</td>\n",
              "      <td>4&lt;=... &lt;7yrs employed</td>\n",
              "      <td>25 &lt;= ... &lt;35 installment rate</td>\n",
              "      <td>female : non-single or male : single</td>\n",
              "      <td>none</td>\n",
              "      <td>&gt;=7yrs</td>\n",
              "      <td>unknown / no property</td>\n",
              "      <td>23</td>\n",
              "      <td>none</td>\n",
              "      <td>rent</td>\n",
              "      <td>1 credit</td>\n",
              "      <td>skilled employee/official</td>\n",
              "      <td>0 to 2</td>\n",
              "      <td>no people liable</td>\n",
              "      <td>non foreign</td>\n",
              "      <td>1</td>\n",
              "    </tr>\n",
              "    <tr>\n",
              "      <th>3</th>\n",
              "      <td>&gt; 200DM/at least 1 year salary</td>\n",
              "      <td>18</td>\n",
              "      <td>all credits at this bank paid back duly</td>\n",
              "      <td>furniture/equipment</td>\n",
              "      <td>1098</td>\n",
              "      <td>unknown/no savings account</td>\n",
              "      <td>unemployed</td>\n",
              "      <td>&lt;20 installment rate</td>\n",
              "      <td>female : non-single or male : single</td>\n",
              "      <td>none</td>\n",
              "      <td>&gt;=7yrs</td>\n",
              "      <td>building soc. savings agr./life insurance</td>\n",
              "      <td>62</td>\n",
              "      <td>none</td>\n",
              "      <td>rent</td>\n",
              "      <td>2-3 credit</td>\n",
              "      <td>skilled employee/official</td>\n",
              "      <td>0 to 2</td>\n",
              "      <td>no people liable</td>\n",
              "      <td>non foreign</td>\n",
              "      <td>1</td>\n",
              "    </tr>\n",
              "    <tr>\n",
              "      <th>4</th>\n",
              "      <td>&lt;0 DM</td>\n",
              "      <td>24</td>\n",
              "      <td>no credits taken/all credits paid back duly</td>\n",
              "      <td>furniture/equipment</td>\n",
              "      <td>3758</td>\n",
              "      <td>100&lt;=...&lt;500DM savings</td>\n",
              "      <td>unemployed</td>\n",
              "      <td>&gt;= 35 installment rate</td>\n",
              "      <td>female : non-single or male : single</td>\n",
              "      <td>none</td>\n",
              "      <td>&gt;=7yrs</td>\n",
              "      <td>real estate</td>\n",
              "      <td>23</td>\n",
              "      <td>none</td>\n",
              "      <td>rent</td>\n",
              "      <td>1 credit</td>\n",
              "      <td>skilled employee/official</td>\n",
              "      <td>0 to 2</td>\n",
              "      <td>no people liable</td>\n",
              "      <td>non foreign</td>\n",
              "      <td>1</td>\n",
              "    </tr>\n",
              "  </tbody>\n",
              "</table>\n",
              "</div>"
            ],
            "text/plain": [
              "                           status duration  ... foreign_worker credit_risk\n",
              "0             no checking account       18  ...    non foreign           1\n",
              "1             no checking account        9  ...    non foreign           1\n",
              "2                           <0 DM       12  ...    non foreign           1\n",
              "3  > 200DM/at least 1 year salary       18  ...    non foreign           1\n",
              "4                           <0 DM       24  ...    non foreign           1\n",
              "\n",
              "[5 rows x 21 columns]"
            ]
          },
          "metadata": {
            "tags": []
          },
          "execution_count": 35
        }
      ]
    },
    {
      "cell_type": "code",
      "metadata": {
        "id": "rubT7b535q3P"
      },
      "source": [
        "badcredit=dft_test.loc[dft_test['credit_risk'] == 0]\n",
        "goodcredit=dft_test.loc[dft_test['credit_risk']== 1]"
      ],
      "execution_count": null,
      "outputs": []
    },
    {
      "cell_type": "code",
      "metadata": {
        "id": "e_FPUZimGWFV"
      },
      "source": [
        "#Creating Transactions for only Good Credit\n",
        "good_trs=[]\n",
        "for i in range(0, len(goodcredit)):\n",
        "  good_trs.append([str(goodcredit.values[i, j]) for j in range(0, 20)])  "
      ],
      "execution_count": null,
      "outputs": []
    },
    {
      "cell_type": "code",
      "metadata": {
        "id": "du8PTNDyGXcg"
      },
      "source": [
        "#Creating Transaction for only Bad Credit\n",
        "bad_trs=[]\n",
        "for i in range(0, len(badcredit)):\n",
        "  bad_trs.append([str(badcredit.values[i, j]) for j in range(0, 20)])  "
      ],
      "execution_count": null,
      "outputs": []
    },
    {
      "cell_type": "code",
      "metadata": {
        "id": "ndOggO6qqyj_"
      },
      "source": [
        "transactions=[]\n",
        "for i in range(0, len(dft_test)):\n",
        "  transactions.append([str(dft_test.values[i, j]) for j in range(0, 21)])  "
      ],
      "execution_count": null,
      "outputs": []
    },
    {
      "cell_type": "code",
      "metadata": {
        "id": "vS1J76BTsdaw",
        "colab": {
          "base_uri": "https://localhost:8080/",
          "height": 419
        },
        "outputId": "10789009-0c2d-4738-ef78-37b43e97dcb7"
      },
      "source": [
        "#Frequent Patterns for Good Credit -APRIORI\n",
        "GCrules = apriori(good_trs, min_support = 0.5, min_confidence = 0.2, max_length=3)\n",
        "GCresults = list(GCrules)\n",
        "GCresults = pd.DataFrame(GCresults)\n",
        "GCresults.sort_values('support',ascending=False)"
      ],
      "execution_count": null,
      "outputs": [
        {
          "output_type": "execute_result",
          "data": {
            "text/html": [
              "<div>\n",
              "<style scoped>\n",
              "    .dataframe tbody tr th:only-of-type {\n",
              "        vertical-align: middle;\n",
              "    }\n",
              "\n",
              "    .dataframe tbody tr th {\n",
              "        vertical-align: top;\n",
              "    }\n",
              "\n",
              "    .dataframe thead th {\n",
              "        text-align: right;\n",
              "    }\n",
              "</style>\n",
              "<table border=\"1\" class=\"dataframe\">\n",
              "  <thead>\n",
              "    <tr style=\"text-align: right;\">\n",
              "      <th></th>\n",
              "      <th>items</th>\n",
              "      <th>support</th>\n",
              "      <th>ordered_statistics</th>\n",
              "    </tr>\n",
              "  </thead>\n",
              "  <tbody>\n",
              "    <tr>\n",
              "      <th>0</th>\n",
              "      <td>(0 to 2)</td>\n",
              "      <td>1.000000</td>\n",
              "      <td>[((), (0 to 2), 1.0, 1.0)]</td>\n",
              "    </tr>\n",
              "    <tr>\n",
              "      <th>72</th>\n",
              "      <td>(rent, 0 to 2, non foreign)</td>\n",
              "      <td>1.000000</td>\n",
              "      <td>[((), (rent, 0 to 2, non foreign), 1.0, 1.0), ...</td>\n",
              "    </tr>\n",
              "    <tr>\n",
              "      <th>41</th>\n",
              "      <td>(none, non foreign)</td>\n",
              "      <td>1.000000</td>\n",
              "      <td>[((), (none, non foreign), 1.0, 1.0), ((non fo...</td>\n",
              "    </tr>\n",
              "    <tr>\n",
              "      <th>45</th>\n",
              "      <td>(none, rent)</td>\n",
              "      <td>1.000000</td>\n",
              "      <td>[((), (none, rent), 1.0, 1.0), ((none), (rent)...</td>\n",
              "    </tr>\n",
              "    <tr>\n",
              "      <th>46</th>\n",
              "      <td>(none, skilled employee/official)</td>\n",
              "      <td>1.000000</td>\n",
              "      <td>[((), (none, skilled employee/official), 1.0, ...</td>\n",
              "    </tr>\n",
              "    <tr>\n",
              "      <th>...</th>\n",
              "      <td>...</td>\n",
              "      <td>...</td>\n",
              "      <td>...</td>\n",
              "    </tr>\n",
              "    <tr>\n",
              "      <th>88</th>\n",
              "      <td>(rent, &gt; 200DM/at least 1 year salary, non for...</td>\n",
              "      <td>0.503782</td>\n",
              "      <td>[((), (rent, &gt; 200DM/at least 1 year salary, n...</td>\n",
              "    </tr>\n",
              "    <tr>\n",
              "      <th>89</th>\n",
              "      <td>(&gt; 200DM/at least 1 year salary, skilled emplo...</td>\n",
              "      <td>0.503782</td>\n",
              "      <td>[((), (&gt; 200DM/at least 1 year salary, skilled...</td>\n",
              "    </tr>\n",
              "    <tr>\n",
              "      <th>90</th>\n",
              "      <td>(none, rent, &gt; 200DM/at least 1 year salary)</td>\n",
              "      <td>0.503782</td>\n",
              "      <td>[((), (none, rent, &gt; 200DM/at least 1 year sal...</td>\n",
              "    </tr>\n",
              "    <tr>\n",
              "      <th>91</th>\n",
              "      <td>(none, &gt; 200DM/at least 1 year salary, skilled...</td>\n",
              "      <td>0.503782</td>\n",
              "      <td>[((), (none, &gt; 200DM/at least 1 year salary, s...</td>\n",
              "    </tr>\n",
              "    <tr>\n",
              "      <th>92</th>\n",
              "      <td>(rent, &gt; 200DM/at least 1 year salary, skilled...</td>\n",
              "      <td>0.503782</td>\n",
              "      <td>[((), (rent, &gt; 200DM/at least 1 year salary, s...</td>\n",
              "    </tr>\n",
              "  </tbody>\n",
              "</table>\n",
              "<p>121 rows × 3 columns</p>\n",
              "</div>"
            ],
            "text/plain": [
              "                                                items  ...                                 ordered_statistics\n",
              "0                                            (0 to 2)  ...                         [((), (0 to 2), 1.0, 1.0)]\n",
              "72                        (rent, 0 to 2, non foreign)  ...  [((), (rent, 0 to 2, non foreign), 1.0, 1.0), ...\n",
              "41                                (none, non foreign)  ...  [((), (none, non foreign), 1.0, 1.0), ((non fo...\n",
              "45                                       (none, rent)  ...  [((), (none, rent), 1.0, 1.0), ((none), (rent)...\n",
              "46                  (none, skilled employee/official)  ...  [((), (none, skilled employee/official), 1.0, ...\n",
              "..                                                ...  ...                                                ...\n",
              "88  (rent, > 200DM/at least 1 year salary, non for...  ...  [((), (rent, > 200DM/at least 1 year salary, n...\n",
              "89  (> 200DM/at least 1 year salary, skilled emplo...  ...  [((), (> 200DM/at least 1 year salary, skilled...\n",
              "90       (none, rent, > 200DM/at least 1 year salary)  ...  [((), (none, rent, > 200DM/at least 1 year sal...\n",
              "91  (none, > 200DM/at least 1 year salary, skilled...  ...  [((), (none, > 200DM/at least 1 year salary, s...\n",
              "92  (rent, > 200DM/at least 1 year salary, skilled...  ...  [((), (rent, > 200DM/at least 1 year salary, s...\n",
              "\n",
              "[121 rows x 3 columns]"
            ]
          },
          "metadata": {
            "tags": []
          },
          "execution_count": 74
        }
      ]
    },
    {
      "cell_type": "code",
      "metadata": {
        "colab": {
          "base_uri": "https://localhost:8080/",
          "height": 419
        },
        "id": "673CGFFxudvV",
        "outputId": "6f2855c6-39fc-4562-a99e-9d665f0a732f"
      },
      "source": [
        "#Frequent Patterns for Bad Credit - APRIORI\n",
        "BCrules = apriori(bad_trs, min_support = 0.3, min_confidence = 0.2, max_length=3)\n",
        "BCresults = list(BCrules)\n",
        "BCresults = pd.DataFrame(BCresults)\n",
        "BCresults.sort_values('support',ascending=False)"
      ],
      "execution_count": null,
      "outputs": [
        {
          "output_type": "execute_result",
          "data": {
            "text/html": [
              "<div>\n",
              "<style scoped>\n",
              "    .dataframe tbody tr th:only-of-type {\n",
              "        vertical-align: middle;\n",
              "    }\n",
              "\n",
              "    .dataframe tbody tr th {\n",
              "        vertical-align: top;\n",
              "    }\n",
              "\n",
              "    .dataframe thead th {\n",
              "        text-align: right;\n",
              "    }\n",
              "</style>\n",
              "<table border=\"1\" class=\"dataframe\">\n",
              "  <thead>\n",
              "    <tr style=\"text-align: right;\">\n",
              "      <th></th>\n",
              "      <th>items</th>\n",
              "      <th>support</th>\n",
              "      <th>ordered_statistics</th>\n",
              "    </tr>\n",
              "  </thead>\n",
              "  <tbody>\n",
              "    <tr>\n",
              "      <th>0</th>\n",
              "      <td>(0 to 2)</td>\n",
              "      <td>1.000000</td>\n",
              "      <td>[((), (0 to 2), 1.0, 1.0)]</td>\n",
              "    </tr>\n",
              "    <tr>\n",
              "      <th>17</th>\n",
              "      <td>(rent)</td>\n",
              "      <td>1.000000</td>\n",
              "      <td>[((), (rent), 1.0, 1.0)]</td>\n",
              "    </tr>\n",
              "    <tr>\n",
              "      <th>36</th>\n",
              "      <td>(rent, 0 to 2)</td>\n",
              "      <td>1.000000</td>\n",
              "      <td>[((), (rent, 0 to 2), 1.0, 1.0), ((0 to 2), (r...</td>\n",
              "    </tr>\n",
              "    <tr>\n",
              "      <th>108</th>\n",
              "      <td>(rent, non foreign)</td>\n",
              "      <td>1.000000</td>\n",
              "      <td>[((), (rent, non foreign), 1.0, 1.0), ((non fo...</td>\n",
              "    </tr>\n",
              "    <tr>\n",
              "      <th>34</th>\n",
              "      <td>(none, 0 to 2)</td>\n",
              "      <td>1.000000</td>\n",
              "      <td>[((), (none, 0 to 2), 1.0, 1.0), ((0 to 2), (n...</td>\n",
              "    </tr>\n",
              "    <tr>\n",
              "      <th>...</th>\n",
              "      <td>...</td>\n",
              "      <td>...</td>\n",
              "      <td>...</td>\n",
              "    </tr>\n",
              "    <tr>\n",
              "      <th>278</th>\n",
              "      <td>(unknown/no savings account, &gt;=7yrs, none)</td>\n",
              "      <td>0.301038</td>\n",
              "      <td>[((), (unknown/no savings account, &gt;=7yrs, non...</td>\n",
              "    </tr>\n",
              "    <tr>\n",
              "      <th>280</th>\n",
              "      <td>(unknown/no savings account, &gt;=7yrs, rent)</td>\n",
              "      <td>0.301038</td>\n",
              "      <td>[((), (unknown/no savings account, &gt;=7yrs, ren...</td>\n",
              "    </tr>\n",
              "    <tr>\n",
              "      <th>281</th>\n",
              "      <td>(unknown/no savings account, &gt;=7yrs, skilled e...</td>\n",
              "      <td>0.301038</td>\n",
              "      <td>[((), (unknown/no savings account, &gt;=7yrs, ski...</td>\n",
              "    </tr>\n",
              "    <tr>\n",
              "      <th>75</th>\n",
              "      <td>(unknown/no savings account, &gt;=7yrs)</td>\n",
              "      <td>0.301038</td>\n",
              "      <td>[((), (unknown/no savings account, &gt;=7yrs), 0....</td>\n",
              "    </tr>\n",
              "    <tr>\n",
              "      <th>275</th>\n",
              "      <td>(unknown/no savings account, &gt;=7yrs, non foreign)</td>\n",
              "      <td>0.301038</td>\n",
              "      <td>[((), (unknown/no savings account, &gt;=7yrs, non...</td>\n",
              "    </tr>\n",
              "  </tbody>\n",
              "</table>\n",
              "<p>358 rows × 3 columns</p>\n",
              "</div>"
            ],
            "text/plain": [
              "                                                 items  ...                                 ordered_statistics\n",
              "0                                             (0 to 2)  ...                         [((), (0 to 2), 1.0, 1.0)]\n",
              "17                                              (rent)  ...                           [((), (rent), 1.0, 1.0)]\n",
              "36                                      (rent, 0 to 2)  ...  [((), (rent, 0 to 2), 1.0, 1.0), ((0 to 2), (r...\n",
              "108                                (rent, non foreign)  ...  [((), (rent, non foreign), 1.0, 1.0), ((non fo...\n",
              "34                                      (none, 0 to 2)  ...  [((), (none, 0 to 2), 1.0, 1.0), ((0 to 2), (n...\n",
              "..                                                 ...  ...                                                ...\n",
              "278         (unknown/no savings account, >=7yrs, none)  ...  [((), (unknown/no savings account, >=7yrs, non...\n",
              "280         (unknown/no savings account, >=7yrs, rent)  ...  [((), (unknown/no savings account, >=7yrs, ren...\n",
              "281  (unknown/no savings account, >=7yrs, skilled e...  ...  [((), (unknown/no savings account, >=7yrs, ski...\n",
              "75                (unknown/no savings account, >=7yrs)  ...  [((), (unknown/no savings account, >=7yrs), 0....\n",
              "275  (unknown/no savings account, >=7yrs, non foreign)  ...  [((), (unknown/no savings account, >=7yrs, non...\n",
              "\n",
              "[358 rows x 3 columns]"
            ]
          },
          "metadata": {
            "tags": []
          },
          "execution_count": 41
        }
      ]
    },
    {
      "cell_type": "code",
      "metadata": {
        "id": "S5ql1sfmvm8U",
        "colab": {
          "base_uri": "https://localhost:8080/",
          "height": 419
        },
        "outputId": "1a8b2f12-a99f-4fff-d76c-165234796109"
      },
      "source": [
        "#RULES FOR ALL DATASET - APRIORI\n",
        "rules = apriori(transactions, min_support = 0.3, min_confidence = 0.2, max_length=3)\n",
        "results = list(rules)\n",
        "results = pd.DataFrame(results)\n",
        "results"
      ],
      "execution_count": null,
      "outputs": [
        {
          "output_type": "execute_result",
          "data": {
            "text/html": [
              "<div>\n",
              "<style scoped>\n",
              "    .dataframe tbody tr th:only-of-type {\n",
              "        vertical-align: middle;\n",
              "    }\n",
              "\n",
              "    .dataframe tbody tr th {\n",
              "        vertical-align: top;\n",
              "    }\n",
              "\n",
              "    .dataframe thead th {\n",
              "        text-align: right;\n",
              "    }\n",
              "</style>\n",
              "<table border=\"1\" class=\"dataframe\">\n",
              "  <thead>\n",
              "    <tr style=\"text-align: right;\">\n",
              "      <th></th>\n",
              "      <th>items</th>\n",
              "      <th>support</th>\n",
              "      <th>ordered_statistics</th>\n",
              "    </tr>\n",
              "  </thead>\n",
              "  <tbody>\n",
              "    <tr>\n",
              "      <th>0</th>\n",
              "      <td>(0)</td>\n",
              "      <td>0.304211</td>\n",
              "      <td>[((), (0), 0.3042105263157895, 1.0)]</td>\n",
              "    </tr>\n",
              "    <tr>\n",
              "      <th>1</th>\n",
              "      <td>(0 to 2)</td>\n",
              "      <td>1.000000</td>\n",
              "      <td>[((), (0 to 2), 1.0, 1.0)]</td>\n",
              "    </tr>\n",
              "    <tr>\n",
              "      <th>2</th>\n",
              "      <td>(1)</td>\n",
              "      <td>0.695789</td>\n",
              "      <td>[((), (1), 0.6957894736842105, 1.0)]</td>\n",
              "    </tr>\n",
              "    <tr>\n",
              "      <th>3</th>\n",
              "      <td>(1 credit)</td>\n",
              "      <td>0.634737</td>\n",
              "      <td>[((), (1 credit), 0.6347368421052632, 1.0)]</td>\n",
              "    </tr>\n",
              "    <tr>\n",
              "      <th>4</th>\n",
              "      <td>(1&lt;=... &lt;4yrs employed)</td>\n",
              "      <td>0.338947</td>\n",
              "      <td>[((), (1&lt;=... &lt;4yrs employed), 0.3389473684210...</td>\n",
              "    </tr>\n",
              "    <tr>\n",
              "      <th>...</th>\n",
              "      <td>...</td>\n",
              "      <td>...</td>\n",
              "      <td>...</td>\n",
              "    </tr>\n",
              "    <tr>\n",
              "      <th>374</th>\n",
              "      <td>(none, rent, skilled employee/official)</td>\n",
              "      <td>1.000000</td>\n",
              "      <td>[((), (none, rent, skilled employee/official),...</td>\n",
              "    </tr>\n",
              "    <tr>\n",
              "      <th>375</th>\n",
              "      <td>(unknown/no savings account, none, rent)</td>\n",
              "      <td>0.604211</td>\n",
              "      <td>[((), (unknown/no savings account, none, rent)...</td>\n",
              "    </tr>\n",
              "    <tr>\n",
              "      <th>376</th>\n",
              "      <td>(unknown/no savings account, none, skilled emp...</td>\n",
              "      <td>0.604211</td>\n",
              "      <td>[((), (unknown/no savings account, none, skill...</td>\n",
              "    </tr>\n",
              "    <tr>\n",
              "      <th>377</th>\n",
              "      <td>(people liable(under customer name), rent, ski...</td>\n",
              "      <td>0.407368</td>\n",
              "      <td>[((), (people liable(under customer name), ren...</td>\n",
              "    </tr>\n",
              "    <tr>\n",
              "      <th>378</th>\n",
              "      <td>(unknown/no savings account, rent, skilled emp...</td>\n",
              "      <td>0.604211</td>\n",
              "      <td>[((), (unknown/no savings account, rent, skill...</td>\n",
              "    </tr>\n",
              "  </tbody>\n",
              "</table>\n",
              "<p>379 rows × 3 columns</p>\n",
              "</div>"
            ],
            "text/plain": [
              "                                                 items  ...                                 ordered_statistics\n",
              "0                                                  (0)  ...               [((), (0), 0.3042105263157895, 1.0)]\n",
              "1                                             (0 to 2)  ...                         [((), (0 to 2), 1.0, 1.0)]\n",
              "2                                                  (1)  ...               [((), (1), 0.6957894736842105, 1.0)]\n",
              "3                                           (1 credit)  ...        [((), (1 credit), 0.6347368421052632, 1.0)]\n",
              "4                              (1<=... <4yrs employed)  ...  [((), (1<=... <4yrs employed), 0.3389473684210...\n",
              "..                                                 ...  ...                                                ...\n",
              "374            (none, rent, skilled employee/official)  ...  [((), (none, rent, skilled employee/official),...\n",
              "375           (unknown/no savings account, none, rent)  ...  [((), (unknown/no savings account, none, rent)...\n",
              "376  (unknown/no savings account, none, skilled emp...  ...  [((), (unknown/no savings account, none, skill...\n",
              "377  (people liable(under customer name), rent, ski...  ...  [((), (people liable(under customer name), ren...\n",
              "378  (unknown/no savings account, rent, skilled emp...  ...  [((), (unknown/no savings account, rent, skill...\n",
              "\n",
              "[379 rows x 3 columns]"
            ]
          },
          "metadata": {
            "tags": []
          },
          "execution_count": 42
        }
      ]
    },
    {
      "cell_type": "markdown",
      "metadata": {
        "id": "rgq-e2BkdlW6"
      },
      "source": [
        "**ECLAT**"
      ]
    },
    {
      "cell_type": "code",
      "metadata": {
        "colab": {
          "base_uri": "https://localhost:8080/"
        },
        "id": "8OhAmItHMDZL",
        "outputId": "fde68481-94bb-4a04-fd55-e62c167e88dc"
      },
      "source": [
        "#FP FOR GOOD CREDIT - ECLAT\n",
        "g_tr=pd.DataFrame(good_trs)\n",
        "eclat_instance_good_tr = ECLAT(data=g_tr, verbose=True) #verbose=True to see the loading bar"
      ],
      "execution_count": null,
      "outputs": [
        {
          "output_type": "stream",
          "text": [
            "100%|██████████| 703/703 [00:05<00:00, 117.97it/s]\n",
            "100%|██████████| 703/703 [00:00<00:00, 33867.38it/s]\n",
            "100%|██████████| 703/703 [00:00<00:00, 3262.70it/s]\n"
          ],
          "name": "stderr"
        }
      ]
    },
    {
      "cell_type": "code",
      "metadata": {
        "colab": {
          "base_uri": "https://localhost:8080/"
        },
        "id": "d1ZqqTkUM3j4",
        "outputId": "1f4117ed-cccc-42b4-f565-d1bc825fbe95"
      },
      "source": [
        "get_ECLAT_indexes_good_credit, get_ECLAT_supports_good_credit = eclat_instance_good_tr.fit(min_support=0.3,\n",
        "                                                           min_combination=1,\n",
        "                                                           max_combination=3,\n",
        "                                                           separator=' & ',\n",
        "                                                           verbose=True)\n",
        "good_sprts=get_ECLAT_supports_good_credit\n",
        "rules_gc=good_sprts.items()"
      ],
      "execution_count": null,
      "outputs": [
        {
          "output_type": "stream",
          "text": [
            "2it [00:00, 17.00it/s]"
          ],
          "name": "stderr"
        },
        {
          "output_type": "stream",
          "text": [
            "Combination 1 by 1\n"
          ],
          "name": "stdout"
        },
        {
          "output_type": "stream",
          "text": [
            "20it [00:01, 18.32it/s]\n",
            "2it [00:00, 18.32it/s]"
          ],
          "name": "stderr"
        },
        {
          "output_type": "stream",
          "text": [
            "Combination 2 by 2\n"
          ],
          "name": "stdout"
        },
        {
          "output_type": "stream",
          "text": [
            "190it [00:07, 24.54it/s]\n",
            "2it [00:00, 18.08it/s]"
          ],
          "name": "stderr"
        },
        {
          "output_type": "stream",
          "text": [
            "Combination 3 by 3\n"
          ],
          "name": "stdout"
        },
        {
          "output_type": "stream",
          "text": [
            "1140it [00:37, 30.02it/s]\n"
          ],
          "name": "stderr"
        }
      ]
    },
    {
      "cell_type": "code",
      "metadata": {
        "colab": {
          "base_uri": "https://localhost:8080/",
          "height": 419
        },
        "id": "-qZltBeMSv3x",
        "outputId": "00df750d-2aa9-48ef-81a0-615958340839"
      },
      "source": [
        "pd.DataFrame(rules_gc, columns=['items','support']).sort_values('support',ascending=False)"
      ],
      "execution_count": null,
      "outputs": [
        {
          "output_type": "execute_result",
          "data": {
            "text/html": [
              "<div>\n",
              "<style scoped>\n",
              "    .dataframe tbody tr th:only-of-type {\n",
              "        vertical-align: middle;\n",
              "    }\n",
              "\n",
              "    .dataframe tbody tr th {\n",
              "        vertical-align: top;\n",
              "    }\n",
              "\n",
              "    .dataframe thead th {\n",
              "        text-align: right;\n",
              "    }\n",
              "</style>\n",
              "<table border=\"1\" class=\"dataframe\">\n",
              "  <thead>\n",
              "    <tr style=\"text-align: right;\">\n",
              "      <th></th>\n",
              "      <th>items</th>\n",
              "      <th>support</th>\n",
              "    </tr>\n",
              "  </thead>\n",
              "  <tbody>\n",
              "    <tr>\n",
              "      <th>0</th>\n",
              "      <td>skilled employee/official</td>\n",
              "      <td>1.000000</td>\n",
              "    </tr>\n",
              "    <tr>\n",
              "      <th>56</th>\n",
              "      <td>non foreign &amp; none</td>\n",
              "      <td>1.000000</td>\n",
              "    </tr>\n",
              "    <tr>\n",
              "      <th>1</th>\n",
              "      <td>non foreign</td>\n",
              "      <td>1.000000</td>\n",
              "    </tr>\n",
              "    <tr>\n",
              "      <th>157</th>\n",
              "      <td>skilled employee/official &amp; 0 to 2 &amp; rent</td>\n",
              "      <td>1.000000</td>\n",
              "    </tr>\n",
              "    <tr>\n",
              "      <th>160</th>\n",
              "      <td>skilled employee/official &amp; 0 to 2 &amp; none</td>\n",
              "      <td>1.000000</td>\n",
              "    </tr>\n",
              "    <tr>\n",
              "      <th>...</th>\n",
              "      <td>...</td>\n",
              "      <td>...</td>\n",
              "    </tr>\n",
              "    <tr>\n",
              "      <th>297</th>\n",
              "      <td>no people liable &amp; male : married/widowed &amp; none</td>\n",
              "      <td>0.301059</td>\n",
              "    </tr>\n",
              "    <tr>\n",
              "      <th>295</th>\n",
              "      <td>no people liable &amp; rent &amp; male : married/widowed</td>\n",
              "      <td>0.301059</td>\n",
              "    </tr>\n",
              "    <tr>\n",
              "      <th>91</th>\n",
              "      <td>no people liable &amp; male : married/widowed</td>\n",
              "      <td>0.301059</td>\n",
              "    </tr>\n",
              "    <tr>\n",
              "      <th>164</th>\n",
              "      <td>skilled employee/official &amp; no people liable &amp;...</td>\n",
              "      <td>0.301059</td>\n",
              "    </tr>\n",
              "    <tr>\n",
              "      <th>219</th>\n",
              "      <td>non foreign &amp; no people liable &amp; male : marrie...</td>\n",
              "      <td>0.301059</td>\n",
              "    </tr>\n",
              "  </tbody>\n",
              "</table>\n",
              "<p>307 rows × 2 columns</p>\n",
              "</div>"
            ],
            "text/plain": [
              "                                                 items   support\n",
              "0                            skilled employee/official  1.000000\n",
              "56                                  non foreign & none  1.000000\n",
              "1                                          non foreign  1.000000\n",
              "157          skilled employee/official & 0 to 2 & rent  1.000000\n",
              "160          skilled employee/official & 0 to 2 & none  1.000000\n",
              "..                                                 ...       ...\n",
              "297   no people liable & male : married/widowed & none  0.301059\n",
              "295   no people liable & rent & male : married/widowed  0.301059\n",
              "91           no people liable & male : married/widowed  0.301059\n",
              "164  skilled employee/official & no people liable &...  0.301059\n",
              "219  non foreign & no people liable & male : marrie...  0.301059\n",
              "\n",
              "[307 rows x 2 columns]"
            ]
          },
          "metadata": {
            "tags": []
          },
          "execution_count": 45
        }
      ]
    },
    {
      "cell_type": "code",
      "metadata": {
        "colab": {
          "base_uri": "https://localhost:8080/"
        },
        "id": "Iup-nPWiWg-X",
        "outputId": "7e7b9c42-310c-4a0b-8eb3-ffb20501ebfb"
      },
      "source": [
        "# FP FOR BAD CREDIT - ECLAT\n",
        "b_tr=pd.DataFrame(bad_trs)\n",
        "eclat_instance_bad_tr = ECLAT(data=b_tr) #verbose=True to see the loading bar\n",
        "get_ECLAT_indexes_bad_credit, get_ECLAT_supports_bad_credit = eclat_instance_bad_tr.fit(min_support=0.3,\n",
        "                                                           min_combination=1,\n",
        "                                                           max_combination=3,\n",
        "                                                           separator=' & ')\n",
        "bad_sprts=get_ECLAT_supports_bad_credit\n",
        "rules_bc=bad_sprts.items()"
      ],
      "execution_count": null,
      "outputs": [
        {
          "output_type": "stream",
          "text": [
            "4it [00:00, 32.37it/s]"
          ],
          "name": "stderr"
        },
        {
          "output_type": "stream",
          "text": [
            "Combination 1 by 1\n"
          ],
          "name": "stdout"
        },
        {
          "output_type": "stream",
          "text": [
            "20it [00:00, 32.29it/s]\n",
            "3it [00:00, 29.89it/s]"
          ],
          "name": "stderr"
        },
        {
          "output_type": "stream",
          "text": [
            "Combination 2 by 2\n"
          ],
          "name": "stdout"
        },
        {
          "output_type": "stream",
          "text": [
            "190it [00:04, 39.99it/s]\n",
            "3it [00:00, 29.23it/s]"
          ],
          "name": "stderr"
        },
        {
          "output_type": "stream",
          "text": [
            "Combination 3 by 3\n"
          ],
          "name": "stdout"
        },
        {
          "output_type": "stream",
          "text": [
            "1140it [00:23, 48.00it/s]\n"
          ],
          "name": "stderr"
        }
      ]
    },
    {
      "cell_type": "code",
      "metadata": {
        "colab": {
          "base_uri": "https://localhost:8080/",
          "height": 419
        },
        "id": "zQR_XHPXXTPD",
        "outputId": "0f102d6b-44ba-4453-c6f6-cd331bb41427"
      },
      "source": [
        "pd.DataFrame(rules_bc, columns=['items','support']).sort_values('support',ascending=False)"
      ],
      "execution_count": null,
      "outputs": [
        {
          "output_type": "execute_result",
          "data": {
            "text/html": [
              "<div>\n",
              "<style scoped>\n",
              "    .dataframe tbody tr th:only-of-type {\n",
              "        vertical-align: middle;\n",
              "    }\n",
              "\n",
              "    .dataframe tbody tr th {\n",
              "        vertical-align: top;\n",
              "    }\n",
              "\n",
              "    .dataframe thead th {\n",
              "        text-align: right;\n",
              "    }\n",
              "</style>\n",
              "<table border=\"1\" class=\"dataframe\">\n",
              "  <thead>\n",
              "    <tr style=\"text-align: right;\">\n",
              "      <th></th>\n",
              "      <th>items</th>\n",
              "      <th>support</th>\n",
              "    </tr>\n",
              "  </thead>\n",
              "  <tbody>\n",
              "    <tr>\n",
              "      <th>0</th>\n",
              "      <td>skilled employee/official</td>\n",
              "      <td>1.000000</td>\n",
              "    </tr>\n",
              "    <tr>\n",
              "      <th>15</th>\n",
              "      <td>rent</td>\n",
              "      <td>1.000000</td>\n",
              "    </tr>\n",
              "    <tr>\n",
              "      <th>34</th>\n",
              "      <td>skilled employee/official &amp; rent</td>\n",
              "      <td>1.000000</td>\n",
              "    </tr>\n",
              "    <tr>\n",
              "      <th>52</th>\n",
              "      <td>non foreign &amp; rent</td>\n",
              "      <td>1.000000</td>\n",
              "    </tr>\n",
              "    <tr>\n",
              "      <th>55</th>\n",
              "      <td>non foreign &amp; none</td>\n",
              "      <td>1.000000</td>\n",
              "    </tr>\n",
              "    <tr>\n",
              "      <th>...</th>\n",
              "      <td>...</td>\n",
              "      <td>...</td>\n",
              "    </tr>\n",
              "    <tr>\n",
              "      <th>312</th>\n",
              "      <td>0 to 2 &amp; unknown/no savings account &amp; &gt;=7yrs</td>\n",
              "      <td>0.301038</td>\n",
              "    </tr>\n",
              "    <tr>\n",
              "      <th>181</th>\n",
              "      <td>skilled employee/official &amp; unknown/no savings...</td>\n",
              "      <td>0.301038</td>\n",
              "    </tr>\n",
              "    <tr>\n",
              "      <th>345</th>\n",
              "      <td>unknown/no savings account &amp; &gt;=7yrs &amp; none</td>\n",
              "      <td>0.301038</td>\n",
              "    </tr>\n",
              "    <tr>\n",
              "      <th>344</th>\n",
              "      <td>unknown/no savings account &amp; &gt;=7yrs &amp; rent</td>\n",
              "      <td>0.301038</td>\n",
              "    </tr>\n",
              "    <tr>\n",
              "      <th>244</th>\n",
              "      <td>non foreign &amp; unknown/no savings account &amp; &gt;=7yrs</td>\n",
              "      <td>0.301038</td>\n",
              "    </tr>\n",
              "  </tbody>\n",
              "</table>\n",
              "<p>358 rows × 2 columns</p>\n",
              "</div>"
            ],
            "text/plain": [
              "                                                 items   support\n",
              "0                            skilled employee/official  1.000000\n",
              "15                                                rent  1.000000\n",
              "34                    skilled employee/official & rent  1.000000\n",
              "52                                  non foreign & rent  1.000000\n",
              "55                                  non foreign & none  1.000000\n",
              "..                                                 ...       ...\n",
              "312       0 to 2 & unknown/no savings account & >=7yrs  0.301038\n",
              "181  skilled employee/official & unknown/no savings...  0.301038\n",
              "345         unknown/no savings account & >=7yrs & none  0.301038\n",
              "344         unknown/no savings account & >=7yrs & rent  0.301038\n",
              "244  non foreign & unknown/no savings account & >=7yrs  0.301038\n",
              "\n",
              "[358 rows x 2 columns]"
            ]
          },
          "metadata": {
            "tags": []
          },
          "execution_count": 47
        }
      ]
    },
    {
      "cell_type": "code",
      "metadata": {
        "colab": {
          "base_uri": "https://localhost:8080/"
        },
        "id": "O3i6LCG29NGJ",
        "outputId": "a5077403-46e8-454e-ee43-d527e326f838"
      },
      "source": [
        "tr=pd.DataFrame(transactions)\n",
        "eclat_instance = ECLAT(data=tr, verbose=True) #verbose=True to see the loading bar"
      ],
      "execution_count": null,
      "outputs": [
        {
          "output_type": "stream",
          "text": [
            "100%|██████████| 931/931 [00:08<00:00, 111.60it/s]\n",
            "100%|██████████| 931/931 [00:00<00:00, 18212.71it/s]\n",
            "100%|██████████| 931/931 [00:00<00:00, 3276.81it/s]\n"
          ],
          "name": "stderr"
        }
      ]
    },
    {
      "cell_type": "code",
      "metadata": {
        "id": "2FQuZfR69M-l",
        "colab": {
          "base_uri": "https://localhost:8080/"
        },
        "outputId": "dc99a4a9-c9ee-4201-b4dd-eb68309a1518"
      },
      "source": [
        "get_ECLAT_indexes, get_ECLAT_supports = eclat_instance.fit(min_support=0.3,\n",
        "                                                           min_combination=1,\n",
        "                                                           max_combination=3,\n",
        "                                                           separator=' & ',\n",
        "                                                           verbose=True)"
      ],
      "execution_count": null,
      "outputs": [
        {
          "output_type": "stream",
          "text": [
            "2it [00:00, 14.88it/s]"
          ],
          "name": "stderr"
        },
        {
          "output_type": "stream",
          "text": [
            "Combination 1 by 1\n"
          ],
          "name": "stdout"
        },
        {
          "output_type": "stream",
          "text": [
            "21it [00:01, 14.45it/s]\n",
            "2it [00:00, 13.88it/s]"
          ],
          "name": "stderr"
        },
        {
          "output_type": "stream",
          "text": [
            "Combination 2 by 2\n"
          ],
          "name": "stdout"
        },
        {
          "output_type": "stream",
          "text": [
            "210it [00:11, 18.84it/s]\n",
            "2it [00:00, 14.13it/s]"
          ],
          "name": "stderr"
        },
        {
          "output_type": "stream",
          "text": [
            "Combination 3 by 3\n"
          ],
          "name": "stdout"
        },
        {
          "output_type": "stream",
          "text": [
            "1330it [00:56, 23.50it/s]\n"
          ],
          "name": "stderr"
        }
      ]
    },
    {
      "cell_type": "code",
      "metadata": {
        "colab": {
          "base_uri": "https://localhost:8080/",
          "height": 419
        },
        "id": "itSjZJMUrTld",
        "outputId": "880954a6-71c9-4c32-81a1-87209f9093b7"
      },
      "source": [
        "pd.DataFrame(get_ECLAT_supports.items(),columns=['items','support']).sort_values('support',ascending=False)"
      ],
      "execution_count": null,
      "outputs": [
        {
          "output_type": "execute_result",
          "data": {
            "text/html": [
              "<div>\n",
              "<style scoped>\n",
              "    .dataframe tbody tr th:only-of-type {\n",
              "        vertical-align: middle;\n",
              "    }\n",
              "\n",
              "    .dataframe tbody tr th {\n",
              "        vertical-align: top;\n",
              "    }\n",
              "\n",
              "    .dataframe thead th {\n",
              "        text-align: right;\n",
              "    }\n",
              "</style>\n",
              "<table border=\"1\" class=\"dataframe\">\n",
              "  <thead>\n",
              "    <tr style=\"text-align: right;\">\n",
              "      <th></th>\n",
              "      <th>items</th>\n",
              "      <th>support</th>\n",
              "    </tr>\n",
              "  </thead>\n",
              "  <tbody>\n",
              "    <tr>\n",
              "      <th>0</th>\n",
              "      <td>skilled employee/official</td>\n",
              "      <td>1.000000</td>\n",
              "    </tr>\n",
              "    <tr>\n",
              "      <th>1</th>\n",
              "      <td>non foreign</td>\n",
              "      <td>1.000000</td>\n",
              "    </tr>\n",
              "    <tr>\n",
              "      <th>37</th>\n",
              "      <td>skilled employee/official &amp; rent</td>\n",
              "      <td>1.000000</td>\n",
              "    </tr>\n",
              "    <tr>\n",
              "      <th>40</th>\n",
              "      <td>skilled employee/official &amp; none</td>\n",
              "      <td>1.000000</td>\n",
              "    </tr>\n",
              "    <tr>\n",
              "      <th>246</th>\n",
              "      <td>non foreign &amp; 0 to 2 &amp; none</td>\n",
              "      <td>1.000000</td>\n",
              "    </tr>\n",
              "    <tr>\n",
              "      <th>...</th>\n",
              "      <td>...</td>\n",
              "      <td>...</td>\n",
              "    </tr>\n",
              "    <tr>\n",
              "      <th>155</th>\n",
              "      <td>skilled employee/official &amp; 0 &amp; 0 to 2</td>\n",
              "      <td>0.304211</td>\n",
              "    </tr>\n",
              "    <tr>\n",
              "      <th>128</th>\n",
              "      <td>skilled employee/official &amp; non foreign &amp; 0</td>\n",
              "      <td>0.304211</td>\n",
              "    </tr>\n",
              "    <tr>\n",
              "      <th>42</th>\n",
              "      <td>non foreign &amp; 0</td>\n",
              "      <td>0.304211</td>\n",
              "    </tr>\n",
              "    <tr>\n",
              "      <th>305</th>\n",
              "      <td>0 &amp; rent &amp; none</td>\n",
              "      <td>0.304211</td>\n",
              "    </tr>\n",
              "    <tr>\n",
              "      <th>288</th>\n",
              "      <td>1 credit &amp; no people liable &amp; no credits taken...</td>\n",
              "      <td>0.300000</td>\n",
              "    </tr>\n",
              "  </tbody>\n",
              "</table>\n",
              "<p>379 rows × 2 columns</p>\n",
              "</div>"
            ],
            "text/plain": [
              "                                                 items   support\n",
              "0                            skilled employee/official  1.000000\n",
              "1                                          non foreign  1.000000\n",
              "37                    skilled employee/official & rent  1.000000\n",
              "40                    skilled employee/official & none  1.000000\n",
              "246                        non foreign & 0 to 2 & none  1.000000\n",
              "..                                                 ...       ...\n",
              "155             skilled employee/official & 0 & 0 to 2  0.304211\n",
              "128        skilled employee/official & non foreign & 0  0.304211\n",
              "42                                     non foreign & 0  0.304211\n",
              "305                                    0 & rent & none  0.304211\n",
              "288  1 credit & no people liable & no credits taken...  0.300000\n",
              "\n",
              "[379 rows x 2 columns]"
            ]
          },
          "metadata": {
            "tags": []
          },
          "execution_count": 50
        }
      ]
    },
    {
      "cell_type": "markdown",
      "metadata": {
        "id": "bxsByViOYbsA"
      },
      "source": [
        "## FPGROWTH"
      ]
    },
    {
      "cell_type": "code",
      "metadata": {
        "id": "AM_cI9A-vpl_"
      },
      "source": [
        "# transform into the right format\n",
        "te = TransactionEncoder()\n",
        "te_good = te.fit(good_trs).transform(good_trs)\n",
        "fp_good = pd.DataFrame(te_good, columns=te.columns_)\n",
        "\n",
        "te_bad = te.fit(bad_trs).transform(bad_trs)\n",
        "fp_bad = pd.DataFrame(te_bad, columns=te.columns_)"
      ],
      "execution_count": null,
      "outputs": []
    },
    {
      "cell_type": "code",
      "metadata": {
        "colab": {
          "base_uri": "https://localhost:8080/",
          "height": 419
        },
        "id": "_lGA8MxlwUaG",
        "outputId": "ce51a696-578f-4132-9f2b-fdd19c00ef4a"
      },
      "source": [
        "# fp for good credidt - FPGrowth\n",
        "# at least 30% support\n",
        "fpgrowth(fp_good, min_support=0.3,max_len=3, use_colnames=True)"
      ],
      "execution_count": null,
      "outputs": [
        {
          "output_type": "execute_result",
          "data": {
            "text/html": [
              "<div>\n",
              "<style scoped>\n",
              "    .dataframe tbody tr th:only-of-type {\n",
              "        vertical-align: middle;\n",
              "    }\n",
              "\n",
              "    .dataframe tbody tr th {\n",
              "        vertical-align: top;\n",
              "    }\n",
              "\n",
              "    .dataframe thead th {\n",
              "        text-align: right;\n",
              "    }\n",
              "</style>\n",
              "<table border=\"1\" class=\"dataframe\">\n",
              "  <thead>\n",
              "    <tr style=\"text-align: right;\">\n",
              "      <th></th>\n",
              "      <th>support</th>\n",
              "      <th>itemsets</th>\n",
              "    </tr>\n",
              "  </thead>\n",
              "  <tbody>\n",
              "    <tr>\n",
              "      <th>0</th>\n",
              "      <td>1.000000</td>\n",
              "      <td>(0 to 2)</td>\n",
              "    </tr>\n",
              "    <tr>\n",
              "      <th>1</th>\n",
              "      <td>1.000000</td>\n",
              "      <td>(skilled employee/official)</td>\n",
              "    </tr>\n",
              "    <tr>\n",
              "      <th>2</th>\n",
              "      <td>1.000000</td>\n",
              "      <td>(rent)</td>\n",
              "    </tr>\n",
              "    <tr>\n",
              "      <th>3</th>\n",
              "      <td>1.000000</td>\n",
              "      <td>(none)</td>\n",
              "    </tr>\n",
              "    <tr>\n",
              "      <th>4</th>\n",
              "      <td>1.000000</td>\n",
              "      <td>(non foreign)</td>\n",
              "    </tr>\n",
              "    <tr>\n",
              "      <th>...</th>\n",
              "      <td>...</td>\n",
              "      <td>...</td>\n",
              "    </tr>\n",
              "    <tr>\n",
              "      <th>302</th>\n",
              "      <td>0.426626</td>\n",
              "      <td>(none, skilled employee/official, people liabl...</td>\n",
              "    </tr>\n",
              "    <tr>\n",
              "      <th>303</th>\n",
              "      <td>0.426626</td>\n",
              "      <td>(none, 0 to 2, people liable(under customer na...</td>\n",
              "    </tr>\n",
              "    <tr>\n",
              "      <th>304</th>\n",
              "      <td>0.426626</td>\n",
              "      <td>(rent, skilled employee/official, people liabl...</td>\n",
              "    </tr>\n",
              "    <tr>\n",
              "      <th>305</th>\n",
              "      <td>0.426626</td>\n",
              "      <td>(rent, 0 to 2, people liable(under customer na...</td>\n",
              "    </tr>\n",
              "    <tr>\n",
              "      <th>306</th>\n",
              "      <td>0.426626</td>\n",
              "      <td>(people liable(under customer name), 0 to 2, s...</td>\n",
              "    </tr>\n",
              "  </tbody>\n",
              "</table>\n",
              "<p>307 rows × 2 columns</p>\n",
              "</div>"
            ],
            "text/plain": [
              "      support                                           itemsets\n",
              "0    1.000000                                           (0 to 2)\n",
              "1    1.000000                        (skilled employee/official)\n",
              "2    1.000000                                             (rent)\n",
              "3    1.000000                                             (none)\n",
              "4    1.000000                                      (non foreign)\n",
              "..        ...                                                ...\n",
              "302  0.426626  (none, skilled employee/official, people liabl...\n",
              "303  0.426626  (none, 0 to 2, people liable(under customer na...\n",
              "304  0.426626  (rent, skilled employee/official, people liabl...\n",
              "305  0.426626  (rent, 0 to 2, people liable(under customer na...\n",
              "306  0.426626  (people liable(under customer name), 0 to 2, s...\n",
              "\n",
              "[307 rows x 2 columns]"
            ]
          },
          "metadata": {
            "tags": []
          },
          "execution_count": 52
        }
      ]
    },
    {
      "cell_type": "code",
      "metadata": {
        "colab": {
          "base_uri": "https://localhost:8080/",
          "height": 419
        },
        "id": "ELqDeYeF0CYM",
        "outputId": "7bbd41f9-963c-42d1-95eb-b5c7b35d7099"
      },
      "source": [
        "# fp for bad credidt - FPGrowth\n",
        "# at least 30% support\n",
        "fpgrowth(fp_bad, min_support=0.3,max_len=3, use_colnames=True)"
      ],
      "execution_count": null,
      "outputs": [
        {
          "output_type": "execute_result",
          "data": {
            "text/html": [
              "<div>\n",
              "<style scoped>\n",
              "    .dataframe tbody tr th:only-of-type {\n",
              "        vertical-align: middle;\n",
              "    }\n",
              "\n",
              "    .dataframe tbody tr th {\n",
              "        vertical-align: top;\n",
              "    }\n",
              "\n",
              "    .dataframe thead th {\n",
              "        text-align: right;\n",
              "    }\n",
              "</style>\n",
              "<table border=\"1\" class=\"dataframe\">\n",
              "  <thead>\n",
              "    <tr style=\"text-align: right;\">\n",
              "      <th></th>\n",
              "      <th>support</th>\n",
              "      <th>itemsets</th>\n",
              "    </tr>\n",
              "  </thead>\n",
              "  <tbody>\n",
              "    <tr>\n",
              "      <th>0</th>\n",
              "      <td>1.000000</td>\n",
              "      <td>(0 to 2)</td>\n",
              "    </tr>\n",
              "    <tr>\n",
              "      <th>1</th>\n",
              "      <td>1.000000</td>\n",
              "      <td>(non foreign)</td>\n",
              "    </tr>\n",
              "    <tr>\n",
              "      <th>2</th>\n",
              "      <td>1.000000</td>\n",
              "      <td>(rent)</td>\n",
              "    </tr>\n",
              "    <tr>\n",
              "      <th>3</th>\n",
              "      <td>1.000000</td>\n",
              "      <td>(skilled employee/official)</td>\n",
              "    </tr>\n",
              "    <tr>\n",
              "      <th>4</th>\n",
              "      <td>1.000000</td>\n",
              "      <td>(none)</td>\n",
              "    </tr>\n",
              "    <tr>\n",
              "      <th>...</th>\n",
              "      <td>...</td>\n",
              "      <td>...</td>\n",
              "    </tr>\n",
              "    <tr>\n",
              "      <th>353</th>\n",
              "      <td>0.404844</td>\n",
              "      <td>(&gt;=7yrs, rent, 0 to 2)</td>\n",
              "    </tr>\n",
              "    <tr>\n",
              "      <th>354</th>\n",
              "      <td>0.301038</td>\n",
              "      <td>(unknown/no savings account, &gt;=7yrs, rent)</td>\n",
              "    </tr>\n",
              "    <tr>\n",
              "      <th>355</th>\n",
              "      <td>0.404844</td>\n",
              "      <td>(&gt;=7yrs, 0 to 2, non foreign)</td>\n",
              "    </tr>\n",
              "    <tr>\n",
              "      <th>356</th>\n",
              "      <td>0.301038</td>\n",
              "      <td>(unknown/no savings account, &gt;=7yrs, non foreign)</td>\n",
              "    </tr>\n",
              "    <tr>\n",
              "      <th>357</th>\n",
              "      <td>0.301038</td>\n",
              "      <td>(unknown/no savings account, &gt;=7yrs, 0 to 2)</td>\n",
              "    </tr>\n",
              "  </tbody>\n",
              "</table>\n",
              "<p>358 rows × 2 columns</p>\n",
              "</div>"
            ],
            "text/plain": [
              "      support                                           itemsets\n",
              "0    1.000000                                           (0 to 2)\n",
              "1    1.000000                                      (non foreign)\n",
              "2    1.000000                                             (rent)\n",
              "3    1.000000                        (skilled employee/official)\n",
              "4    1.000000                                             (none)\n",
              "..        ...                                                ...\n",
              "353  0.404844                             (>=7yrs, rent, 0 to 2)\n",
              "354  0.301038         (unknown/no savings account, >=7yrs, rent)\n",
              "355  0.404844                      (>=7yrs, 0 to 2, non foreign)\n",
              "356  0.301038  (unknown/no savings account, >=7yrs, non foreign)\n",
              "357  0.301038       (unknown/no savings account, >=7yrs, 0 to 2)\n",
              "\n",
              "[358 rows x 2 columns]"
            ]
          },
          "metadata": {
            "tags": []
          },
          "execution_count": 53
        }
      ]
    },
    {
      "cell_type": "markdown",
      "metadata": {
        "id": "KT-4PoiBW7LG"
      },
      "source": [
        "### **Clustering**"
      ]
    },
    {
      "cell_type": "markdown",
      "metadata": {
        "id": "9n-CynCEULsw"
      },
      "source": [
        "KMeans"
      ]
    },
    {
      "cell_type": "code",
      "metadata": {
        "id": "JZISIl33gXAF",
        "colab": {
          "base_uri": "https://localhost:8080/",
          "height": 299
        },
        "outputId": "c64be5f7-6232-456c-9357-b7b33cad36e7"
      },
      "source": [
        "# Elbow method to determine K\n",
        "wcss = []\n",
        "\n",
        "for i in range(1,11):\n",
        "    kmeans = KMeans(n_clusters = i, init='k-means++', random_state = 42)\n",
        "    kmeans.fit(df)\n",
        "    wcss.append(kmeans.inertia_)\n",
        "    \n",
        "plt.plot(range(1,11), wcss)\n",
        "plt.title('Elbow Method')\n",
        "plt.xlabel('Cluster size')\n",
        "plt.ylabel('WCSS')\n",
        "plt.show()"
      ],
      "execution_count": null,
      "outputs": [
        {
          "output_type": "display_data",
          "data": {
            "image/png": "[encoded data removed]",
            "text/plain": [
              "<Figure size 432x288 with 1 Axes>"
            ]
          },
          "metadata": {
            "tags": []
          }
        }
      ]
    },
    {
      "cell_type": "code",
      "metadata": {
        "id": "HTkCk2r3XG4z"
      },
      "source": [
        "kmeans = KMeans(n_clusters = 2, init = 'k-means++', random_state = 42)\n",
        "y_means = kmeans.fit_predict(df)"
      ],
      "execution_count": null,
      "outputs": []
    },
    {
      "cell_type": "code",
      "metadata": {
        "id": "jTL8I6r0XGz1",
        "colab": {
          "base_uri": "https://localhost:8080/"
        },
        "outputId": "c40c84e5-9df4-469f-e31f-6dda3a1fa08d"
      },
      "source": [
        "y_means"
      ],
      "execution_count": null,
      "outputs": [
        {
          "output_type": "execute_result",
          "data": {
            "text/plain": [
              "array([1, 1, 1, 1, 1, 1, 0, 1, 0, 1, 1, 1, 1, 1, 0, 1, 1, 1, 1, 0, 0, 1,\n",
              "       1, 1, 0, 1, 1, 0, 1, 1, 1, 1, 1, 1, 1, 1, 1, 1, 1, 1, 1, 1, 1, 1,\n",
              "       1, 1, 1, 1, 1, 0, 1, 1, 1, 1, 1, 1, 0, 1, 1, 1, 1, 1, 1, 1, 1, 1,\n",
              "       1, 1, 1, 1, 1, 1, 1, 1, 1, 0, 1, 1, 1, 1, 0, 1, 1, 1, 1, 1, 1, 0,\n",
              "       0, 1, 0, 1, 0, 1, 1, 0, 0, 1, 1, 1, 1, 1, 1, 1, 1, 1, 1, 1, 0, 1,\n",
              "       1, 1, 1, 0, 0, 1, 1, 1, 0, 1, 1, 1, 1, 1, 1, 1, 1, 1, 1, 1, 1, 1,\n",
              "       1, 1, 1, 0, 1, 1, 1, 1, 1, 1, 1, 1, 1, 0, 1, 1, 1, 1, 0, 0, 1, 1,\n",
              "       1, 1, 1, 1, 1, 0, 0, 1, 1, 0, 1, 1, 1, 1, 1, 1, 1, 1, 0, 1, 1, 0,\n",
              "       1, 1, 0, 1, 1, 1, 1, 1, 1, 0, 1, 1, 0, 0, 1, 1, 1, 1, 0, 1, 0, 1,\n",
              "       1, 0, 1, 1, 1, 1, 1, 1, 0, 1, 1, 0, 0, 1, 1, 0, 1, 1, 1, 1, 1, 0,\n",
              "       1, 1, 1, 1, 1, 1, 1, 1, 0, 1, 1, 1, 1, 1, 1, 1, 0, 1, 0, 1, 1, 0,\n",
              "       1, 1, 1, 1, 1, 1, 1, 1, 1, 1, 1, 1, 1, 1, 1, 1, 0, 1, 1, 1, 1, 1,\n",
              "       1, 1, 1, 1, 1, 0, 1, 1, 1, 1, 1, 1, 1, 1, 1, 1, 1, 1, 0, 1, 1, 1,\n",
              "       1, 1, 0, 1, 1, 1, 1, 1, 1, 1, 0, 1, 1, 1, 1, 1, 1, 1, 1, 1, 1, 1,\n",
              "       0, 1, 1, 1, 1, 1, 1, 1, 1, 1, 1, 1, 1, 1, 1, 1, 0, 1, 1, 0, 1, 1,\n",
              "       0, 1, 1, 1, 1, 1, 1, 1, 1, 1, 1, 0, 1, 0, 1, 1, 1, 1, 0, 1, 0, 1,\n",
              "       1, 0, 1, 1, 1, 1, 0, 1, 1, 1, 1, 1, 1, 0, 1, 0, 1, 1, 0, 1, 1, 1,\n",
              "       1, 0, 0, 0, 1, 1, 0, 1, 1, 1, 1, 1, 1, 1, 0, 1, 1, 1, 1, 1, 1, 1,\n",
              "       1, 0, 1, 1, 1, 0, 1, 1, 1, 1, 1, 1, 1, 1, 1, 0, 0, 1, 1, 1, 1, 1,\n",
              "       0, 1, 1, 1, 0, 0, 1, 0, 1, 1, 1, 1, 0, 0, 1, 1, 0, 1, 1, 0, 1, 1,\n",
              "       1, 1, 0, 1, 0, 1, 1, 1, 1, 1, 1, 1, 1, 1, 1, 1, 1, 1, 1, 1, 1, 1,\n",
              "       1, 1, 1, 1, 1, 1, 1, 1, 1, 0, 1, 1, 0, 0, 1, 1, 1, 1, 1, 1, 1, 0,\n",
              "       1, 0, 0, 1, 0, 1, 1, 1, 0, 1, 1, 1, 1, 1, 1, 1, 1, 1, 1, 1, 1, 1,\n",
              "       1, 1, 1, 1, 1, 1, 1, 1, 1, 1, 1, 1, 1, 1, 1, 1, 1, 0, 1, 0, 1, 1,\n",
              "       1, 0, 1, 0, 1, 0, 1, 1, 0, 1, 0, 0, 1, 0, 0, 1, 1, 0, 0, 1, 1, 1,\n",
              "       1, 0, 1, 0, 1, 1, 1, 1, 1, 0, 1, 0, 0, 1, 1, 1, 0, 0, 1, 1, 1, 1,\n",
              "       1, 1, 0, 1, 1, 1, 1, 1, 0, 1, 0, 1, 1, 1, 0, 0, 1, 1, 0, 1, 1, 1,\n",
              "       1, 1, 1, 0, 1, 1, 1, 1, 1, 1, 0, 1, 1, 0, 0, 0, 1, 1, 0, 1, 1, 0,\n",
              "       1, 1, 1, 0, 1, 1, 1, 1, 1, 1, 1, 1, 1, 1, 1, 1, 1, 1, 1, 1, 1, 1,\n",
              "       1, 1, 1, 1, 1, 1, 0, 1, 1, 1, 1, 1, 1, 1, 0, 1, 1, 1, 1, 1, 1, 0,\n",
              "       1, 0, 0, 0, 1, 1, 1, 1, 1, 0, 0, 1, 1, 0, 1, 1, 1, 0, 0, 1, 0, 1,\n",
              "       1, 0, 1, 1, 1, 1, 0, 0, 0, 0, 1, 1, 0, 1, 1, 1, 1, 0, 1, 1, 1, 0,\n",
              "       0, 1, 1, 0, 1, 1, 1, 1, 1, 1, 0, 1, 1, 1, 1, 1, 1, 1, 0, 0, 1, 1,\n",
              "       0, 1, 1, 1, 1, 1, 1, 0, 1, 1, 0, 1, 1, 0, 0, 1, 0, 1, 1, 1, 1, 1,\n",
              "       1, 0, 1, 1, 0, 1, 1, 1, 1, 1, 1, 1, 1, 1, 1, 1, 1, 1, 1, 0, 1, 1,\n",
              "       0, 1, 1, 0, 1, 1, 1, 1, 1, 0, 0, 1, 1, 1, 1, 1, 0, 1, 0, 1, 0, 0,\n",
              "       1, 0, 0, 1, 1, 0, 1, 1, 1, 1, 0, 0, 1, 1, 1, 0, 1, 1, 1, 1, 1, 1,\n",
              "       1, 1, 1, 1, 1, 0, 1, 1, 0, 1, 1, 0, 1, 1, 0, 1, 0, 1, 1, 0, 0, 1,\n",
              "       1, 1, 1, 0, 1, 1, 0, 1, 0, 1, 0, 0, 0, 1, 1, 1, 0, 1, 1, 1, 1, 0,\n",
              "       1, 1, 1, 1, 1, 1, 1, 1, 0, 0, 1, 0, 1, 1, 1, 1, 1, 0, 0, 1, 1, 1,\n",
              "       0, 1, 1, 1, 1, 0, 0, 1, 1, 1, 1, 1, 1, 1, 0, 1, 1, 0, 1, 0, 1, 0,\n",
              "       1, 1, 0, 1, 1, 0, 1, 1, 1, 1, 0, 1, 0, 1, 1, 1, 0, 0, 1, 1, 1, 0,\n",
              "       0, 1, 0, 1, 0, 1, 1, 1, 1, 0, 1, 0, 1, 1, 1, 1, 1, 0, 0, 1, 0, 1,\n",
              "       1, 0, 0, 0], dtype=int32)"
            ]
          },
          "metadata": {
            "tags": []
          },
          "execution_count": 76
        }
      ]
    },
    {
      "cell_type": "code",
      "metadata": {
        "id": "6pku4XEIXGsw"
      },
      "source": [
        "# Let's check clusters for status and amount\n",
        "X = df.iloc[:, [0,3]].values"
      ],
      "execution_count": null,
      "outputs": []
    },
    {
      "cell_type": "code",
      "metadata": {
        "id": "YwbUvZ1bXtsM",
        "colab": {
          "base_uri": "https://localhost:8080/",
          "height": 354
        },
        "outputId": "d23d68b7-db13-4f4a-ada1-0797966f77b9"
      },
      "source": [
        "# before clustering\n",
        "fig = plt.figure(figsize=(10,5))\n",
        "plt.scatter(df.values[:,0], df.values[:,1], s=100, c ='red', label = 'Customer info')\n",
        "\n",
        "plt.title('Before clustering')\n",
        "plt.xlabel('Status')\n",
        "plt.ylabel('Amount')\n",
        "plt.legend()\n",
        "plt.show()"
      ],
      "execution_count": null,
      "outputs": [
        {
          "output_type": "display_data",
          "data": {
            "image/png": "[encoded data removed]",
            "text/plain": [
              "<Figure size 720x360 with 1 Axes>"
            ]
          },
          "metadata": {
            "tags": []
          }
        }
      ]
    },
    {
      "cell_type": "code",
      "metadata": {
        "id": "4FLbUloPYeaf"
      },
      "source": [
        "kmeans = KMeans(n_clusters = 2, init = 'k-means++', random_state = 42)\n",
        "y_means = kmeans.fit_predict(X)"
      ],
      "execution_count": null,
      "outputs": []
    },
    {
      "cell_type": "code",
      "metadata": {
        "id": "UgXvyUitYkvB",
        "colab": {
          "base_uri": "https://localhost:8080/",
          "height": 354
        },
        "outputId": "08779416-9628-4752-9a72-f7385ef62508"
      },
      "source": [
        "#Lets plot those clusters\n",
        "fig = plt.figure(figsize=(10,5))\n",
        "\n",
        "plt.scatter(X[y_means==0,0], X[y_means==0,1], s=100, c ='magenta', label='group1')\n",
        "plt.scatter(X[y_means==1,0], X[y_means==1,1], s=100, c= 'blue', label='group2')\n",
        "plt.scatter(X[y_means==2,0], X[y_means==2,1], s=100, c = 'green', label = 'group3')\n",
        "\n",
        "plt.scatter(kmeans.cluster_centers_[:,0], kmeans.cluster_centers_[:,1], s=200, c='red', label = 'centroids')\n",
        "\n",
        "plt.title('After clustering')\n",
        "plt.xlabel('Status')\n",
        "plt.ylabel('Amount')\n",
        "\n",
        "plt.legend()\n",
        "plt.show()"
      ],
      "execution_count": null,
      "outputs": [
        {
          "output_type": "display_data",
          "data": {
            "image/png": "[encoded data removed]",
            "text/plain": [
              "<Figure size 720x360 with 1 Axes>"
            ]
          },
          "metadata": {
            "tags": []
          }
        }
      ]
    },
    {
      "cell_type": "code",
      "metadata": {
        "id": "buOJaBUsYr5B"
      },
      "source": [
        "#Feature Scaling for PCA\n",
        "scaler = StandardScaler()\n",
        "sc_df = scaler.fit_transform(df)"
      ],
      "execution_count": null,
      "outputs": []
    },
    {
      "cell_type": "code",
      "metadata": {
        "id": "0NdnJWSwYrzD",
        "colab": {
          "base_uri": "https://localhost:8080/"
        },
        "outputId": "1b787e3e-cced-4d53-a228-f3d0ec9ac2f5"
      },
      "source": [
        "pca = PCA()\n",
        "pca.fit(sc_df)"
      ],
      "execution_count": null,
      "outputs": [
        {
          "output_type": "execute_result",
          "data": {
            "text/plain": [
              "PCA(copy=True, iterated_power='auto', n_components=None, random_state=None,\n",
              "    svd_solver='auto', tol=0.0, whiten=False)"
            ]
          },
          "metadata": {
            "tags": []
          },
          "execution_count": 62
        }
      ]
    },
    {
      "cell_type": "code",
      "metadata": {
        "id": "UJgLUDiuYrs9",
        "colab": {
          "base_uri": "https://localhost:8080/",
          "height": 843
        },
        "outputId": "1fc87604-f956-444d-f92b-cf7290f6e871"
      },
      "source": [
        "# cumilative variance plot to decide the numbers of dimension\n",
        "# A rule of thumb is to preserve around 80 % of the variance - in our case we need 9 components\n",
        "plt.figure(figsize=(10, 14))\n",
        "plt.plot(range(1,14), pca.explained_variance_ratio_.cumsum(), marker = 'o')\n",
        "plt.xlabel('number of components')\n",
        "plt.ylabel('cumulative explained variance')"
      ],
      "execution_count": null,
      "outputs": [
        {
          "output_type": "execute_result",
          "data": {
            "text/plain": [
              "Text(0, 0.5, 'cumulative explained variance')"
            ]
          },
          "metadata": {
            "tags": []
          },
          "execution_count": 63
        },
        {
          "output_type": "display_data",
          "data": {
            "image/png": "[encoded data removed]",
            "text/plain": [
              "<Figure size 720x1008 with 1 Axes>"
            ]
          },
          "metadata": {
            "tags": []
          }
        }
      ]
    },
    {
      "cell_type": "code",
      "metadata": {
        "id": "XL4Nj82BZCH8"
      },
      "source": [
        "pca = PCA(n_components=9)\n",
        "pca.fit_transform(sc_df)\n",
        "scores_pca = pca.transform(sc_df)"
      ],
      "execution_count": null,
      "outputs": []
    },
    {
      "cell_type": "code",
      "metadata": {
        "id": "5ULHGWunZLPZ"
      },
      "source": [
        "kmeans = KMeans(n_clusters = 3, init = 'k-means++', random_state = 42)\n",
        "y_means = kmeans.fit_predict(scores_pca)"
      ],
      "execution_count": null,
      "outputs": []
    },
    {
      "cell_type": "code",
      "metadata": {
        "id": "USpIfdQcZLLm",
        "colab": {
          "base_uri": "https://localhost:8080/",
          "height": 224
        },
        "outputId": "4f8979f8-f47b-480b-e310-351ec695c6b8"
      },
      "source": [
        "# creating new dataframe that contains original dataframe, pca scores and label of the clusters\n",
        "df_kmeans = pd.concat([df.reset_index(drop=True),pd.DataFrame(scores_pca)], axis=1)\n",
        "df_kmeans.columns.values[-9:] = ['component1', 'component2', 'component3', 'component4', 'component5', 'component6', 'component7', 'component8', 'component9']\n",
        "df_kmeans['group'] = y_means\n",
        "df_kmeans.head()"
      ],
      "execution_count": null,
      "outputs": [
        {
          "output_type": "execute_result",
          "data": {
            "text/html": [
              "<div>\n",
              "<style scoped>\n",
              "    .dataframe tbody tr th:only-of-type {\n",
              "        vertical-align: middle;\n",
              "    }\n",
              "\n",
              "    .dataframe tbody tr th {\n",
              "        vertical-align: top;\n",
              "    }\n",
              "\n",
              "    .dataframe thead th {\n",
              "        text-align: right;\n",
              "    }\n",
              "</style>\n",
              "<table border=\"1\" class=\"dataframe\">\n",
              "  <thead>\n",
              "    <tr style=\"text-align: right;\">\n",
              "      <th></th>\n",
              "      <th>status</th>\n",
              "      <th>duration</th>\n",
              "      <th>credit_history</th>\n",
              "      <th>amount</th>\n",
              "      <th>savings</th>\n",
              "      <th>employment_duration</th>\n",
              "      <th>installment_rate</th>\n",
              "      <th>personal_status_sex</th>\n",
              "      <th>property</th>\n",
              "      <th>age</th>\n",
              "      <th>number_credits</th>\n",
              "      <th>telephone</th>\n",
              "      <th>credit_risk</th>\n",
              "      <th>component1</th>\n",
              "      <th>component2</th>\n",
              "      <th>component3</th>\n",
              "      <th>component4</th>\n",
              "      <th>component5</th>\n",
              "      <th>component6</th>\n",
              "      <th>component7</th>\n",
              "      <th>component8</th>\n",
              "      <th>component9</th>\n",
              "      <th>group</th>\n",
              "    </tr>\n",
              "  </thead>\n",
              "  <tbody>\n",
              "    <tr>\n",
              "      <th>0</th>\n",
              "      <td>1</td>\n",
              "      <td>18.0</td>\n",
              "      <td>4</td>\n",
              "      <td>1049.0</td>\n",
              "      <td>1</td>\n",
              "      <td>2</td>\n",
              "      <td>4</td>\n",
              "      <td>2</td>\n",
              "      <td>2</td>\n",
              "      <td>21.0</td>\n",
              "      <td>1</td>\n",
              "      <td>1</td>\n",
              "      <td>1</td>\n",
              "      <td>-0.816478</td>\n",
              "      <td>-1.673227</td>\n",
              "      <td>-0.191824</td>\n",
              "      <td>0.888410</td>\n",
              "      <td>-0.338341</td>\n",
              "      <td>1.330565</td>\n",
              "      <td>0.355002</td>\n",
              "      <td>-0.423826</td>\n",
              "      <td>-0.295942</td>\n",
              "      <td>1</td>\n",
              "    </tr>\n",
              "    <tr>\n",
              "      <th>1</th>\n",
              "      <td>1</td>\n",
              "      <td>9.0</td>\n",
              "      <td>4</td>\n",
              "      <td>2799.0</td>\n",
              "      <td>1</td>\n",
              "      <td>3</td>\n",
              "      <td>2</td>\n",
              "      <td>3</td>\n",
              "      <td>1</td>\n",
              "      <td>36.0</td>\n",
              "      <td>2</td>\n",
              "      <td>1</td>\n",
              "      <td>1</td>\n",
              "      <td>-1.532237</td>\n",
              "      <td>-0.382361</td>\n",
              "      <td>0.130500</td>\n",
              "      <td>2.116968</td>\n",
              "      <td>-0.176154</td>\n",
              "      <td>-1.071782</td>\n",
              "      <td>-0.485821</td>\n",
              "      <td>0.836006</td>\n",
              "      <td>0.081845</td>\n",
              "      <td>2</td>\n",
              "    </tr>\n",
              "    <tr>\n",
              "      <th>2</th>\n",
              "      <td>2</td>\n",
              "      <td>12.0</td>\n",
              "      <td>2</td>\n",
              "      <td>841.0</td>\n",
              "      <td>2</td>\n",
              "      <td>4</td>\n",
              "      <td>2</td>\n",
              "      <td>2</td>\n",
              "      <td>1</td>\n",
              "      <td>23.0</td>\n",
              "      <td>1</td>\n",
              "      <td>1</td>\n",
              "      <td>1</td>\n",
              "      <td>-1.324625</td>\n",
              "      <td>-1.773037</td>\n",
              "      <td>0.967533</td>\n",
              "      <td>-0.256336</td>\n",
              "      <td>0.349337</td>\n",
              "      <td>-0.154068</td>\n",
              "      <td>-0.844229</td>\n",
              "      <td>-0.009065</td>\n",
              "      <td>-0.514930</td>\n",
              "      <td>1</td>\n",
              "    </tr>\n",
              "    <tr>\n",
              "      <th>3</th>\n",
              "      <td>4</td>\n",
              "      <td>18.0</td>\n",
              "      <td>4</td>\n",
              "      <td>1098.0</td>\n",
              "      <td>1</td>\n",
              "      <td>1</td>\n",
              "      <td>4</td>\n",
              "      <td>2</td>\n",
              "      <td>3</td>\n",
              "      <td>62.0</td>\n",
              "      <td>2</td>\n",
              "      <td>1</td>\n",
              "      <td>1</td>\n",
              "      <td>-1.523778</td>\n",
              "      <td>0.848703</td>\n",
              "      <td>-0.374189</td>\n",
              "      <td>1.335615</td>\n",
              "      <td>1.308898</td>\n",
              "      <td>1.139573</td>\n",
              "      <td>0.890795</td>\n",
              "      <td>-0.738411</td>\n",
              "      <td>0.218060</td>\n",
              "      <td>2</td>\n",
              "    </tr>\n",
              "    <tr>\n",
              "      <th>4</th>\n",
              "      <td>2</td>\n",
              "      <td>24.0</td>\n",
              "      <td>2</td>\n",
              "      <td>3758.0</td>\n",
              "      <td>3</td>\n",
              "      <td>1</td>\n",
              "      <td>1</td>\n",
              "      <td>2</td>\n",
              "      <td>4</td>\n",
              "      <td>23.0</td>\n",
              "      <td>1</td>\n",
              "      <td>1</td>\n",
              "      <td>1</td>\n",
              "      <td>1.309148</td>\n",
              "      <td>-1.275822</td>\n",
              "      <td>2.373722</td>\n",
              "      <td>0.137826</td>\n",
              "      <td>0.124730</td>\n",
              "      <td>0.373030</td>\n",
              "      <td>-0.114331</td>\n",
              "      <td>-0.863728</td>\n",
              "      <td>1.574127</td>\n",
              "      <td>1</td>\n",
              "    </tr>\n",
              "  </tbody>\n",
              "</table>\n",
              "</div>"
            ],
            "text/plain": [
              "   status  duration  credit_history  ...  component8  component9  group\n",
              "0       1      18.0               4  ...   -0.423826   -0.295942      1\n",
              "1       1       9.0               4  ...    0.836006    0.081845      2\n",
              "2       2      12.0               2  ...   -0.009065   -0.514930      1\n",
              "3       4      18.0               4  ...   -0.738411    0.218060      2\n",
              "4       2      24.0               2  ...   -0.863728    1.574127      1\n",
              "\n",
              "[5 rows x 23 columns]"
            ]
          },
          "metadata": {
            "tags": []
          },
          "execution_count": 66
        }
      ]
    },
    {
      "cell_type": "code",
      "metadata": {
        "id": "7P5u6gWZZdze",
        "colab": {
          "base_uri": "https://localhost:8080/",
          "height": 353
        },
        "outputId": "26d9e1d9-c70e-4a44-d777-62c17df2e04b"
      },
      "source": [
        "# plot data by the 1st 2 PCA components\n",
        "x_axis = df_kmeans['component1']\n",
        "y_axis = df_kmeans['component2']\n",
        "#plt.figure(figsize=(10,5))\n",
        "sns.scatterplot(x_axis, y_axis, hue = df_kmeans['group'])\n",
        "plt.title('Clusters by PCA components')\n",
        "plt.show()"
      ],
      "execution_count": null,
      "outputs": [
        {
          "output_type": "stream",
          "text": [
            "/usr/local/lib/python3.6/dist-packages/seaborn/_decorators.py:43: FutureWarning: Pass the following variables as keyword args: x, y. From version 0.12, the only valid positional argument will be `data`, and passing other arguments without an explicit keyword will result in an error or misinterpretation.\n",
            "  FutureWarning\n"
          ],
          "name": "stderr"
        },
        {
          "output_type": "display_data",
          "data": {
            "image/png": "[encoded data removed]",
            "text/plain": [
              "<Figure size 432x288 with 1 Axes>"
            ]
          },
          "metadata": {
            "tags": []
          }
        }
      ]
    },
    {
      "cell_type": "markdown",
      "metadata": {
        "id": "EIWgLgSGUTX8"
      },
      "source": [
        "DBSCAN"
      ]
    },
    {
      "cell_type": "code",
      "metadata": {
        "id": "HUd227VKvi82",
        "colab": {
          "base_uri": "https://localhost:8080/",
          "height": 282
        },
        "outputId": "00194532-5db8-4ef5-b8e9-d1d32bd33b93"
      },
      "source": [
        "neigh = NearestNeighbors(n_neighbors=2)\n",
        "nbrs = neigh.fit(scores_pca)\n",
        "distances, indices = nbrs.kneighbors(scores_pca)\n",
        "distances = np.sort(distances, axis=0)\n",
        "distances = distances[:,1]\n",
        "plt.plot(distances)\n",
        "#USING THE MAXIMUM CURVEATURE TO DECIDE THE OPTIMAL EPS"
      ],
      "execution_count": null,
      "outputs": [
        {
          "output_type": "execute_result",
          "data": {
            "text/plain": [
              "[<matplotlib.lines.Line2D at 0x7f2155bbadd8>]"
            ]
          },
          "metadata": {
            "tags": []
          },
          "execution_count": 68
        },
        {
          "output_type": "display_data",
          "data": {
            "image/png": "[encoded data removed]",
            "text/plain": [
              "<Figure size 432x288 with 1 Axes>"
            ]
          },
          "metadata": {
            "tags": []
          }
        }
      ]
    },
    {
      "cell_type": "code",
      "metadata": {
        "id": "EpJLNu1lcaSZ"
      },
      "source": [
        "def unique(list1): \n",
        "  unique_list = [] \n",
        "  for x in list1: \n",
        "      if x not in unique_list: \n",
        "          unique_list.append(x)\n",
        "  return unique_list"
      ],
      "execution_count": null,
      "outputs": []
    },
    {
      "cell_type": "code",
      "metadata": {
        "id": "9ov5__b54qxV",
        "colab": {
          "base_uri": "https://localhost:8080/"
        },
        "outputId": "648b90b9-adc7-4e74-d105-bdcb235bb159"
      },
      "source": [
        "nclus=[]\n",
        "for i in range(2,30):\n",
        "  db=DBSCAN(eps=2.0, min_samples=i).fit(scores_pca)\n",
        "  print(\"min_samples=\",i,unique(db.labels_))\n",
        "  # nclus.append(len(unique(db.labels_)))\n",
        "\n",
        "# plt.plot(range(1,10),nclus)\n",
        "# plt.xlabel(\"Min samples\")\n",
        "# plt.ylabel(\"Number of Clusters\")\n"
      ],
      "execution_count": null,
      "outputs": [
        {
          "output_type": "stream",
          "text": [
            "min_samples= 2 [0, -1, 1, 2, 3, 4, 5, 6, 7, 8, 9, 10, 11, 12, 13, 14, 15, 16, 17]\n",
            "min_samples= 3 [0, -1, 4, 3, 1, 2, 5]\n",
            "min_samples= 4 [0, -1, 1, 2, 4, 3]\n",
            "min_samples= 5 [0, -1, 1]\n",
            "min_samples= 6 [0, -1, 1]\n",
            "min_samples= 7 [0, -1, 1]\n",
            "min_samples= 8 [0, -1, 1]\n",
            "min_samples= 9 [0, -1, 1]\n",
            "min_samples= 10 [0, -1]\n",
            "min_samples= 11 [0, -1]\n",
            "min_samples= 12 [0, -1, 1]\n",
            "min_samples= 13 [0, -1, 1]\n",
            "min_samples= 14 [0, -1]\n",
            "min_samples= 15 [0, -1]\n",
            "min_samples= 16 [0, -1]\n",
            "min_samples= 17 [0, -1, 1]\n",
            "min_samples= 18 [0, -1]\n",
            "min_samples= 19 [0, -1]\n",
            "min_samples= 20 [0, -1]\n",
            "min_samples= 21 [0, -1]\n",
            "min_samples= 22 [0, -1]\n",
            "min_samples= 23 [0, -1]\n",
            "min_samples= 24 [0, -1]\n",
            "min_samples= 25 [0, -1]\n",
            "min_samples= 26 [0, -1]\n",
            "min_samples= 27 [0, -1]\n",
            "min_samples= 28 [0, -1]\n",
            "min_samples= 29 [0, -1]\n"
          ],
          "name": "stdout"
        }
      ]
    },
    {
      "cell_type": "code",
      "metadata": {
        "id": "inLLgTuT78m5",
        "colab": {
          "base_uri": "https://localhost:8080/"
        },
        "outputId": "aefa2a3d-a554-4c8c-f52d-da2ed1c11a7b"
      },
      "source": [
        "dbs=DBSCAN(eps=2.0, min_samples=4).fit(scores_pca)\n",
        "dbs.labels_"
      ],
      "execution_count": null,
      "outputs": [
        {
          "output_type": "execute_result",
          "data": {
            "text/plain": [
              "array([ 0,  0,  0,  0,  0,  0, -1,  0,  0, -1,  0,  0, -1,  0,  0,  0,  0,\n",
              "        0,  0, -1,  0,  0,  0,  0, -1,  0,  0,  0,  0,  0, -1,  0,  0,  0,\n",
              "        0,  0, -1,  0,  0,  0,  0,  0,  0,  0,  0, -1,  0,  0, -1,  0, -1,\n",
              "        0,  0,  0,  0, -1,  0,  0,  0,  0,  0,  0,  0,  0,  0,  0,  0,  0,\n",
              "        0,  0,  0,  0,  0,  0,  0,  0,  0,  0,  0,  0, -1, -1,  0,  0,  0,\n",
              "        0,  0,  0,  0,  0, -1,  0, -1,  0,  0,  0, -1,  0,  0,  0,  0,  0,\n",
              "        0,  0,  0,  0,  0,  0,  0,  0,  0,  0,  0,  0,  0,  0,  0,  0, -1,\n",
              "        0,  0,  0,  0,  0,  0,  0,  0,  0,  0,  0,  0, -1,  0, -1, -1,  0,\n",
              "        0,  0,  0,  0, -1,  0,  0,  0,  0, -1,  0,  0,  0,  0,  0,  0, -1,\n",
              "        0, -1,  0,  0,  0, -1,  0,  0,  0,  0,  0,  0,  0,  0,  0, -1,  0,\n",
              "        0,  0,  0,  0,  0, -1,  0,  0,  0,  0,  0,  0,  0,  0, -1, -1,  0,\n",
              "        0,  0, -1,  0,  0,  0,  0, -1,  0, -1,  0,  0,  0,  0,  0,  0,  0,\n",
              "        0,  1, -1,  0,  0,  0,  0,  0,  0,  0,  0,  0,  0,  0,  0,  0,  0,\n",
              "        0, -1,  0,  0,  0,  0, -1,  0,  0,  0,  0,  0,  0,  0,  0,  0,  0,\n",
              "       -1,  0,  0,  0,  0,  0,  0,  0,  0,  0,  0,  0,  0,  0,  0,  0,  0,\n",
              "        0,  0,  0,  0,  0,  0,  0,  0,  0,  0,  0,  0,  0,  0,  0,  0,  0,\n",
              "       -1, -1,  0,  0,  0,  0,  0,  0,  0,  0,  0,  0,  0,  1,  0,  0,  0,\n",
              "        0,  0,  0,  0,  0,  1,  0, -1,  0,  0,  0,  0,  0,  0,  0,  0,  0,\n",
              "        0,  0,  0,  0,  0,  0,  0, -1,  0,  0,  0, -1,  0,  0,  0,  0,  0,\n",
              "        0, -1,  0,  0,  2,  0,  0, -1,  0,  0,  0,  0,  0,  0, -1,  0,  0,\n",
              "        0,  0,  0, -1,  0,  0,  0,  0,  0,  0,  2,  0,  0, -1,  0,  0,  0,\n",
              "        0,  0,  0, -1,  0, -1,  0,  0,  0,  0,  0,  0,  0,  0,  0,  0, -1,\n",
              "        0,  0,  0,  0,  0,  0,  0,  0,  0,  0,  0,  0,  0, -1, -1,  0,  0,\n",
              "        0,  0, -1,  0,  0,  0,  0, -1,  0,  1,  0, -1,  0, -1,  0,  0,  0,\n",
              "        0, -1,  0,  0,  0,  0,  0,  0,  0,  0,  0,  0,  0,  0,  0,  0,  0,\n",
              "       -1,  0,  0,  0,  0, -1,  0,  0,  0, -1,  0,  0,  0,  0,  0,  0,  0,\n",
              "        2,  1,  0,  0,  0,  0, -1,  0,  0,  0,  0,  0, -1,  0,  0,  0,  0,\n",
              "        0,  0,  0,  0,  0,  0,  0,  0,  0,  0,  0,  0,  0,  0,  0,  0,  0,\n",
              "        0, -1,  0,  0,  0,  0,  0,  0,  0,  0, -1,  0,  0,  0,  0, -1, -1,\n",
              "        0,  0,  0,  0,  0,  0,  0,  0,  0,  0,  0,  0,  0,  0,  0,  0,  0,\n",
              "        0,  0,  0,  0,  0,  0,  0,  0,  0,  0,  0,  0,  0, -1,  0, -1, -1,\n",
              "       -1,  0,  0,  0,  0,  0,  0,  0,  0,  0,  0,  0,  0,  0,  0, -1,  0,\n",
              "        0,  0, -1,  0,  0,  0,  0,  0,  0, -1,  0,  0,  0,  0,  0, -1,  0,\n",
              "        0,  0,  0,  0,  0,  0,  0,  0, -1,  0,  0,  0,  0,  0,  0,  0,  0,\n",
              "        0,  0,  0,  0, -1,  0,  0,  0, -1, -1,  0,  0,  0, -1, -1,  0, -1,\n",
              "        0,  0, -1,  0,  0,  0,  0, -1,  0,  0,  0,  0,  0, -1, -1,  0,  0,\n",
              "        2,  0,  0,  0,  0,  0,  0,  0,  0, -1,  0,  0,  0,  0,  0, -1,  0,\n",
              "        0,  0,  0,  0,  0,  0,  0,  0,  0,  0, -1, -1,  0,  0,  0,  0,  0,\n",
              "        0,  0,  0,  0,  0,  0, -1,  0,  0,  0,  0,  0,  0,  0, -1, -1,  0,\n",
              "       -1, -1, -1,  0,  0,  0,  0,  0,  0,  0,  2,  0,  0,  0,  0,  0,  0,\n",
              "        0,  0,  0,  0,  0,  0,  0,  0,  0, -1,  0,  0,  0,  0, -1,  0,  0,\n",
              "        0,  0, -1,  0,  0, -1, -1,  0,  0,  0, -1, -1, -1,  0,  0, -1,  0,\n",
              "       -1,  0, -1,  0,  0, -1,  0, -1,  0,  0,  0,  0,  0,  0,  0,  0,  0,\n",
              "        0,  0,  0,  0,  0, -1, -1,  0,  0, -1,  0,  0,  0,  0,  0,  0, -1,\n",
              "       -1,  0,  0,  0, -1,  0, -1,  0,  0,  0,  0,  0,  0,  0,  0,  0, -1,\n",
              "        0,  0,  4,  0,  0,  0,  0,  0, -1,  0, -1,  0,  0,  0, -1,  0,  0,\n",
              "        0,  0,  0,  0, -1,  0,  0,  0,  0, -1,  0,  0,  0,  0, -1,  0,  0,\n",
              "        0,  0,  0,  0,  0, -1, -1,  0,  3,  0,  0, -1,  0,  0,  0, -1,  0,\n",
              "        0,  0, -1,  0,  0,  0,  0,  0,  0,  0,  0,  0, -1,  0, -1,  0, -1,\n",
              "       -1,  0,  0,  0,  0,  0,  0,  0, -1,  0,  0,  0,  0,  0,  0,  0,  0,\n",
              "        0,  0, -1,  0,  0,  0,  0,  0,  0,  4,  0,  0,  0,  0,  0,  0,  0,\n",
              "       -1,  0,  0,  0,  0,  0,  0,  0,  0,  4,  0,  0,  0,  0,  0,  0,  0,\n",
              "        0,  0,  0,  0,  0, -1,  0,  0,  0,  0, -1,  0,  0,  3,  0, -1,  0,\n",
              "       -1,  0, -1, -1, -1,  0, -1,  0, -1, -1,  0,  0,  0, -1,  0,  0,  0,\n",
              "       -1,  0,  0,  0,  0,  0,  0,  0,  0,  0, -1,  0,  0, -1,  0,  0,  0,\n",
              "       -1, -1,  0,  0,  0,  0,  0, -1, -1,  0,  0,  0,  0, -1, -1])"
            ]
          },
          "metadata": {
            "tags": []
          },
          "execution_count": 71
        }
      ]
    },
    {
      "cell_type": "code",
      "metadata": {
        "id": "S7mFk3NuPAcZ",
        "colab": {
          "base_uri": "https://localhost:8080/",
          "height": 282
        },
        "outputId": "535c36fc-336e-48e5-b764-d33ad5855a39"
      },
      "source": [
        "x_axis = df_kmeans['component1']\n",
        "y_axis = df_kmeans['component2']\n",
        "#plt.figure(figsize=(10,14))\n",
        "plt.scatter(x_axis, y_axis, c = dbs.labels_)\n",
        "plt.title('Clusters by PCA components')\n",
        "plt.show()\n"
      ],
      "execution_count": null,
      "outputs": [
        {
          "output_type": "display_data",
          "data": {
            "image/png": "[encoded data removed]",
            "text/plain": [
              "<Figure size 432x288 with 1 Axes>"
            ]
          },
          "metadata": {
            "tags": []
          }
        }
      ]
    },
    {
      "cell_type": "code",
      "metadata": {
        "id": "-942XVJ2esvX",
        "colab": {
          "base_uri": "https://localhost:8080/"
        },
        "outputId": "d6b90882-f359-4ef0-d5e8-e21ee77efb88"
      },
      "source": [
        "print(\"KMEANS:-\",davies_bouldin_score(scores_pca,y_means))\n",
        "print(\"DBSCAN:-\",davies_bouldin_score(scores_pca,dbs.labels_))"
      ],
      "execution_count": null,
      "outputs": [
        {
          "output_type": "stream",
          "text": [
            "KMEANS:- 2.1405064495000152\n",
            "DBSCAN:- 2.3773978040908035\n"
          ],
          "name": "stdout"
        }
      ]
    }
  ]
}